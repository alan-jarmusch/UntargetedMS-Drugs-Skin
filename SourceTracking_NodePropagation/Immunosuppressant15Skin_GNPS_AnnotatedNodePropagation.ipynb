{
 "cells": [
  {
   "cell_type": "markdown",
   "metadata": {},
   "source": [
    "# Determine how many nodes connected to annotated nodes"
   ]
  },
  {
   "cell_type": "code",
   "execution_count": 1,
   "metadata": {},
   "outputs": [],
   "source": [
    "suppressMessages(library(dplyr))"
   ]
  },
  {
   "cell_type": "code",
   "execution_count": 2,
   "metadata": {},
   "outputs": [
    {
     "data": {
      "text/html": [
       "<table>\n",
       "<thead><tr><th scope=col>cluster.index</th><th scope=col>number.of.spectra</th><th scope=col>parent.mass</th><th scope=col>precursor.charge</th><th scope=col>precursor.mass</th><th scope=col>sum.precursor.intensity.</th><th scope=col>X0</th><th scope=col>X0.5</th><th scope=col>X0.76</th><th scope=col>X1</th><th scope=col>⋯</th><th scope=col>LCMS_analysis_plate</th><th scope=col>race</th><th scope=col>prescribed_vancomycin</th><th scope=col>prescribed_magnesium.oxide</th><th scope=col>Sample_Location_General_Sub2_Text</th><th scope=col>DBSAA_TP1</th><th scope=col>prescribed_conjugated.estrogens</th><th scope=col>prescribed_atenolol</th><th scope=col>height_m</th><th scope=col>prescribed_fludrocortisone</th></tr></thead>\n",
       "<tbody>\n",
       "\t<tr><td> 1                                                                                           </td><td> 9                                                                                           </td><td> 99.512                                                                                      </td><td>0                                                                                            </td><td> 99.512                                                                                      </td><td>125140                                                                                       </td><td> 9                                                                                           </td><td>2                                                                                            </td><td>0                                                                                            </td><td> 9                                                                                           </td><td>⋯                                                                                            </td><td>1,2,6,3,5,4                                                                                  </td><td>Asian,Other,White                                                                            </td><td>0,1                                                                                          </td><td>0,1                                                                                          </td><td>L_Forehead,L_Palm,R_Nose,L_Nose,L_Backhand                                                   </td><td>117,114,176,175,174,139,121                                                                  </td><td>0,1                                                                                          </td><td>0,1                                                                                          </td><td>1.549,1.676,1.854,1.651,1.778,1.727,1.702                                                    </td><td>0,1                                                                                          </td></tr>\n",
       "\t<tr><td> 5                                                                                           </td><td>57                                                                                           </td><td>108.518                                                                                      </td><td>0                                                                                            </td><td>108.518                                                                                      </td><td>364524                                                                                       </td><td>57                                                                                           </td><td>8                                                                                            </td><td>1                                                                                            </td><td>57                                                                                           </td><td>⋯                                                                                            </td><td>1,2,6,3,5,4                                                                                  </td><td>Asian,Other,White,Black                                                                      </td><td>0,1                                                                                          </td><td>0,1                                                                                          </td><td>L_Forehead,R_Palm,L_Palm,R_Nose,R_Forehead,R_Backhand,L_Axillary,L_Nose,R_Axillary,L_Backhand</td><td>117,114,176,175,174,139,121,125                                                              </td><td>0,1                                                                                          </td><td>0,1                                                                                          </td><td>1.549,1.575,1.803,1.676,1.854,1.753,1.6,1.651,1.778,1.727,1.702                              </td><td>0,1                                                                                          </td></tr>\n",
       "\t<tr><td>12                                                                                           </td><td>10                                                                                           </td><td>113.964                                                                                      </td><td>0                                                                                            </td><td>113.964                                                                                      </td><td>129712                                                                                       </td><td>10                                                                                           </td><td>1                                                                                            </td><td>0                                                                                            </td><td>10                                                                                           </td><td>⋯                                                                                            </td><td>1,2,6,3,5,4                                                                                  </td><td>Asian,Other,White                                                                            </td><td>0,1                                                                                          </td><td>0,1                                                                                          </td><td>L_Forehead,L_Palm,R_Nose,R_Forehead,R_Axillary,L_Backhand                                    </td><td>117,114,175,174,139,121                                                                      </td><td>0,1                                                                                          </td><td>0,1                                                                                          </td><td>1.549,1.803,1.676,1.753,1.651,1.778                                                          </td><td>0,1                                                                                          </td></tr>\n",
       "\t<tr><td>14                                                                                           </td><td> 2                                                                                           </td><td>131.975                                                                                      </td><td>0                                                                                            </td><td>131.975                                                                                      </td><td> 40576                                                                                       </td><td> 2                                                                                           </td><td>0                                                                                            </td><td>0                                                                                            </td><td> 2                                                                                           </td><td>⋯                                                                                            </td><td>1,2,6,4                                                                                      </td><td>Other,White                                                                                  </td><td>0,1                                                                                          </td><td>0,1                                                                                          </td><td>R_Forehead,L_Nose                                                                            </td><td>121                                                                                          </td><td>0,1                                                                                          </td><td>0,1                                                                                          </td><td>1.549,1.753                                                                                  </td><td>0,1                                                                                          </td></tr>\n",
       "\t<tr><td>17                                                                                           </td><td> 4                                                                                           </td><td>139.040                                                                                      </td><td>0                                                                                            </td><td>139.040                                                                                      </td><td>291940                                                                                       </td><td> 4                                                                                           </td><td>1                                                                                            </td><td>0                                                                                            </td><td> 4                                                                                           </td><td>⋯                                                                                            </td><td>1,2,5,4                                                                                      </td><td>White                                                                                        </td><td>0,1                                                                                          </td><td>0,1                                                                                          </td><td>L_Forehead,L_Nose                                                                            </td><td>176,174,121                                                                                  </td><td>0,1                                                                                          </td><td>0,1                                                                                          </td><td>1.651,1.702                                                                                  </td><td>0,1                                                                                          </td></tr>\n",
       "\t<tr><td>18                                                                                           </td><td> 9                                                                                           </td><td>144.983                                                                                      </td><td>0                                                                                            </td><td>144.983                                                                                      </td><td>528576                                                                                       </td><td> 9                                                                                           </td><td>0                                                                                            </td><td>0                                                                                            </td><td> 9                                                                                           </td><td>⋯                                                                                            </td><td>1,2,6,3,4                                                                                    </td><td>Other,White                                                                                  </td><td>0,1                                                                                          </td><td>0,1                                                                                          </td><td>L_Forehead,R_Nose,R_Backhand,L_Axillary,L_Nose                                               </td><td>121                                                                                          </td><td>0,1                                                                                          </td><td>0,1                                                                                          </td><td>1.549,1.753,1.727                                                                            </td><td>0,1                                                                                          </td></tr>\n",
       "</tbody>\n",
       "</table>\n"
      ],
      "text/latex": [
       "\\begin{tabular}{r|lllllllllllllllllllllllllllllllllllllllllllllllllllllllllllllllllllllllllllllllllllllllllllllllllllllllllllllllllllllllllllllllllllllllllllllllllllllllllllllllllllllllllllllllllllllllllllllllllllllllllllllllllllllllllllllllllllllllllllllllllllllllllllllllllllllllllllllllllllllllllllllllllllllllllllllllllllllllllllll}\n",
       " cluster.index & number.of.spectra & parent.mass & precursor.charge & precursor.mass & sum.precursor.intensity. & X0 & X0.5 & X0.76 & X1 & ⋯ & LCMS\\_analysis\\_plate & race & prescribed\\_vancomycin & prescribed\\_magnesium.oxide & Sample\\_Location\\_General\\_Sub2\\_Text & DBSAA\\_TP1 & prescribed\\_conjugated.estrogens & prescribed\\_atenolol & height\\_m & prescribed\\_fludrocortisone\\\\\n",
       "\\hline\n",
       "\t  1                                                                                                      &  9                                                                                                      &  99.512                                                                                                 & 0                                                                                                       &  99.512                                                                                                 & 125140                                                                                                  &  9                                                                                                      & 2                                                                                                       & 0                                                                                                       &  9                                                                                                      & ⋯                                                                                                       & 1,2,6,3,5,4                                                                                             & Asian,Other,White                                                                                       & 0,1                                                                                                     & 0,1                                                                                                     & L\\_Forehead,L\\_Palm,R\\_Nose,L\\_Nose,L\\_Backhand                                                    & 117,114,176,175,174,139,121                                                                             & 0,1                                                                                                     & 0,1                                                                                                     & 1.549,1.676,1.854,1.651,1.778,1.727,1.702                                                               & 0,1                                                                                                    \\\\\n",
       "\t  5                                                                                                                & 57                                                                                                                & 108.518                                                                                                           & 0                                                                                                                 & 108.518                                                                                                           & 364524                                                                                                            & 57                                                                                                                & 8                                                                                                                 & 1                                                                                                                 & 57                                                                                                                & ⋯                                                                                                                 & 1,2,6,3,5,4                                                                                                       & Asian,Other,White,Black                                                                                           & 0,1                                                                                                               & 0,1                                                                                                               & L\\_Forehead,R\\_Palm,L\\_Palm,R\\_Nose,R\\_Forehead,R\\_Backhand,L\\_Axillary,L\\_Nose,R\\_Axillary,L\\_Backhand & 117,114,176,175,174,139,121,125                                                                                   & 0,1                                                                                                               & 0,1                                                                                                               & 1.549,1.575,1.803,1.676,1.854,1.753,1.6,1.651,1.778,1.727,1.702                                                   & 0,1                                                                                                              \\\\\n",
       "\t 12                                                                                                        & 10                                                                                                        & 113.964                                                                                                   & 0                                                                                                         & 113.964                                                                                                   & 129712                                                                                                    & 10                                                                                                        & 1                                                                                                         & 0                                                                                                         & 10                                                                                                        & ⋯                                                                                                         & 1,2,6,3,5,4                                                                                               & Asian,Other,White                                                                                         & 0,1                                                                                                       & 0,1                                                                                                       & L\\_Forehead,L\\_Palm,R\\_Nose,R\\_Forehead,R\\_Axillary,L\\_Backhand                                     & 117,114,175,174,139,121                                                                                   & 0,1                                                                                                       & 0,1                                                                                                       & 1.549,1.803,1.676,1.753,1.651,1.778                                                                       & 0,1                                                                                                      \\\\\n",
       "\t 14                                                                                                &  2                                                                                                & 131.975                                                                                           & 0                                                                                                 & 131.975                                                                                           &  40576                                                                                            &  2                                                                                                & 0                                                                                                 & 0                                                                                                 &  2                                                                                                & ⋯                                                                                                 & 1,2,6,4                                                                                           & Other,White                                                                                       & 0,1                                                                                               & 0,1                                                                                               & R\\_Forehead,L\\_Nose                                                                             & 121                                                                                               & 0,1                                                                                               & 0,1                                                                                               & 1.549,1.753                                                                                       & 0,1                                                                                              \\\\\n",
       "\t 17                                                                                                &  4                                                                                                & 139.040                                                                                           & 0                                                                                                 & 139.040                                                                                           & 291940                                                                                            &  4                                                                                                & 1                                                                                                 & 0                                                                                                 &  4                                                                                                & ⋯                                                                                                 & 1,2,5,4                                                                                           & White                                                                                             & 0,1                                                                                               & 0,1                                                                                               & L\\_Forehead,L\\_Nose                                                                             & 176,174,121                                                                                       & 0,1                                                                                               & 0,1                                                                                               & 1.651,1.702                                                                                       & 0,1                                                                                              \\\\\n",
       "\t 18                                                                                                      &  9                                                                                                      & 144.983                                                                                                 & 0                                                                                                       & 144.983                                                                                                 & 528576                                                                                                  &  9                                                                                                      & 0                                                                                                       & 0                                                                                                       &  9                                                                                                      & ⋯                                                                                                       & 1,2,6,3,4                                                                                               & Other,White                                                                                             & 0,1                                                                                                     & 0,1                                                                                                     & L\\_Forehead,R\\_Nose,R\\_Backhand,L\\_Axillary,L\\_Nose                                                & 121                                                                                                     & 0,1                                                                                                     & 0,1                                                                                                     & 1.549,1.753,1.727                                                                                       & 0,1                                                                                                    \\\\\n",
       "\\end{tabular}\n"
      ],
      "text/markdown": [
       "\n",
       "cluster.index | number.of.spectra | parent.mass | precursor.charge | precursor.mass | sum.precursor.intensity. | X0 | X0.5 | X0.76 | X1 | ⋯ | LCMS_analysis_plate | race | prescribed_vancomycin | prescribed_magnesium.oxide | Sample_Location_General_Sub2_Text | DBSAA_TP1 | prescribed_conjugated.estrogens | prescribed_atenolol | height_m | prescribed_fludrocortisone | \n",
       "|---|---|---|---|---|---|\n",
       "|  1                                                                                            |  9                                                                                            |  99.512                                                                                       | 0                                                                                             |  99.512                                                                                       | 125140                                                                                        |  9                                                                                            | 2                                                                                             | 0                                                                                             |  9                                                                                            | ⋯                                                                                             | 1,2,6,3,5,4                                                                                   | Asian,Other,White                                                                             | 0,1                                                                                           | 0,1                                                                                           | L_Forehead,L_Palm,R_Nose,L_Nose,L_Backhand                                                    | 117,114,176,175,174,139,121                                                                   | 0,1                                                                                           | 0,1                                                                                           | 1.549,1.676,1.854,1.651,1.778,1.727,1.702                                                     | 0,1                                                                                           | \n",
       "|  5                                                                                            | 57                                                                                            | 108.518                                                                                       | 0                                                                                             | 108.518                                                                                       | 364524                                                                                        | 57                                                                                            | 8                                                                                             | 1                                                                                             | 57                                                                                            | ⋯                                                                                             | 1,2,6,3,5,4                                                                                   | Asian,Other,White,Black                                                                       | 0,1                                                                                           | 0,1                                                                                           | L_Forehead,R_Palm,L_Palm,R_Nose,R_Forehead,R_Backhand,L_Axillary,L_Nose,R_Axillary,L_Backhand | 117,114,176,175,174,139,121,125                                                               | 0,1                                                                                           | 0,1                                                                                           | 1.549,1.575,1.803,1.676,1.854,1.753,1.6,1.651,1.778,1.727,1.702                               | 0,1                                                                                           | \n",
       "| 12                                                                                            | 10                                                                                            | 113.964                                                                                       | 0                                                                                             | 113.964                                                                                       | 129712                                                                                        | 10                                                                                            | 1                                                                                             | 0                                                                                             | 10                                                                                            | ⋯                                                                                             | 1,2,6,3,5,4                                                                                   | Asian,Other,White                                                                             | 0,1                                                                                           | 0,1                                                                                           | L_Forehead,L_Palm,R_Nose,R_Forehead,R_Axillary,L_Backhand                                     | 117,114,175,174,139,121                                                                       | 0,1                                                                                           | 0,1                                                                                           | 1.549,1.803,1.676,1.753,1.651,1.778                                                           | 0,1                                                                                           | \n",
       "| 14                                                                                            |  2                                                                                            | 131.975                                                                                       | 0                                                                                             | 131.975                                                                                       |  40576                                                                                        |  2                                                                                            | 0                                                                                             | 0                                                                                             |  2                                                                                            | ⋯                                                                                             | 1,2,6,4                                                                                       | Other,White                                                                                   | 0,1                                                                                           | 0,1                                                                                           | R_Forehead,L_Nose                                                                             | 121                                                                                           | 0,1                                                                                           | 0,1                                                                                           | 1.549,1.753                                                                                   | 0,1                                                                                           | \n",
       "| 17                                                                                            |  4                                                                                            | 139.040                                                                                       | 0                                                                                             | 139.040                                                                                       | 291940                                                                                        |  4                                                                                            | 1                                                                                             | 0                                                                                             |  4                                                                                            | ⋯                                                                                             | 1,2,5,4                                                                                       | White                                                                                         | 0,1                                                                                           | 0,1                                                                                           | L_Forehead,L_Nose                                                                             | 176,174,121                                                                                   | 0,1                                                                                           | 0,1                                                                                           | 1.651,1.702                                                                                   | 0,1                                                                                           | \n",
       "| 18                                                                                            |  9                                                                                            | 144.983                                                                                       | 0                                                                                             | 144.983                                                                                       | 528576                                                                                        |  9                                                                                            | 0                                                                                             | 0                                                                                             |  9                                                                                            | ⋯                                                                                             | 1,2,6,3,4                                                                                     | Other,White                                                                                   | 0,1                                                                                           | 0,1                                                                                           | L_Forehead,R_Nose,R_Backhand,L_Axillary,L_Nose                                                | 121                                                                                           | 0,1                                                                                           | 0,1                                                                                           | 1.549,1.753,1.727                                                                             | 0,1                                                                                           | \n",
       "\n",
       "\n"
      ],
      "text/plain": [
       "  cluster.index number.of.spectra parent.mass precursor.charge precursor.mass\n",
       "1  1             9                 99.512     0                 99.512       \n",
       "2  5            57                108.518     0                108.518       \n",
       "3 12            10                113.964     0                113.964       \n",
       "4 14             2                131.975     0                131.975       \n",
       "5 17             4                139.040     0                139.040       \n",
       "6 18             9                144.983     0                144.983       \n",
       "  sum.precursor.intensity. X0 X0.5 X0.76 X1 ⋯ LCMS_analysis_plate\n",
       "1 125140                    9 2    0      9 ⋯ 1,2,6,3,5,4        \n",
       "2 364524                   57 8    1     57 ⋯ 1,2,6,3,5,4        \n",
       "3 129712                   10 1    0     10 ⋯ 1,2,6,3,5,4        \n",
       "4  40576                    2 0    0      2 ⋯ 1,2,6,4            \n",
       "5 291940                    4 1    0      4 ⋯ 1,2,5,4            \n",
       "6 528576                    9 0    0      9 ⋯ 1,2,6,3,4          \n",
       "  race                    prescribed_vancomycin prescribed_magnesium.oxide\n",
       "1 Asian,Other,White       0,1                   0,1                       \n",
       "2 Asian,Other,White,Black 0,1                   0,1                       \n",
       "3 Asian,Other,White       0,1                   0,1                       \n",
       "4 Other,White             0,1                   0,1                       \n",
       "5 White                   0,1                   0,1                       \n",
       "6 Other,White             0,1                   0,1                       \n",
       "  Sample_Location_General_Sub2_Text                                                            \n",
       "1 L_Forehead,L_Palm,R_Nose,L_Nose,L_Backhand                                                   \n",
       "2 L_Forehead,R_Palm,L_Palm,R_Nose,R_Forehead,R_Backhand,L_Axillary,L_Nose,R_Axillary,L_Backhand\n",
       "3 L_Forehead,L_Palm,R_Nose,R_Forehead,R_Axillary,L_Backhand                                    \n",
       "4 R_Forehead,L_Nose                                                                            \n",
       "5 L_Forehead,L_Nose                                                                            \n",
       "6 L_Forehead,R_Nose,R_Backhand,L_Axillary,L_Nose                                               \n",
       "  DBSAA_TP1                       prescribed_conjugated.estrogens\n",
       "1 117,114,176,175,174,139,121     0,1                            \n",
       "2 117,114,176,175,174,139,121,125 0,1                            \n",
       "3 117,114,175,174,139,121         0,1                            \n",
       "4 121                             0,1                            \n",
       "5 176,174,121                     0,1                            \n",
       "6 121                             0,1                            \n",
       "  prescribed_atenolol\n",
       "1 0,1                \n",
       "2 0,1                \n",
       "3 0,1                \n",
       "4 0,1                \n",
       "5 0,1                \n",
       "6 0,1                \n",
       "  height_m                                                       \n",
       "1 1.549,1.676,1.854,1.651,1.778,1.727,1.702                      \n",
       "2 1.549,1.575,1.803,1.676,1.854,1.753,1.6,1.651,1.778,1.727,1.702\n",
       "3 1.549,1.803,1.676,1.753,1.651,1.778                            \n",
       "4 1.549,1.753                                                    \n",
       "5 1.651,1.702                                                    \n",
       "6 1.549,1.753,1.727                                              \n",
       "  prescribed_fludrocortisone\n",
       "1 0,1                       \n",
       "2 0,1                       \n",
       "3 0,1                       \n",
       "4 0,1                       \n",
       "5 0,1                       \n",
       "6 0,1                       "
      ]
     },
     "metadata": {},
     "output_type": "display_data"
    }
   ],
   "source": [
    "gnps = read.delim('Data/3cda66df1f5b4b738e4d4c673ca6aa1d.tsv')\n",
    "#gnps[, \"cluster.index\"] <- as.numeric(gnps[, \"cluster.index\"])\n",
    "head(gnps)"
   ]
  },
  {
   "cell_type": "code",
   "execution_count": 3,
   "metadata": {},
   "outputs": [
    {
     "data": {
      "text/html": [
       "109"
      ],
      "text/latex": [
       "109"
      ],
      "text/markdown": [
       "109"
      ],
      "text/plain": [
       "[1] 109"
      ]
     },
     "metadata": {},
     "output_type": "display_data"
    }
   ],
   "source": [
    "length(unique(gnps$LibraryID))"
   ]
  },
  {
   "cell_type": "code",
   "execution_count": 4,
   "metadata": {},
   "outputs": [
    {
     "data": {
      "text/html": [
       "<ol class=list-inline>\n",
       "\t<li>14657</li>\n",
       "\t<li>7</li>\n",
       "</ol>\n"
      ],
      "text/latex": [
       "\\begin{enumerate*}\n",
       "\\item 14657\n",
       "\\item 7\n",
       "\\end{enumerate*}\n"
      ],
      "text/markdown": [
       "1. 14657\n",
       "2. 7\n",
       "\n",
       "\n"
      ],
      "text/plain": [
       "[1] 14657     7"
      ]
     },
     "metadata": {},
     "output_type": "display_data"
    },
    {
     "data": {
      "text/html": [
       "<table>\n",
       "<thead><tr><th scope=col>CLUSTERID1</th><th scope=col>CLUSTERID2</th><th scope=col>DeltaMZ</th><th scope=col>MEH</th><th scope=col>Cosine</th><th scope=col>OtherScore</th><th scope=col>ComponentIndex</th></tr></thead>\n",
       "<tbody>\n",
       "\t<tr><td>230150    </td><td>234596    </td><td>-44.026000</td><td>0         </td><td>0.900879  </td><td>0.783035  </td><td>1         </td></tr>\n",
       "\t<tr><td>227040    </td><td>236596    </td><td>-88.063000</td><td>0         </td><td>0.892919  </td><td>0.688209  </td><td>1         </td></tr>\n",
       "\t<tr><td>245387    </td><td>245612    </td><td>-11.012000</td><td>0         </td><td>0.900354  </td><td>0.707705  </td><td>1         </td></tr>\n",
       "\t<tr><td>229951    </td><td>230869    </td><td> -5.458010</td><td>0         </td><td>0.931996  </td><td>0.851260  </td><td>1         </td></tr>\n",
       "\t<tr><td>223112    </td><td>231825    </td><td>-55.033000</td><td>0         </td><td>0.887927  </td><td>0.695792  </td><td>1         </td></tr>\n",
       "\t<tr><td>245204    </td><td>245207    </td><td> -0.253052</td><td>0         </td><td>0.909418  </td><td>0.745468  </td><td>1         </td></tr>\n",
       "</tbody>\n",
       "</table>\n"
      ],
      "text/latex": [
       "\\begin{tabular}{r|lllllll}\n",
       " CLUSTERID1 & CLUSTERID2 & DeltaMZ & MEH & Cosine & OtherScore & ComponentIndex\\\\\n",
       "\\hline\n",
       "\t 230150     & 234596     & -44.026000 & 0          & 0.900879   & 0.783035   & 1         \\\\\n",
       "\t 227040     & 236596     & -88.063000 & 0          & 0.892919   & 0.688209   & 1         \\\\\n",
       "\t 245387     & 245612     & -11.012000 & 0          & 0.900354   & 0.707705   & 1         \\\\\n",
       "\t 229951     & 230869     &  -5.458010 & 0          & 0.931996   & 0.851260   & 1         \\\\\n",
       "\t 223112     & 231825     & -55.033000 & 0          & 0.887927   & 0.695792   & 1         \\\\\n",
       "\t 245204     & 245207     &  -0.253052 & 0          & 0.909418   & 0.745468   & 1         \\\\\n",
       "\\end{tabular}\n"
      ],
      "text/markdown": [
       "\n",
       "CLUSTERID1 | CLUSTERID2 | DeltaMZ | MEH | Cosine | OtherScore | ComponentIndex | \n",
       "|---|---|---|---|---|---|\n",
       "| 230150     | 234596     | -44.026000 | 0          | 0.900879   | 0.783035   | 1          | \n",
       "| 227040     | 236596     | -88.063000 | 0          | 0.892919   | 0.688209   | 1          | \n",
       "| 245387     | 245612     | -11.012000 | 0          | 0.900354   | 0.707705   | 1          | \n",
       "| 229951     | 230869     |  -5.458010 | 0          | 0.931996   | 0.851260   | 1          | \n",
       "| 223112     | 231825     | -55.033000 | 0          | 0.887927   | 0.695792   | 1          | \n",
       "| 245204     | 245207     |  -0.253052 | 0          | 0.909418   | 0.745468   | 1          | \n",
       "\n",
       "\n"
      ],
      "text/plain": [
       "  CLUSTERID1 CLUSTERID2 DeltaMZ    MEH Cosine   OtherScore ComponentIndex\n",
       "1 230150     234596     -44.026000 0   0.900879 0.783035   1             \n",
       "2 227040     236596     -88.063000 0   0.892919 0.688209   1             \n",
       "3 245387     245612     -11.012000 0   0.900354 0.707705   1             \n",
       "4 229951     230869      -5.458010 0   0.931996 0.851260   1             \n",
       "5 223112     231825     -55.033000 0   0.887927 0.695792   1             \n",
       "6 245204     245207      -0.253052 0   0.909418 0.745468   1             "
      ]
     },
     "metadata": {},
     "output_type": "display_data"
    },
    {
     "data": {
      "text/html": [
       "<ol class=list-inline>\n",
       "\t<li>9644</li>\n",
       "\t<li>1</li>\n",
       "</ol>\n"
      ],
      "text/latex": [
       "\\begin{enumerate*}\n",
       "\\item 9644\n",
       "\\item 1\n",
       "\\end{enumerate*}\n"
      ],
      "text/markdown": [
       "1. 9644\n",
       "2. 1\n",
       "\n",
       "\n"
      ],
      "text/plain": [
       "[1] 9644    1"
      ]
     },
     "metadata": {},
     "output_type": "display_data"
    }
   ],
   "source": [
    "net <- read.delim('Data/828ccf4ce7be41bfb01dae4f54e936d6.pairsinfo', header=TRUE)\n",
    "dim(net)\n",
    "head(net)\n",
    "table <- matrix(rbind(net$CLUSTERID1,net$CLUSTERID2))\n",
    "table <- unique(table)\n",
    "dim(table)"
   ]
  },
  {
   "cell_type": "code",
   "execution_count": 5,
   "metadata": {
    "scrolled": true
   },
   "outputs": [
    {
     "ename": "ERROR",
     "evalue": "Error in eval(expr, envir, enclos): object 'mmat_sourceinfo' not found\n",
     "output_type": "error",
     "traceback": [
      "Error in eval(expr, envir, enclos): object 'mmat_sourceinfo' not found\nTraceback:\n"
     ]
    }
   ],
   "source": [
    "#read data into notebook\n",
    "annotated <- read.delim(\"Data/GNPS_Curated_Source_Information_Version2.0 - Curated_Source_Information_Table (18).tsv\",  sep=\"\\t\", header=TRUE)\n",
    "annotated <- mmat_sourceinfo[-c(1:3),]\n",
    "#mmat_sourceinfo <- subset(mmat_sourceinfo, mmat_sourceinfo$Curated_GNPS_Annotation != \"disregard\")\n",
    "#mmat_sourceinfo <- subset(mmat_sourceinfo, mmat_sourceinfo$Curated_GNPS_Annotation != \"literature limited\")\n",
    "#look at first couple of lines\n",
    "head(annotated)\n",
    "#check dimension of data read into notebook\n",
    "dim(annotated)"
   ]
  },
  {
   "cell_type": "code",
   "execution_count": null,
   "metadata": {
    "scrolled": true
   },
   "outputs": [],
   "source": [
    "unique(annotated$Source)\n",
    "unique(annotated$Source_Sub1)"
   ]
  },
  {
   "cell_type": "code",
   "execution_count": 6,
   "metadata": {
    "scrolled": false
   },
   "outputs": [
    {
     "name": "stdout",
     "output_type": "stream",
     "text": [
      "[1] \"number of nodes in network\"\n"
     ]
    },
    {
     "data": {
      "text/html": [
       "<ol class=list-inline>\n",
       "\t<li>9644</li>\n",
       "\t<li>1</li>\n",
       "</ol>\n"
      ],
      "text/latex": [
       "\\begin{enumerate*}\n",
       "\\item 9644\n",
       "\\item 1\n",
       "\\end{enumerate*}\n"
      ],
      "text/markdown": [
       "1. 9644\n",
       "2. 1\n",
       "\n",
       "\n"
      ],
      "text/plain": [
       "[1] 9644    1"
      ]
     },
     "metadata": {},
     "output_type": "display_data"
    },
    {
     "name": "stdout",
     "output_type": "stream",
     "text": [
      "[1] \"number of nodes of X origin in network\"\n"
     ]
    },
    {
     "data": {
      "text/html": [
       "<ol class=list-inline>\n",
       "\t<li>32</li>\n",
       "\t<li>24</li>\n",
       "</ol>\n"
      ],
      "text/latex": [
       "\\begin{enumerate*}\n",
       "\\item 32\n",
       "\\item 24\n",
       "\\end{enumerate*}\n"
      ],
      "text/markdown": [
       "1. 32\n",
       "2. 24\n",
       "\n",
       "\n"
      ],
      "text/plain": [
       "[1] 32 24"
      ]
     },
     "metadata": {},
     "output_type": "display_data"
    },
    {
     "data": {
      "text/html": [
       "0.331812525922854"
      ],
      "text/latex": [
       "0.331812525922854"
      ],
      "text/markdown": [
       "0.331812525922854"
      ],
      "text/plain": [
       "[1] 0.3318125"
      ]
     },
     "metadata": {},
     "output_type": "display_data"
    },
    {
     "name": "stdout",
     "output_type": "stream",
     "text": [
      "[1] \"number of propogated nodes of X origin in network\"\n"
     ]
    },
    {
     "data": {
      "text/html": [
       "<ol class=list-inline>\n",
       "\t<li>117</li>\n",
       "\t<li>1</li>\n",
       "</ol>\n"
      ],
      "text/latex": [
       "\\begin{enumerate*}\n",
       "\\item 117\n",
       "\\item 1\n",
       "\\end{enumerate*}\n"
      ],
      "text/markdown": [
       "1. 117\n",
       "2. 1\n",
       "\n",
       "\n"
      ],
      "text/plain": [
       "[1] 117   1"
      ]
     },
     "metadata": {},
     "output_type": "display_data"
    },
    {
     "data": {
      "text/html": [
       "1.21318954790543"
      ],
      "text/latex": [
       "1.21318954790543"
      ],
      "text/markdown": [
       "1.21318954790543"
      ],
      "text/plain": [
       "[1] 1.21319"
      ]
     },
     "metadata": {},
     "output_type": "display_data"
    },
    {
     "data": {
      "text/html": [
       "<table>\n",
       "<tbody>\n",
       "\t<tr><td>9840              </td><td>Hand,Face,Axillary</td></tr>\n",
       "\t<tr><td>43563             </td><td>Hand,Face         </td></tr>\n",
       "\t<tr><td>72115             </td><td>Face,Axillary     </td></tr>\n",
       "\t<tr><td>43431             </td><td>Hand,Face         </td></tr>\n",
       "\t<tr><td>43583             </td><td>Hand,Face         </td></tr>\n",
       "\t<tr><td>27                </td><td>Hand              </td></tr>\n",
       "</tbody>\n",
       "</table>\n"
      ],
      "text/latex": [
       "\\begin{tabular}{ll}\n",
       "\t 9840               & Hand,Face,Axillary\\\\\n",
       "\t 43563              & Hand,Face         \\\\\n",
       "\t 72115              & Face,Axillary     \\\\\n",
       "\t 43431              & Hand,Face         \\\\\n",
       "\t 43583              & Hand,Face         \\\\\n",
       "\t 27                 & Hand              \\\\\n",
       "\\end{tabular}\n"
      ],
      "text/markdown": [
       "\n",
       "| 9840               | Hand,Face,Axillary | \n",
       "| 43563              | Hand,Face          | \n",
       "| 72115              | Face,Axillary      | \n",
       "| 43431              | Hand,Face          | \n",
       "| 43583              | Hand,Face          | \n",
       "| 27                 | Hand               | \n",
       "\n",
       "\n"
      ],
      "text/plain": [
       "     [,1]  [,2]              \n",
       "[1,] 9840  Hand,Face,Axillary\n",
       "[2,] 43563 Hand,Face         \n",
       "[3,] 72115 Face,Axillary     \n",
       "[4,] 43431 Hand,Face         \n",
       "[5,] 43583 Hand,Face         \n",
       "[6,] 27    Hand              "
      ]
     },
     "metadata": {},
     "output_type": "display_data"
    },
    {
     "data": {
      "text/html": [
       "35"
      ],
      "text/latex": [
       "35"
      ],
      "text/markdown": [
       "35"
      ],
      "text/plain": [
       "[1] 35"
      ]
     },
     "metadata": {},
     "output_type": "display_data"
    },
    {
     "data": {
      "text/plain": [
       "       x             y     \n",
       " 193169 : 3   Axillary: 8  \n",
       " 43455  : 3   Face    :26  \n",
       " 43969  : 3   Hand    :27  \n",
       " 9840   : 3                \n",
       " 1261   : 2                \n",
       " 193173 : 2                \n",
       " (Other):45                "
      ]
     },
     "metadata": {},
     "output_type": "display_data"
    },
    {
     "data": {
      "text/html": [
       "<ol>\n",
       "\t<li><table>\n",
       "<thead><tr><th scope=col>x</th><th scope=col>y</th></tr></thead>\n",
       "<tbody>\n",
       "\t<tr><td>102395</td><td>Hand  </td></tr>\n",
       "\t<tr><td>102395</td><td>Face  </td></tr>\n",
       "</tbody>\n",
       "</table>\n",
       "</li>\n",
       "\t<li><table>\n",
       "<thead><tr><th scope=col>x</th><th scope=col>y</th></tr></thead>\n",
       "<tbody>\n",
       "\t<tr><td>1029</td><td>Hand</td></tr>\n",
       "</tbody>\n",
       "</table>\n",
       "</li>\n",
       "\t<li><table>\n",
       "<thead><tr><th scope=col>x</th><th scope=col>y</th></tr></thead>\n",
       "<tbody>\n",
       "\t<tr><td>104132  </td><td>Hand    </td></tr>\n",
       "\t<tr><td>104132  </td><td>Face    </td></tr>\n",
       "\t<tr><td>104132  </td><td>Axillary</td></tr>\n",
       "</tbody>\n",
       "</table>\n",
       "</li>\n",
       "\t<li><table>\n",
       "<thead><tr><th scope=col>x</th><th scope=col>y</th></tr></thead>\n",
       "<tbody>\n",
       "\t<tr><td>11719</td><td>Hand </td></tr>\n",
       "\t<tr><td>11719</td><td>Face </td></tr>\n",
       "</tbody>\n",
       "</table>\n",
       "</li>\n",
       "\t<li><table>\n",
       "<thead><tr><th scope=col>x</th><th scope=col>y</th></tr></thead>\n",
       "<tbody>\n",
       "\t<tr><td>12056   </td><td>Hand    </td></tr>\n",
       "\t<tr><td>12056   </td><td>Face    </td></tr>\n",
       "\t<tr><td>12056   </td><td>Axillary</td></tr>\n",
       "</tbody>\n",
       "</table>\n",
       "</li>\n",
       "\t<li><table>\n",
       "<thead><tr><th scope=col>x</th><th scope=col>y</th></tr></thead>\n",
       "<tbody>\n",
       "\t<tr><td>12071   </td><td>Hand    </td></tr>\n",
       "\t<tr><td>12071   </td><td>Face    </td></tr>\n",
       "\t<tr><td>12071   </td><td>Axillary</td></tr>\n",
       "</tbody>\n",
       "</table>\n",
       "</li>\n",
       "</ol>\n"
      ],
      "text/latex": [
       "\\begin{enumerate}\n",
       "\\item \\begin{tabular}{ll}\n",
       " x & y\\\\\n",
       "\\hline\n",
       "\t 102395 & Hand  \\\\\n",
       "\t 102395 & Face  \\\\\n",
       "\\end{tabular}\n",
       "\n",
       "\\item \\begin{tabular}{ll}\n",
       " x & y\\\\\n",
       "\\hline\n",
       "\t 1029 & Hand\\\\\n",
       "\\end{tabular}\n",
       "\n",
       "\\item \\begin{tabular}{ll}\n",
       " x & y\\\\\n",
       "\\hline\n",
       "\t 104132   & Hand    \\\\\n",
       "\t 104132   & Face    \\\\\n",
       "\t 104132   & Axillary\\\\\n",
       "\\end{tabular}\n",
       "\n",
       "\\item \\begin{tabular}{ll}\n",
       " x & y\\\\\n",
       "\\hline\n",
       "\t 11719 & Hand \\\\\n",
       "\t 11719 & Face \\\\\n",
       "\\end{tabular}\n",
       "\n",
       "\\item \\begin{tabular}{ll}\n",
       " x & y\\\\\n",
       "\\hline\n",
       "\t 12056    & Hand    \\\\\n",
       "\t 12056    & Face    \\\\\n",
       "\t 12056    & Axillary\\\\\n",
       "\\end{tabular}\n",
       "\n",
       "\\item \\begin{tabular}{ll}\n",
       " x & y\\\\\n",
       "\\hline\n",
       "\t 12071    & Hand    \\\\\n",
       "\t 12071    & Face    \\\\\n",
       "\t 12071    & Axillary\\\\\n",
       "\\end{tabular}\n",
       "\n",
       "\\end{enumerate}\n"
      ],
      "text/markdown": [
       "1. \n",
       "x | y | \n",
       "|---|---|\n",
       "| 102395 | Hand   | \n",
       "| 102395 | Face   | \n",
       "\n",
       "\n",
       "\n",
       "2. \n",
       "x | y | \n",
       "|---|\n",
       "| 1029 | Hand | \n",
       "\n",
       "\n",
       "\n",
       "3. \n",
       "x | y | \n",
       "|---|---|---|\n",
       "| 104132   | Hand     | \n",
       "| 104132   | Face     | \n",
       "| 104132   | Axillary | \n",
       "\n",
       "\n",
       "\n",
       "4. \n",
       "x | y | \n",
       "|---|---|\n",
       "| 11719 | Hand  | \n",
       "| 11719 | Face  | \n",
       "\n",
       "\n",
       "\n",
       "5. \n",
       "x | y | \n",
       "|---|---|---|\n",
       "| 12056    | Hand     | \n",
       "| 12056    | Face     | \n",
       "| 12056    | Axillary | \n",
       "\n",
       "\n",
       "\n",
       "6. \n",
       "x | y | \n",
       "|---|---|---|\n",
       "| 12071    | Hand     | \n",
       "| 12071    | Face     | \n",
       "| 12071    | Axillary | \n",
       "\n",
       "\n",
       "\n",
       "\n",
       "\n"
      ],
      "text/plain": [
       "[[1]]\n",
       "     x        y     \n",
       "[1,] \"102395\" \"Hand\"\n",
       "[2,] \"102395\" \"Face\"\n",
       "\n",
       "[[2]]\n",
       "     x      y     \n",
       "[1,] \"1029\" \"Hand\"\n",
       "\n",
       "[[3]]\n",
       "     x        y         \n",
       "[1,] \"104132\" \"Hand\"    \n",
       "[2,] \"104132\" \"Face\"    \n",
       "[3,] \"104132\" \"Axillary\"\n",
       "\n",
       "[[4]]\n",
       "     x       y     \n",
       "[1,] \"11719\" \"Hand\"\n",
       "[2,] \"11719\" \"Face\"\n",
       "\n",
       "[[5]]\n",
       "     x       y         \n",
       "[1,] \"12056\" \"Hand\"    \n",
       "[2,] \"12056\" \"Face\"    \n",
       "[3,] \"12056\" \"Axillary\"\n",
       "\n",
       "[[6]]\n",
       "     x       y         \n",
       "[1,] \"12071\" \"Hand\"    \n",
       "[2,] \"12071\" \"Face\"    \n",
       "[3,] \"12071\" \"Axillary\"\n"
      ]
     },
     "metadata": {},
     "output_type": "display_data"
    }
   ],
   "source": [
    "# by body location\n",
    "\n",
    "gnps_with_origin <- data.frame(gnps$cluster.index, gnps$Sample_Location_General_Text, gnps$LibraryID)\n",
    "gnps_with_origin <- merge(gnps_with_origin, annotated, by.x=\"gnps.LibraryID\", by.y=\"GNPS_annotation\")\n",
    "#head(gnps_with_origin)\n",
    "#dim(gnps_with_origin)\n",
    "#drug_nodes <- gnps_with_origin\n",
    "\n",
    "\n",
    "\n",
    "#ENTER VALUE HERE....\n",
    "drug_nodes <- subset(gnps_with_origin, gnps_with_origin$Source == \"food\")\n",
    "#drug_nodes <- subset(gnps_with_origin, gnps_with_origin$Source_Sub1 == \"food additive\")\n",
    "\n",
    "# give net and drug nodes as input parameters for the function\n",
    "find_componentIndex <- function(i){\n",
    "    #net[net[,\"CLUSTERID1\"]==drug_nodes[i, \"gnps.cluster.index\"] | net[,\"CLUSTERID2\"]==drug_nodes[i, \"gnps.cluster.index\"],]\n",
    "    #net[net[,\"CLUSTERID1\"]==drug_nodes[i, \"gnps.cluster.index\"] | net[,\"CLUSTERID2\"]==drug_nodes[i, \"gnps.cluster.index\"],][1, 'ComponentIndex']\n",
    "    compIndex <- net[net[,\"CLUSTERID1\"]==drug_nodes[i, \"gnps.cluster.index\"] | net[,\"CLUSTERID2\"]==drug_nodes[i, \"gnps.cluster.index\"],][1, 'ComponentIndex']\n",
    "    if (compIndex==-1) {\n",
    "        edges = net[net[,\"CLUSTERID1\"]==drug_nodes[i, \"gnps.cluster.index\"],]\n",
    "        nedges = 0\n",
    "        return (list(edges=edges, nedges=nedges))\n",
    "    }\n",
    "    edges = net[net[, \"ComponentIndex\"]==compIndex,]\n",
    "    nedges = nrow(net[net[, \"ComponentIndex\"]==compIndex,])\n",
    "    return (list(edges=edges, nedges=nedges))\n",
    "}\n",
    "\n",
    "alanslist = lapply(1:nrow(drug_nodes), find_componentIndex)\n",
    "\n",
    "results <- do.call(rbind, lapply(alanslist, function(x) x$edges))\n",
    "table_results <- matrix(rbind(results$CLUSTERID1,results$CLUSTERID2))\n",
    "table_results <- unique(table_results)\n",
    "print(\"number of nodes in network\")\n",
    "    dim(table)\n",
    "print(\"number of nodes of X origin in network\")\n",
    "    dim(drug_nodes)\n",
    "    length(drug_nodes[,1])/length(table[,1]) *100                  \n",
    "print(\"number of propogated nodes of X origin in network\")\n",
    "    dim(table_results)\n",
    "    length(table_results[,1])/length(table[,1]) *100\n",
    "                                 \n",
    "                                           ####################################                             \n",
    "# for each group of delta mz find unique files where it occurs\n",
    "# TIME CONSUMING STEP\n",
    "drug_nodes_source <- cbind(as.numeric(drug_nodes$gnps.cluster.index), as.character(drug_nodes$gnps.Sample_Location_General_Text))\n",
    "head(drug_nodes_source)\n",
    "#dim(drug_nodes_source)\n",
    "\n",
    "unq <- tapply(drug_nodes_source[,2], drug_nodes_source[,1], function(x) \n",
    "                                unique(unlist(sapply(x, function(y) \n",
    "                                                         unique(strsplit(y, ',' )[[1]])\n",
    "                                                     )\n",
    "                                             )\n",
    "                                      )\n",
    "              )\n",
    "\n",
    "# Some elements had a matrix as answer\n",
    "# transform all in vectors\n",
    "unq <- lapply(unq, function(x) as.vector(as.matrix(x)))\n",
    "#head(unq)\n",
    "# Transform the list of vectors in a matrix, repeating the \n",
    "# label of each list element\n",
    "mlist <- mapply(function(x,y) cbind(x, y), as.list(names(unq)), unq)\n",
    "    \n",
    "    \n",
    "# concatenate the full matrix\n",
    "    #head(mlist)\n",
    "    mtable <- unique(do.call(rbind, mlist))\n",
    "    length(table(mtable))\n",
    "    summary(mtable)                       \n",
    "\n",
    "                \n",
    "                          ####################################                \n",
    "                # TIME CONSUMING STEP\n",
    "gnps_with_origin <- data.frame(gnps$cluster.index, gnps$Sample_Location_General_Text, gnps$LibraryID)\n",
    "table_results_2 <- as.data.frame(table_results)\n",
    "table_results_2 <- merge(table_results, gnps_with_origin, by.x=\"V1\", by.y=\"gnps.cluster.index\")\n",
    "#head(table_results_2)\n",
    "#dim(table_results_2)\n",
    "\n",
    "drug_nodes_source <- cbind(as.numeric(table_results_2$V1), as.character(table_results_2$gnps.Sample_Location_General_Text))\n",
    "#head(drug_nodes_source)\n",
    "#dim(drug_nodes_source)\n",
    "\n",
    "unq <- tapply(drug_nodes_source[,2], drug_nodes_source[,1], function(x) \n",
    "                                unique(unlist(sapply(x, function(y) \n",
    "                                                         unique(strsplit(y, ',' )[[1]])\n",
    "                                                     )\n",
    "                                             )\n",
    "                                      )\n",
    "              )\n",
    "\n",
    "# Some elements had a matrix as answer\n",
    "# transform all in vectors\n",
    "unq <- lapply(unq, function(x) as.vector(as.matrix(x)))\n",
    "    #head(unq)\n",
    "# Transform the list of vectors in a matrix, repeating the \n",
    "# label of each list element\n",
    "mlist <- mapply(function(x,y) cbind(x, y), as.list(names(unq)), unq)\n",
    "\n",
    "# concatenate the full matrix\n",
    "\n",
    "    head(mlist)\n",
    "    #mtable <- unique(do.call(rbind, mlist))\n",
    "    #length(table(mtable))\n",
    "    #summary(mtable) \n"
   ]
  },
  {
   "cell_type": "code",
   "execution_count": null,
   "metadata": {},
   "outputs": [],
   "source": []
  }
 ],
 "metadata": {
  "kernelspec": {
   "display_name": "R",
   "language": "R",
   "name": "ir"
  },
  "language_info": {
   "codemirror_mode": "r",
   "file_extension": ".r",
   "mimetype": "text/x-r-source",
   "name": "R",
   "pygments_lexer": "r",
   "version": "3.5.0"
  }
 },
 "nbformat": 4,
 "nbformat_minor": 2
}
