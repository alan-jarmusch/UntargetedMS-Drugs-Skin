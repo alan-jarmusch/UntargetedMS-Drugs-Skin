{
 "cells": [
  {
   "cell_type": "markdown",
   "metadata": {},
   "source": [
    "# Generate a file for visualization of chemical information with 'ili\n",
    "\n",
    "#### Created by Alan K. Jarmusch\n",
    "#### Version v1.0\n",
    "#### Last Updated 02/13/2018\n",
    "\n",
    "#### Edited by <br>"
   ]
  },
  {
   "cell_type": "code",
   "execution_count": 2,
   "metadata": {},
   "outputs": [],
   "source": [
    "#suppressMessages(library(Hmisc))\n",
    "suppressMessages(library(ggplot2))\n",
    "suppressMessages(library(dplyr))\n",
    "suppressMessages(library(tidyr))"
   ]
  },
  {
   "cell_type": "code",
   "execution_count": 1,
   "metadata": {},
   "outputs": [],
   "source": [
    "final_matrix <- read.csv(\"Tables_MS2/20180829_Immuno15Skin_FinalOccuranceTablewithMetadata.csv\", header=TRUE)"
   ]
  },
  {
   "cell_type": "code",
   "execution_count": 3,
   "metadata": {},
   "outputs": [
    {
     "data": {
      "text/html": [
       "<table>\n",
       "<thead><tr><th scope=col>filename</th><th scope=col>unique_sample_ID</th><th scope=col>unique_sample_ID.1</th><th scope=col>ATTRIBUTE_sample_ID</th><th scope=col>ATTRIBUTE_Meds_number</th><th scope=col>ATTRIBUTE_prescribed_acetaminophen</th><th scope=col>ATTRIBUTE_prescribed_albuterol</th><th scope=col>ATTRIBUTE_prescribed_allopurinol</th><th scope=col>ATTRIBUTE_prescribed_amlodipine</th><th scope=col>ATTRIBUTE_prescribed_aspirin</th><th scope=col>⋯</th><th scope=col>Sulfamethizole</th><th scope=col>Timolol</th><th scope=col>Triphenyl.phosphate</th><th scope=col>Tris.2.butoxyethyl..phosphate</th><th scope=col>Tyr.Pro</th><th scope=col>Undecaethylene.glycol</th><th scope=col>Sulfachloropyridazine</th><th scope=col>Sulfamethoxazole</th><th scope=col>Syringaldehyde</th><th scope=col>Syringic.acid</th></tr></thead>\n",
       "<tbody>\n",
       "\t<tr><td>AA3594_1_1_RA1_01_37666.mzXML        </td><td>AA3594_1_1_RA1                       </td><td>AA3594_1_1                           </td><td>AA3594                               </td><td>22                                   </td><td>0                                    </td><td>0                                    </td><td>1                                    </td><td>0                                    </td><td>0                                    </td><td>⋯                                    </td><td>0                                    </td><td>0                                    </td><td>0                                    </td><td>0                                    </td><td>1                                    </td><td>0                                    </td><td>1                                    </td><td>0                                    </td><td>0                                    </td><td>1                                    </td></tr>\n",
       "\t<tr><td>AA3594_1_10_RA10_01_37671.mzXML      </td><td>AA3594_1_10_RA10                     </td><td>AA3594_1_10                          </td><td>AA3594                               </td><td>22                                   </td><td>0                                    </td><td>0                                    </td><td>1                                    </td><td>0                                    </td><td>0                                    </td><td>⋯                                    </td><td>0                                    </td><td>0                                    </td><td>0                                    </td><td>0                                    </td><td>0                                    </td><td>0                                    </td><td>1                                    </td><td>1                                    </td><td>1                                    </td><td>0                                    </td></tr>\n",
       "\t<tr><td>AA3594_1_2_RA2_01_37667.mzXML        </td><td>AA3594_1_2_RA2                       </td><td>AA3594_1_2                           </td><td>AA3594                               </td><td>22                                   </td><td>0                                    </td><td>0                                    </td><td>1                                    </td><td>0                                    </td><td>0                                    </td><td>⋯                                    </td><td>0                                    </td><td>0                                    </td><td>0                                    </td><td>0                                    </td><td>1                                    </td><td>0                                    </td><td>1                                    </td><td>0                                    </td><td>1                                    </td><td>1                                    </td></tr>\n",
       "\t<tr><td>AA3594_1_3_RA3_01_37668.mzXML        </td><td>AA3594_1_3_RA3                       </td><td>AA3594_1_3                           </td><td>AA3594                               </td><td>22                                   </td><td>0                                    </td><td>0                                    </td><td>1                                    </td><td>0                                    </td><td>0                                    </td><td>⋯                                    </td><td>0                                    </td><td>0                                    </td><td>0                                    </td><td>0                                    </td><td>1                                    </td><td>0                                    </td><td>1                                    </td><td>0                                    </td><td>1                                    </td><td>1                                    </td></tr>\n",
       "\t<tr><td>AA3594_1_4_RA4_01_37669.mzXML        </td><td>AA3594_1_4_RA4                       </td><td>AA3594_1_4                           </td><td>AA3594                               </td><td>22                                   </td><td>0                                    </td><td>0                                    </td><td>1                                    </td><td>0                                    </td><td>0                                    </td><td>⋯                                    </td><td>0                                    </td><td>0                                    </td><td>0                                    </td><td>0                                    </td><td>1                                    </td><td>0                                    </td><td>1                                    </td><td>0                                    </td><td>1                                    </td><td>1                                    </td></tr>\n",
       "\t<tr><td>AA3594_1_5_diluted_RC5_01_37659.mzXML</td><td>AA3594_1_5_diluted                   </td><td>AA3594_1_5                           </td><td>AA3594                               </td><td>22                                   </td><td>0                                    </td><td>0                                    </td><td>1                                    </td><td>0                                    </td><td>0                                    </td><td>⋯                                    </td><td>0                                    </td><td>0                                    </td><td>0                                    </td><td>0                                    </td><td>0                                    </td><td>0                                    </td><td>0                                    </td><td>0                                    </td><td>0                                    </td><td>0                                    </td></tr>\n",
       "</tbody>\n",
       "</table>\n"
      ],
      "text/latex": [
       "\\begin{tabular}{r|llllllllllllllllllllllllllllllllllllllllllllllllllllllllllllllllllllllllllllllllllllllllllllllllllllllllllllllllllllllllllllllllllllllllllllllllllllllllllllllllllllllllllllllllllllllllllllllllllllll}\n",
       " filename & unique\\_sample\\_ID & unique\\_sample\\_ID.1 & ATTRIBUTE\\_sample\\_ID & ATTRIBUTE\\_Meds\\_number & ATTRIBUTE\\_prescribed\\_acetaminophen & ATTRIBUTE\\_prescribed\\_albuterol & ATTRIBUTE\\_prescribed\\_allopurinol & ATTRIBUTE\\_prescribed\\_amlodipine & ATTRIBUTE\\_prescribed\\_aspirin & ⋯ & Sulfamethizole & Timolol & Triphenyl.phosphate & Tris.2.butoxyethyl..phosphate & Tyr.Pro & Undecaethylene.glycol & Sulfachloropyridazine & Sulfamethoxazole & Syringaldehyde & Syringic.acid\\\\\n",
       "\\hline\n",
       "\t AA3594\\_1\\_1\\_RA1\\_01\\_37666.mzXML         & AA3594\\_1\\_1\\_RA1                            & AA3594\\_1\\_1                                  & AA3594                                          & 22                                              & 0                                               & 0                                               & 1                                               & 0                                               & 0                                               & ⋯                                               & 0                                               & 0                                               & 0                                               & 0                                               & 1                                               & 0                                               & 1                                               & 0                                               & 0                                               & 1                                              \\\\\n",
       "\t AA3594\\_1\\_10\\_RA10\\_01\\_37671.mzXML       & AA3594\\_1\\_10\\_RA10                          & AA3594\\_1\\_10                                 & AA3594                                          & 22                                              & 0                                               & 0                                               & 1                                               & 0                                               & 0                                               & ⋯                                               & 0                                               & 0                                               & 0                                               & 0                                               & 0                                               & 0                                               & 1                                               & 1                                               & 1                                               & 0                                              \\\\\n",
       "\t AA3594\\_1\\_2\\_RA2\\_01\\_37667.mzXML         & AA3594\\_1\\_2\\_RA2                            & AA3594\\_1\\_2                                  & AA3594                                          & 22                                              & 0                                               & 0                                               & 1                                               & 0                                               & 0                                               & ⋯                                               & 0                                               & 0                                               & 0                                               & 0                                               & 1                                               & 0                                               & 1                                               & 0                                               & 1                                               & 1                                              \\\\\n",
       "\t AA3594\\_1\\_3\\_RA3\\_01\\_37668.mzXML         & AA3594\\_1\\_3\\_RA3                            & AA3594\\_1\\_3                                  & AA3594                                          & 22                                              & 0                                               & 0                                               & 1                                               & 0                                               & 0                                               & ⋯                                               & 0                                               & 0                                               & 0                                               & 0                                               & 1                                               & 0                                               & 1                                               & 0                                               & 1                                               & 1                                              \\\\\n",
       "\t AA3594\\_1\\_4\\_RA4\\_01\\_37669.mzXML         & AA3594\\_1\\_4\\_RA4                            & AA3594\\_1\\_4                                  & AA3594                                          & 22                                              & 0                                               & 0                                               & 1                                               & 0                                               & 0                                               & ⋯                                               & 0                                               & 0                                               & 0                                               & 0                                               & 1                                               & 0                                               & 1                                               & 0                                               & 1                                               & 1                                              \\\\\n",
       "\t AA3594\\_1\\_5\\_diluted\\_RC5\\_01\\_37659.mzXML & AA3594\\_1\\_5\\_diluted                          & AA3594\\_1\\_5                                    & AA3594                                            & 22                                                & 0                                                 & 0                                                 & 1                                                 & 0                                                 & 0                                                 & ⋯                                                 & 0                                                 & 0                                                 & 0                                                 & 0                                                 & 0                                                 & 0                                                 & 0                                                 & 0                                                 & 0                                                 & 0                                                \\\\\n",
       "\\end{tabular}\n"
      ],
      "text/markdown": [
       "\n",
       "filename | unique_sample_ID | unique_sample_ID.1 | ATTRIBUTE_sample_ID | ATTRIBUTE_Meds_number | ATTRIBUTE_prescribed_acetaminophen | ATTRIBUTE_prescribed_albuterol | ATTRIBUTE_prescribed_allopurinol | ATTRIBUTE_prescribed_amlodipine | ATTRIBUTE_prescribed_aspirin | ⋯ | Sulfamethizole | Timolol | Triphenyl.phosphate | Tris.2.butoxyethyl..phosphate | Tyr.Pro | Undecaethylene.glycol | Sulfachloropyridazine | Sulfamethoxazole | Syringaldehyde | Syringic.acid | \n",
       "|---|---|---|---|---|---|\n",
       "| AA3594_1_1_RA1_01_37666.mzXML         | AA3594_1_1_RA1                        | AA3594_1_1                            | AA3594                                | 22                                    | 0                                     | 0                                     | 1                                     | 0                                     | 0                                     | ⋯                                     | 0                                     | 0                                     | 0                                     | 0                                     | 1                                     | 0                                     | 1                                     | 0                                     | 0                                     | 1                                     | \n",
       "| AA3594_1_10_RA10_01_37671.mzXML       | AA3594_1_10_RA10                      | AA3594_1_10                           | AA3594                                | 22                                    | 0                                     | 0                                     | 1                                     | 0                                     | 0                                     | ⋯                                     | 0                                     | 0                                     | 0                                     | 0                                     | 0                                     | 0                                     | 1                                     | 1                                     | 1                                     | 0                                     | \n",
       "| AA3594_1_2_RA2_01_37667.mzXML         | AA3594_1_2_RA2                        | AA3594_1_2                            | AA3594                                | 22                                    | 0                                     | 0                                     | 1                                     | 0                                     | 0                                     | ⋯                                     | 0                                     | 0                                     | 0                                     | 0                                     | 1                                     | 0                                     | 1                                     | 0                                     | 1                                     | 1                                     | \n",
       "| AA3594_1_3_RA3_01_37668.mzXML         | AA3594_1_3_RA3                        | AA3594_1_3                            | AA3594                                | 22                                    | 0                                     | 0                                     | 1                                     | 0                                     | 0                                     | ⋯                                     | 0                                     | 0                                     | 0                                     | 0                                     | 1                                     | 0                                     | 1                                     | 0                                     | 1                                     | 1                                     | \n",
       "| AA3594_1_4_RA4_01_37669.mzXML         | AA3594_1_4_RA4                        | AA3594_1_4                            | AA3594                                | 22                                    | 0                                     | 0                                     | 1                                     | 0                                     | 0                                     | ⋯                                     | 0                                     | 0                                     | 0                                     | 0                                     | 1                                     | 0                                     | 1                                     | 0                                     | 1                                     | 1                                     | \n",
       "| AA3594_1_5_diluted_RC5_01_37659.mzXML | AA3594_1_5_diluted                    | AA3594_1_5                            | AA3594                                | 22                                    | 0                                     | 0                                     | 1                                     | 0                                     | 0                                     | ⋯                                     | 0                                     | 0                                     | 0                                     | 0                                     | 0                                     | 0                                     | 0                                     | 0                                     | 0                                     | 0                                     | \n",
       "\n",
       "\n"
      ],
      "text/plain": [
       "  filename                              unique_sample_ID   unique_sample_ID.1\n",
       "1 AA3594_1_1_RA1_01_37666.mzXML         AA3594_1_1_RA1     AA3594_1_1        \n",
       "2 AA3594_1_10_RA10_01_37671.mzXML       AA3594_1_10_RA10   AA3594_1_10       \n",
       "3 AA3594_1_2_RA2_01_37667.mzXML         AA3594_1_2_RA2     AA3594_1_2        \n",
       "4 AA3594_1_3_RA3_01_37668.mzXML         AA3594_1_3_RA3     AA3594_1_3        \n",
       "5 AA3594_1_4_RA4_01_37669.mzXML         AA3594_1_4_RA4     AA3594_1_4        \n",
       "6 AA3594_1_5_diluted_RC5_01_37659.mzXML AA3594_1_5_diluted AA3594_1_5        \n",
       "  ATTRIBUTE_sample_ID ATTRIBUTE_Meds_number ATTRIBUTE_prescribed_acetaminophen\n",
       "1 AA3594              22                    0                                 \n",
       "2 AA3594              22                    0                                 \n",
       "3 AA3594              22                    0                                 \n",
       "4 AA3594              22                    0                                 \n",
       "5 AA3594              22                    0                                 \n",
       "6 AA3594              22                    0                                 \n",
       "  ATTRIBUTE_prescribed_albuterol ATTRIBUTE_prescribed_allopurinol\n",
       "1 0                              1                               \n",
       "2 0                              1                               \n",
       "3 0                              1                               \n",
       "4 0                              1                               \n",
       "5 0                              1                               \n",
       "6 0                              1                               \n",
       "  ATTRIBUTE_prescribed_amlodipine ATTRIBUTE_prescribed_aspirin ⋯ Sulfamethizole\n",
       "1 0                               0                            ⋯ 0             \n",
       "2 0                               0                            ⋯ 0             \n",
       "3 0                               0                            ⋯ 0             \n",
       "4 0                               0                            ⋯ 0             \n",
       "5 0                               0                            ⋯ 0             \n",
       "6 0                               0                            ⋯ 0             \n",
       "  Timolol Triphenyl.phosphate Tris.2.butoxyethyl..phosphate Tyr.Pro\n",
       "1 0       0                   0                             1      \n",
       "2 0       0                   0                             0      \n",
       "3 0       0                   0                             1      \n",
       "4 0       0                   0                             1      \n",
       "5 0       0                   0                             1      \n",
       "6 0       0                   0                             0      \n",
       "  Undecaethylene.glycol Sulfachloropyridazine Sulfamethoxazole Syringaldehyde\n",
       "1 0                     1                     0                0             \n",
       "2 0                     1                     1                1             \n",
       "3 0                     1                     0                1             \n",
       "4 0                     1                     0                1             \n",
       "5 0                     1                     0                1             \n",
       "6 0                     0                     0                0             \n",
       "  Syringic.acid\n",
       "1 1            \n",
       "2 0            \n",
       "3 1            \n",
       "4 1            \n",
       "5 1            \n",
       "6 0            "
      ]
     },
     "metadata": {},
     "output_type": "display_data"
    }
   ],
   "source": [
    "head(final_matrix)"
   ]
  },
  {
   "cell_type": "code",
   "execution_count": 4,
   "metadata": {},
   "outputs": [
    {
     "data": {
      "text/html": [
       "118"
      ],
      "text/latex": [
       "118"
      ],
      "text/markdown": [
       "118"
      ],
      "text/plain": [
       "[1] 118"
      ]
     },
     "metadata": {},
     "output_type": "display_data"
    }
   ],
   "source": [
    "which(colnames(final_matrix)==c(\"ATTRIBUTE_Body_Site\"))"
   ]
  },
  {
   "cell_type": "markdown",
   "metadata": {},
   "source": [
    "# add coordinate information"
   ]
  },
  {
   "cell_type": "code",
   "execution_count": 5,
   "metadata": {},
   "outputs": [
    {
     "data": {
      "text/html": [
       "<table>\n",
       "<thead><tr><th scope=col>Sample_Location</th><th scope=col>X</th><th scope=col>Y</th><th scope=col>Z</th><th scope=col>Radius</th></tr></thead>\n",
       "<tbody>\n",
       "\t<tr><td>1      </td><td>-1.5850</td><td>27.8700</td><td>12.2064</td><td>1      </td></tr>\n",
       "\t<tr><td>2      </td><td>-1.5961</td><td>29.1630</td><td>12.2064</td><td>1      </td></tr>\n",
       "\t<tr><td>3      </td><td>-1.4914</td><td>28.1467</td><td>10.4638</td><td>1      </td></tr>\n",
       "\t<tr><td>4      </td><td>-1.5506</td><td>28.9671</td><td>10.4824</td><td>1      </td></tr>\n",
       "\t<tr><td>5      </td><td>-3.7226</td><td>24.3828</td><td> 3.5472</td><td>1      </td></tr>\n",
       "\t<tr><td>6      </td><td>-3.8645</td><td>32.8461</td><td> 3.7039</td><td>1      </td></tr>\n",
       "</tbody>\n",
       "</table>\n"
      ],
      "text/latex": [
       "\\begin{tabular}{r|lllll}\n",
       " Sample\\_Location & X & Y & Z & Radius\\\\\n",
       "\\hline\n",
       "\t 1       & -1.5850 & 27.8700 & 12.2064 & 1      \\\\\n",
       "\t 2       & -1.5961 & 29.1630 & 12.2064 & 1      \\\\\n",
       "\t 3       & -1.4914 & 28.1467 & 10.4638 & 1      \\\\\n",
       "\t 4       & -1.5506 & 28.9671 & 10.4824 & 1      \\\\\n",
       "\t 5       & -3.7226 & 24.3828 &  3.5472 & 1      \\\\\n",
       "\t 6       & -3.8645 & 32.8461 &  3.7039 & 1      \\\\\n",
       "\\end{tabular}\n"
      ],
      "text/markdown": [
       "\n",
       "Sample_Location | X | Y | Z | Radius | \n",
       "|---|---|---|---|---|---|\n",
       "| 1       | -1.5850 | 27.8700 | 12.2064 | 1       | \n",
       "| 2       | -1.5961 | 29.1630 | 12.2064 | 1       | \n",
       "| 3       | -1.4914 | 28.1467 | 10.4638 | 1       | \n",
       "| 4       | -1.5506 | 28.9671 | 10.4824 | 1       | \n",
       "| 5       | -3.7226 | 24.3828 |  3.5472 | 1       | \n",
       "| 6       | -3.8645 | 32.8461 |  3.7039 | 1       | \n",
       "\n",
       "\n"
      ],
      "text/plain": [
       "  Sample_Location X       Y       Z       Radius\n",
       "1 1               -1.5850 27.8700 12.2064 1     \n",
       "2 2               -1.5961 29.1630 12.2064 1     \n",
       "3 3               -1.4914 28.1467 10.4638 1     \n",
       "4 4               -1.5506 28.9671 10.4824 1     \n",
       "5 5               -3.7226 24.3828  3.5472 1     \n",
       "6 6               -3.8645 32.8461  3.7039 1     "
      ]
     },
     "metadata": {},
     "output_type": "display_data"
    }
   ],
   "source": [
    "coordinate_matrix <- read.delim(\"Data/Coordinates.txt\", sep=\"\\t\")\n",
    "head(coordinate_matrix)"
   ]
  },
  {
   "cell_type": "markdown",
   "metadata": {},
   "source": [
    "# merge coordiinate information"
   ]
  },
  {
   "cell_type": "code",
   "execution_count": 6,
   "metadata": {},
   "outputs": [],
   "source": [
    "ili_MS2_matrix <- merge(coordinate_matrix, final_matrix, by.x=\"Sample_Location\", by.y=\"ATTRIBUTE_Body_Site\")"
   ]
  },
  {
   "cell_type": "code",
   "execution_count": 7,
   "metadata": {},
   "outputs": [
    {
     "data": {
      "text/html": [
       "<table>\n",
       "<thead><tr><th scope=col>Sample_Location</th><th scope=col>X</th><th scope=col>Y</th><th scope=col>Z</th><th scope=col>Radius</th><th scope=col>filename</th><th scope=col>unique_sample_ID</th><th scope=col>unique_sample_ID.1</th><th scope=col>ATTRIBUTE_sample_ID</th><th scope=col>ATTRIBUTE_Meds_number</th><th scope=col>⋯</th><th scope=col>Sulfamethizole</th><th scope=col>Timolol</th><th scope=col>Triphenyl.phosphate</th><th scope=col>Tris.2.butoxyethyl..phosphate</th><th scope=col>Tyr.Pro</th><th scope=col>Undecaethylene.glycol</th><th scope=col>Sulfachloropyridazine</th><th scope=col>Sulfamethoxazole</th><th scope=col>Syringaldehyde</th><th scope=col>Syringic.acid</th></tr></thead>\n",
       "<tbody>\n",
       "\t<tr><td>1                             </td><td>-1.585                        </td><td>27.87                         </td><td>12.2064                       </td><td>1                             </td><td>AA3594_1_1_RA1_01_37666.mzXML </td><td>AA3594_1_1_RA1                </td><td>AA3594_1_1                    </td><td>AA3594                        </td><td>22                            </td><td>⋯                             </td><td>0                             </td><td>0                             </td><td>0                             </td><td>0                             </td><td>1                             </td><td>0                             </td><td>1                             </td><td>0                             </td><td>0                             </td><td>1                             </td></tr>\n",
       "\t<tr><td>1                             </td><td>-1.585                        </td><td>27.87                         </td><td>12.2064                       </td><td>1                             </td><td>JH7190_2_1_RE1_01_37306.mzXML </td><td>JH7190_2_1_RE1                </td><td>JH7190_2_1                    </td><td>JH7190                        </td><td> 8                            </td><td>⋯                             </td><td>0                             </td><td>0                             </td><td>0                             </td><td>0                             </td><td>0                             </td><td>0                             </td><td>1                             </td><td>1                             </td><td>0                             </td><td>0                             </td></tr>\n",
       "\t<tr><td>1                             </td><td>-1.585                        </td><td>27.87                         </td><td>12.2064                       </td><td>1                             </td><td>US5662_1_1_RA1_01_37353.mzXML </td><td>US5662_1_1_RA1                </td><td>US5662_1_1                    </td><td>US5662                        </td><td>19                            </td><td>⋯                             </td><td>0                             </td><td>0                             </td><td>0                             </td><td>0                             </td><td>0                             </td><td>0                             </td><td>1                             </td><td>0                             </td><td>0                             </td><td>0                             </td></tr>\n",
       "\t<tr><td>1                             </td><td>-1.585                        </td><td>27.87                         </td><td>12.2064                       </td><td>1                             </td><td>GI1546_2_1_RA12_01_37557.mzXML</td><td>GI1546_2_1_RA12               </td><td>GI1546_2_1                    </td><td>GI1546                        </td><td>13                            </td><td>⋯                             </td><td>0                             </td><td>0                             </td><td>0                             </td><td>0                             </td><td>0                             </td><td>0                             </td><td>1                             </td><td>0                             </td><td>0                             </td><td>0                             </td></tr>\n",
       "\t<tr><td>1                             </td><td>-1.585                        </td><td>27.87                         </td><td>12.2064                       </td><td>1                             </td><td>WW5157_2_1_RE1_01_37476.mzXML </td><td>WW5157_2_1_RE1                </td><td>WW5157_2_1                    </td><td>WW5157                        </td><td> 9                            </td><td>⋯                             </td><td>0                             </td><td>0                             </td><td>0                             </td><td>0                             </td><td>0                             </td><td>0                             </td><td>1                             </td><td>0                             </td><td>0                             </td><td>0                             </td></tr>\n",
       "\t<tr><td>1                             </td><td>-1.585                        </td><td>27.87                         </td><td>12.2064                       </td><td>1                             </td><td>MB7148_1_1_RA1_01_37582.mzXML </td><td>MB7148_1_1_RA1                </td><td>MB7148_1_1                    </td><td>MB7148                        </td><td>11                            </td><td>⋯                             </td><td>0                             </td><td>0                             </td><td>0                             </td><td>0                             </td><td>0                             </td><td>0                             </td><td>1                             </td><td>0                             </td><td>0                             </td><td>0                             </td></tr>\n",
       "</tbody>\n",
       "</table>\n"
      ],
      "text/latex": [
       "\\begin{tabular}{r|llllllllllllllllllllllllllllllllllllllllllllllllllllllllllllllllllllllllllllllllllllllllllllllllllllllllllllllllllllllllllllllllllllllllllllllllllllllllllllllllllllllllllllllllllllllllllllllllllllllllll}\n",
       " Sample\\_Location & X & Y & Z & Radius & filename & unique\\_sample\\_ID & unique\\_sample\\_ID.1 & ATTRIBUTE\\_sample\\_ID & ATTRIBUTE\\_Meds\\_number & ⋯ & Sulfamethizole & Timolol & Triphenyl.phosphate & Tris.2.butoxyethyl..phosphate & Tyr.Pro & Undecaethylene.glycol & Sulfachloropyridazine & Sulfamethoxazole & Syringaldehyde & Syringic.acid\\\\\n",
       "\\hline\n",
       "\t 1                                        & -1.585                                   & 27.87                                    & 12.2064                                  & 1                                        & AA3594\\_1\\_1\\_RA1\\_01\\_37666.mzXML  & AA3594\\_1\\_1\\_RA1                     & AA3594\\_1\\_1                           & AA3594                                   & 22                                       & ⋯                                        & 0                                        & 0                                        & 0                                        & 0                                        & 1                                        & 0                                        & 1                                        & 0                                        & 0                                        & 1                                       \\\\\n",
       "\t 1                                        & -1.585                                   & 27.87                                    & 12.2064                                  & 1                                        & JH7190\\_2\\_1\\_RE1\\_01\\_37306.mzXML  & JH7190\\_2\\_1\\_RE1                     & JH7190\\_2\\_1                           & JH7190                                   &  8                                       & ⋯                                        & 0                                        & 0                                        & 0                                        & 0                                        & 0                                        & 0                                        & 1                                        & 1                                        & 0                                        & 0                                       \\\\\n",
       "\t 1                                        & -1.585                                   & 27.87                                    & 12.2064                                  & 1                                        & US5662\\_1\\_1\\_RA1\\_01\\_37353.mzXML  & US5662\\_1\\_1\\_RA1                     & US5662\\_1\\_1                           & US5662                                   & 19                                       & ⋯                                        & 0                                        & 0                                        & 0                                        & 0                                        & 0                                        & 0                                        & 1                                        & 0                                        & 0                                        & 0                                       \\\\\n",
       "\t 1                                        & -1.585                                   & 27.87                                    & 12.2064                                  & 1                                        & GI1546\\_2\\_1\\_RA12\\_01\\_37557.mzXML & GI1546\\_2\\_1\\_RA12                    & GI1546\\_2\\_1                           & GI1546                                   & 13                                       & ⋯                                        & 0                                        & 0                                        & 0                                        & 0                                        & 0                                        & 0                                        & 1                                        & 0                                        & 0                                        & 0                                       \\\\\n",
       "\t 1                                        & -1.585                                   & 27.87                                    & 12.2064                                  & 1                                        & WW5157\\_2\\_1\\_RE1\\_01\\_37476.mzXML  & WW5157\\_2\\_1\\_RE1                     & WW5157\\_2\\_1                           & WW5157                                   &  9                                       & ⋯                                        & 0                                        & 0                                        & 0                                        & 0                                        & 0                                        & 0                                        & 1                                        & 0                                        & 0                                        & 0                                       \\\\\n",
       "\t 1                                        & -1.585                                   & 27.87                                    & 12.2064                                  & 1                                        & MB7148\\_1\\_1\\_RA1\\_01\\_37582.mzXML  & MB7148\\_1\\_1\\_RA1                     & MB7148\\_1\\_1                           & MB7148                                   & 11                                       & ⋯                                        & 0                                        & 0                                        & 0                                        & 0                                        & 0                                        & 0                                        & 1                                        & 0                                        & 0                                        & 0                                       \\\\\n",
       "\\end{tabular}\n"
      ],
      "text/markdown": [
       "\n",
       "Sample_Location | X | Y | Z | Radius | filename | unique_sample_ID | unique_sample_ID.1 | ATTRIBUTE_sample_ID | ATTRIBUTE_Meds_number | ⋯ | Sulfamethizole | Timolol | Triphenyl.phosphate | Tris.2.butoxyethyl..phosphate | Tyr.Pro | Undecaethylene.glycol | Sulfachloropyridazine | Sulfamethoxazole | Syringaldehyde | Syringic.acid | \n",
       "|---|---|---|---|---|---|\n",
       "| 1                              | -1.585                         | 27.87                          | 12.2064                        | 1                              | AA3594_1_1_RA1_01_37666.mzXML  | AA3594_1_1_RA1                 | AA3594_1_1                     | AA3594                         | 22                             | ⋯                              | 0                              | 0                              | 0                              | 0                              | 1                              | 0                              | 1                              | 0                              | 0                              | 1                              | \n",
       "| 1                              | -1.585                         | 27.87                          | 12.2064                        | 1                              | JH7190_2_1_RE1_01_37306.mzXML  | JH7190_2_1_RE1                 | JH7190_2_1                     | JH7190                         |  8                             | ⋯                              | 0                              | 0                              | 0                              | 0                              | 0                              | 0                              | 1                              | 1                              | 0                              | 0                              | \n",
       "| 1                              | -1.585                         | 27.87                          | 12.2064                        | 1                              | US5662_1_1_RA1_01_37353.mzXML  | US5662_1_1_RA1                 | US5662_1_1                     | US5662                         | 19                             | ⋯                              | 0                              | 0                              | 0                              | 0                              | 0                              | 0                              | 1                              | 0                              | 0                              | 0                              | \n",
       "| 1                              | -1.585                         | 27.87                          | 12.2064                        | 1                              | GI1546_2_1_RA12_01_37557.mzXML | GI1546_2_1_RA12                | GI1546_2_1                     | GI1546                         | 13                             | ⋯                              | 0                              | 0                              | 0                              | 0                              | 0                              | 0                              | 1                              | 0                              | 0                              | 0                              | \n",
       "| 1                              | -1.585                         | 27.87                          | 12.2064                        | 1                              | WW5157_2_1_RE1_01_37476.mzXML  | WW5157_2_1_RE1                 | WW5157_2_1                     | WW5157                         |  9                             | ⋯                              | 0                              | 0                              | 0                              | 0                              | 0                              | 0                              | 1                              | 0                              | 0                              | 0                              | \n",
       "| 1                              | -1.585                         | 27.87                          | 12.2064                        | 1                              | MB7148_1_1_RA1_01_37582.mzXML  | MB7148_1_1_RA1                 | MB7148_1_1                     | MB7148                         | 11                             | ⋯                              | 0                              | 0                              | 0                              | 0                              | 0                              | 0                              | 1                              | 0                              | 0                              | 0                              | \n",
       "\n",
       "\n"
      ],
      "text/plain": [
       "  Sample_Location X      Y     Z       Radius filename                      \n",
       "1 1               -1.585 27.87 12.2064 1      AA3594_1_1_RA1_01_37666.mzXML \n",
       "2 1               -1.585 27.87 12.2064 1      JH7190_2_1_RE1_01_37306.mzXML \n",
       "3 1               -1.585 27.87 12.2064 1      US5662_1_1_RA1_01_37353.mzXML \n",
       "4 1               -1.585 27.87 12.2064 1      GI1546_2_1_RA12_01_37557.mzXML\n",
       "5 1               -1.585 27.87 12.2064 1      WW5157_2_1_RE1_01_37476.mzXML \n",
       "6 1               -1.585 27.87 12.2064 1      MB7148_1_1_RA1_01_37582.mzXML \n",
       "  unique_sample_ID unique_sample_ID.1 ATTRIBUTE_sample_ID ATTRIBUTE_Meds_number\n",
       "1 AA3594_1_1_RA1   AA3594_1_1         AA3594              22                   \n",
       "2 JH7190_2_1_RE1   JH7190_2_1         JH7190               8                   \n",
       "3 US5662_1_1_RA1   US5662_1_1         US5662              19                   \n",
       "4 GI1546_2_1_RA12  GI1546_2_1         GI1546              13                   \n",
       "5 WW5157_2_1_RE1   WW5157_2_1         WW5157               9                   \n",
       "6 MB7148_1_1_RA1   MB7148_1_1         MB7148              11                   \n",
       "  ⋯ Sulfamethizole Timolol Triphenyl.phosphate Tris.2.butoxyethyl..phosphate\n",
       "1 ⋯ 0              0       0                   0                            \n",
       "2 ⋯ 0              0       0                   0                            \n",
       "3 ⋯ 0              0       0                   0                            \n",
       "4 ⋯ 0              0       0                   0                            \n",
       "5 ⋯ 0              0       0                   0                            \n",
       "6 ⋯ 0              0       0                   0                            \n",
       "  Tyr.Pro Undecaethylene.glycol Sulfachloropyridazine Sulfamethoxazole\n",
       "1 1       0                     1                     0               \n",
       "2 0       0                     1                     1               \n",
       "3 0       0                     1                     0               \n",
       "4 0       0                     1                     0               \n",
       "5 0       0                     1                     0               \n",
       "6 0       0                     1                     0               \n",
       "  Syringaldehyde Syringic.acid\n",
       "1 0              1            \n",
       "2 0              0            \n",
       "3 0              0            \n",
       "4 0              0            \n",
       "5 0              0            \n",
       "6 0              0            "
      ]
     },
     "metadata": {},
     "output_type": "display_data"
    }
   ],
   "source": [
    "head(ili_MS2_matrix)"
   ]
  },
  {
   "cell_type": "code",
   "execution_count": 8,
   "metadata": {},
   "outputs": [],
   "source": [
    "ili_MS2_matrix_reorder <- cbind(ili_MS2_matrix[,c(which(colnames(ili_MS2_matrix)==c(\"filename\")))],\n",
    "                                ili_MS2_matrix[,c(which(colnames(ili_MS2_matrix)==c(\"X\")))], \n",
    "                                ili_MS2_matrix[,c(which(colnames(ili_MS2_matrix)==c(\"Y\")))],\n",
    "                                ili_MS2_matrix[,c(which(colnames(ili_MS2_matrix)==c(\"Z\")))],\n",
    "                                ili_MS2_matrix[,c(which(colnames(ili_MS2_matrix)==c(\"Radius\")))],\n",
    "                                ili_MS2_matrix[,c(which(colnames(ili_MS2_matrix)==c(\"ATTRIBUTE_sample_ID\")))],\n",
    "                                ili_MS2_matrix[,c(which(colnames(ili_MS2_matrix)==c(\"ATTRIBUTE_Timepoint\")))],\n",
    "                                ili_MS2_matrix[,c(which(colnames(ili_MS2_matrix)==c(\"Sample_Location\")))],\n",
    "                                ili_MS2_matrix[,-c(1:8)]\n",
    "                                )\n",
    "colnames(ili_MS2_matrix_reorder)[1:8] <- c(\"filename\",\"X\",\"Y\",\"Z\",\"Radii\",\"ATTRIBUTE_sample_ID\",\"ATTRIBUTE_Timepoint\",\"ATTRIBUTE_Body_Site\")"
   ]
  },
  {
   "cell_type": "code",
   "execution_count": 9,
   "metadata": {},
   "outputs": [
    {
     "data": {
      "text/html": [
       "199"
      ],
      "text/latex": [
       "199"
      ],
      "text/markdown": [
       "199"
      ],
      "text/plain": [
       "[1] 199"
      ]
     },
     "metadata": {},
     "output_type": "display_data"
    },
    {
     "data": {
      "text/html": [
       "193"
      ],
      "text/latex": [
       "193"
      ],
      "text/markdown": [
       "193"
      ],
      "text/plain": [
       "[1] 193"
      ]
     },
     "metadata": {},
     "output_type": "display_data"
    }
   ],
   "source": [
    "which(colnames(ili_MS2_matrix_reorder)==\"Sulfachloropyridazine\")\n",
    "    which(colnames(ili_MS2_matrix_reorder)==\"Sulfamethizole\")"
   ]
  },
  {
   "cell_type": "code",
   "execution_count": 11,
   "metadata": {},
   "outputs": [],
   "source": [
    "write.csv(ili_MS2_matrix_reorder,\"ili/20180903_Immunosuppressant15Skin_ili_MS2.csv\", row.names=FALSE)"
   ]
  },
  {
   "cell_type": "code",
   "execution_count": 12,
   "metadata": {},
   "outputs": [],
   "source": [
    "AA3594_TP1 <- subset(ili_MS2_matrix_reorder, \n",
    "                 ili_MS2_matrix_reorder$ATTRIBUTE_sample_ID == \"AA3594\" & \n",
    "                     ili_MS2_matrix_reorder$ATTRIBUTE_Timepoint == \"1\")\n",
    "AA3594_TP2 <- subset(ili_MS2_matrix_reorder, \n",
    "                 ili_MS2_matrix_reorder$ATTRIBUTE_sample_ID == \"AA3594\" & \n",
    "                     ili_MS2_matrix_reorder$ATTRIBUTE_Timepoint == \"2\")\n",
    "JH7190_TP1 <- subset(ili_MS2_matrix_reorder, \n",
    "                 ili_MS2_matrix_reorder$ATTRIBUTE_sample_ID == \"JH7190\" & \n",
    "                     ili_MS2_matrix_reorder$ATTRIBUTE_Timepoint == \"1\")\n",
    "JH7190_TP2 <- subset(ili_MS2_matrix_reorder, \n",
    "                 ili_MS2_matrix_reorder$ATTRIBUTE_sample_ID == \"JH7190\" & \n",
    "                     ili_MS2_matrix_reorder$ATTRIBUTE_Timepoint == \"2\")\n",
    "US5662_TP1 <- subset(ili_MS2_matrix_reorder, \n",
    "                 ili_MS2_matrix_reorder$ATTRIBUTE_sample_ID == \"US5662\" & \n",
    "                     ili_MS2_matrix_reorder$ATTRIBUTE_Timepoint == \"1\")\n",
    "US5662_TP2 <- subset(ili_MS2_matrix_reorder, \n",
    "                 ili_MS2_matrix_reorder$ATTRIBUTE_sample_ID == \"US5662\" & \n",
    "                     ili_MS2_matrix_reorder$ATTRIBUTE_Timepoint == \"2\")\n",
    "GI1546_TP1 <- subset(ili_MS2_matrix_reorder, \n",
    "                 ili_MS2_matrix_reorder$ATTRIBUTE_sample_ID == \"GI1546\" & \n",
    "                     ili_MS2_matrix_reorder$ATTRIBUTE_Timepoint == \"1\")\n",
    "GI1546_TP2 <- subset(ili_MS2_matrix_reorder, \n",
    "                 ili_MS2_matrix_reorder$ATTRIBUTE_sample_ID == \"GI1546\" & \n",
    "                     ili_MS2_matrix_reorder$ATTRIBUTE_Timepoint == \"2\")\n",
    "WW5157_TP1 <- subset(ili_MS2_matrix_reorder, \n",
    "                 ili_MS2_matrix_reorder$ATTRIBUTE_sample_ID == \"WW5157\" & \n",
    "                     ili_MS2_matrix_reorder$ATTRIBUTE_Timepoint == \"1\")\n",
    "WW5157_TP2 <- subset(ili_MS2_matrix_reorder, \n",
    "                 ili_MS2_matrix_reorder$ATTRIBUTE_sample_ID == \"WW5157\" & \n",
    "                     ili_MS2_matrix_reorder$ATTRIBUTE_Timepoint == \"2\")\n",
    "MB7148_TP1 <- subset(ili_MS2_matrix_reorder, \n",
    "                 ili_MS2_matrix_reorder$ATTRIBUTE_sample_ID == \"MB7148\" & \n",
    "                     ili_MS2_matrix_reorder$ATTRIBUTE_Timepoint == \"1\")\n",
    "MB7148_TP2 <- subset(ili_MS2_matrix_reorder, \n",
    "                 ili_MS2_matrix_reorder$ATTRIBUTE_sample_ID == \"MB7148\" & \n",
    "                     ili_MS2_matrix_reorder$ATTRIBUTE_Timepoint == \"2\")\n",
    "TR0174_TP1 <- subset(ili_MS2_matrix_reorder, \n",
    "                 ili_MS2_matrix_reorder$ATTRIBUTE_sample_ID == \"TR0174\" & \n",
    "                     ili_MS2_matrix_reorder$ATTRIBUTE_Timepoint == \"1\")\n",
    "TR0174_TP2 <- subset(ili_MS2_matrix_reorder, \n",
    "                 ili_MS2_matrix_reorder$ATTRIBUTE_sample_ID == \"TR0174\" & \n",
    "                     ili_MS2_matrix_reorder$ATTRIBUTE_Timepoint == \"2\")\n",
    "LJ1904_TP1 <- subset(ili_MS2_matrix_reorder, \n",
    "                 ili_MS2_matrix_reorder$ATTRIBUTE_sample_ID == \"LJ1904\" & \n",
    "                     ili_MS2_matrix_reorder$ATTRIBUTE_Timepoint == \"1\")\n",
    "LJ1904_TP2 <- subset(ili_MS2_matrix_reorder, \n",
    "                 ili_MS2_matrix_reorder$ATTRIBUTE_sample_ID == \"LJ1904\" & \n",
    "                     ili_MS2_matrix_reorder$ATTRIBUTE_Timepoint == \"2\")\n",
    "GM5968_TP1 <- subset(ili_MS2_matrix_reorder, \n",
    "                 ili_MS2_matrix_reorder$ATTRIBUTE_sample_ID == \"GM5968\" & \n",
    "                     ili_MS2_matrix_reorder$ATTRIBUTE_Timepoint == \"1\")\n",
    "GM5968_TP2 <- subset(ili_MS2_matrix_reorder, \n",
    "                 ili_MS2_matrix_reorder$ATTRIBUTE_sample_ID == \"GM5968\" & \n",
    "                     ili_MS2_matrix_reorder$ATTRIBUTE_Timepoint == \"2\")\n",
    "CH3954_TP1 <- subset(ili_MS2_matrix_reorder, \n",
    "                 ili_MS2_matrix_reorder$ATTRIBUTE_sample_ID == \"CH3954\" & \n",
    "                     ili_MS2_matrix_reorder$ATTRIBUTE_Timepoint == \"1\")\n",
    "CH3954_TP2 <- subset(ili_MS2_matrix_reorder, \n",
    "                 ili_MS2_matrix_reorder$ATTRIBUTE_sample_ID == \"CH3954\" & \n",
    "                     ili_MS2_matrix_reorder$ATTRIBUTE_Timepoint == \"2\")\n",
    "MM9865_TP1 <- subset(ili_MS2_matrix_reorder, \n",
    "                 ili_MS2_matrix_reorder$ATTRIBUTE_sample_ID == \"MM9865\" & \n",
    "                     ili_MS2_matrix_reorder$ATTRIBUTE_Timepoint == \"1\")\n",
    "MM9865_TP2 <- subset(ili_MS2_matrix_reorder, \n",
    "                 ili_MS2_matrix_reorder$ATTRIBUTE_sample_ID == \"MM9865\" & \n",
    "                     ili_MS2_matrix_reorder$ATTRIBUTE_Timepoint == \"2\")\n",
    "MA2568_TP1 <- subset(ili_MS2_matrix_reorder, \n",
    "                 ili_MS2_matrix_reorder$ATTRIBUTE_sample_ID == \"MA2568\" & \n",
    "                     ili_MS2_matrix_reorder$ATTRIBUTE_Timepoint == \"1\")\n",
    "MA2568_TP2 <- subset(ili_MS2_matrix_reorder, \n",
    "                 ili_MS2_matrix_reorder$ATTRIBUTE_sample_ID == \"MA2568\" & \n",
    "                     ili_MS2_matrix_reorder$ATTRIBUTE_Timepoint == \"2\")\n",
    "BF1637_TP1 <- subset(ili_MS2_matrix_reorder, \n",
    "                 ili_MS2_matrix_reorder$ATTRIBUTE_sample_ID == \"BF1637\" & \n",
    "                     ili_MS2_matrix_reorder$ATTRIBUTE_Timepoint == \"1\")\n",
    "BF1637_TP2 <- subset(ili_MS2_matrix_reorder, \n",
    "                 ili_MS2_matrix_reorder$ATTRIBUTE_sample_ID == \"BF1637\" & \n",
    "                     ili_MS2_matrix_reorder$ATTRIBUTE_Timepoint == \"2\")\n",
    "MA3256_TP1 <- subset(ili_MS2_matrix_reorder, \n",
    "                 ili_MS2_matrix_reorder$ATTRIBUTE_sample_ID == \"MA3256\" & \n",
    "                     ili_MS2_matrix_reorder$ATTRIBUTE_Timepoint == \"1\")\n",
    "MA3256_TP2 <- subset(ili_MS2_matrix_reorder, \n",
    "                 ili_MS2_matrix_reorder$ATTRIBUTE_sample_ID == \"MA3256\" & \n",
    "                     ili_MS2_matrix_reorder$ATTRIBUTE_Timepoint == \"2\")\n",
    "SG5350_TP1 <- subset(ili_MS2_matrix_reorder, \n",
    "                 ili_MS2_matrix_reorder$ATTRIBUTE_sample_ID == \"SG5350\" & \n",
    "                     ili_MS2_matrix_reorder$ATTRIBUTE_Timepoint == \"1\")\n",
    "SG5350_TP2 <- subset(ili_MS2_matrix_reorder, \n",
    "                 ili_MS2_matrix_reorder$ATTRIBUTE_sample_ID == \"SG5350\" | \n",
    "                     ili_MS2_matrix_reorder$ATTRIBUTE_Timepoint == \"2\")"
   ]
  },
  {
   "cell_type": "code",
   "execution_count": 13,
   "metadata": {},
   "outputs": [],
   "source": [
    "write.csv(AA3594_TP1,\"ili/20180903_Immunosuppressant15Skin_ili_MS2_AA3594_TP1.csv\", row.names=FALSE)\n",
    "write.csv(AA3594_TP2,\"ili/20180903_Immunosuppressant15Skin_ili_MS2_AA3594_TP2.csv\", row.names=FALSE)\n",
    "\n",
    "write.csv(JH7190_TP1,\"ili/20180903_Immunosuppressant15Skin_ili_MS2_JH7190_TP1.csv\", row.names=FALSE)\n",
    "write.csv(JH7190_TP2,\"ili/20180903_Immunosuppressant15Skin_ili_MS2_JH7190_TP2.csv\", row.names=FALSE)\n",
    "\n",
    "write.csv(US5662_TP1,\"ili/20180903_Immunosuppressant15Skin_ili_MS2_US5662_TP1.csv\", row.names=FALSE)\n",
    "write.csv(US5662_TP2,\"ili/20180903_Immunosuppressant15Skin_ili_MS2_US5662_TP2.csv\", row.names=FALSE)\n",
    "\n",
    "write.csv(GI1546_TP1,\"ili/20180903_Immunosuppressant15Skin_ili_MS2_GI1546_TP1.csv\", row.names=FALSE)\n",
    "write.csv(GI1546_TP2,\"ili/20180903_Immunosuppressant15Skin_ili_MS2_GI1546_TP2.csv\", row.names=FALSE)\n",
    "\n",
    "write.csv(WW5157_TP1,\"ili/20180903_Immunosuppressant15Skin_ili_MS2_WW5157_TP1.csv\", row.names=FALSE)\n",
    "write.csv(WW5157_TP2,\"ili/20180903_Immunosuppressant15Skin_ili_MS2_WW5157_TP2.csv\", row.names=FALSE)\n",
    "\n",
    "write.csv(MB7148_TP1,\"ili/20180903_Immunosuppressant15Skin_ili_MS2_MB7148_TP1.csv\", row.names=FALSE)\n",
    "write.csv(MB7148_TP2,\"ili/20180903_Immunosuppressant15Skin_ili_MS2_MB7148_TP2.csv\", row.names=FALSE)\n",
    "\n",
    "write.csv(TR0174_TP1,\"ili/20180903_Immunosuppressant15Skin_ili_MS2_TR0174_TP1.csv\", row.names=FALSE)\n",
    "write.csv(TR0174_TP2,\"ili/20180903_Immunosuppressant15Skin_ili_MS2_TR0174_TP2.csv\", row.names=FALSE)\n",
    "\n",
    "write.csv(LJ1904_TP1,\"ili/20180903_Immunosuppressant15Skin_ili_MS2_LJ1904_TP1.csv\", row.names=FALSE)\n",
    "write.csv(LJ1904_TP2,\"ili/20180903_Immunosuppressant15Skin_ili_MS2_LJ1904_TP2.csv\", row.names=FALSE)\n",
    "\n",
    "write.csv(GM5968_TP1,\"ili/20180903_Immunosuppressant15Skin_ili_MS2_GM5968_TP1.csv\", row.names=FALSE)\n",
    "write.csv(GM5968_TP2,\"ili/20180903_Immunosuppressant15Skin_ili_MS2_GM5968_TP2.csv\", row.names=FALSE)\n",
    "\n",
    "write.csv(CH3954_TP1,\"ili/20180903_Immunosuppressant15Skin_ili_MS2_CH3954_TP1.csv\", row.names=FALSE)\n",
    "write.csv(CH3954_TP2,\"ili/20180903_Immunosuppressant15Skin_ili_MS2_CH3954_TP2.csv\", row.names=FALSE)\n",
    "\n",
    "write.csv(MM9865_TP1,\"ili/20180903_Immunosuppressant15Skin_ili_MS2_MM9865_TP1.csv\", row.names=FALSE)\n",
    "write.csv(MM9865_TP2,\"ili/20180903_Immunosuppressant15Skin_ili_MS2_MM9865_TP2.csv\", row.names=FALSE)\n",
    "\n",
    "write.csv(MA2568_TP1,\"ili/20180903_Immunosuppressant15Skin_ili_MS2_MA2568_TP1.csv\", row.names=FALSE)\n",
    "write.csv(MA2568_TP2,\"ili/20180903_Immunosuppressant15Skin_ili_MS2_MA2568_TP2.csv\", row.names=FALSE)\n",
    "\n",
    "write.csv(BF1637_TP1,\"ili/20180903_Immunosuppressant15Skin_ili_MS2_BF1637_TP1.csv\", row.names=FALSE)\n",
    "write.csv(BF1637_TP2,\"ili/20180903_Immunosuppressant15Skin_ili_MS2_BF1637_TP2.csv\", row.names=FALSE)\n",
    "\n",
    "write.csv(MA3256_TP1,\"ili/20180903_Immunosuppressant15Skin_ili_MS2_MA3256_TP1.csv\", row.names=FALSE)\n",
    "write.csv(MA3256_TP2,\"ili/20180903_Immunosuppressant15Skin_ili_MS2_MA3256_TP2.csv\", row.names=FALSE)\n",
    "\n",
    "write.csv(SG5350_TP1,\"ili/20180903_Immunosuppressant15Skin_ili_MS2_SG5350_TP1.csv\", row.names=FALSE)\n",
    "write.csv(SG5350_TP2,\"ili/20180903_Immunosuppressant15Skin_ili_MS2_SG5350_TP2.csv\", row.names=FALSE)"
   ]
  },
  {
   "cell_type": "code",
   "execution_count": 14,
   "metadata": {},
   "outputs": [
    {
     "data": {
      "text/html": [
       "<table>\n",
       "<thead><tr><th></th><th scope=col>filename</th><th scope=col>X</th><th scope=col>Y</th><th scope=col>Z</th><th scope=col>Radii</th><th scope=col>ATTRIBUTE_sample_ID</th><th scope=col>ATTRIBUTE_Timepoint</th><th scope=col>ATTRIBUTE_Body_Site</th><th scope=col>ATTRIBUTE_sample_ID.1</th><th scope=col>ATTRIBUTE_Meds_number</th><th scope=col>⋯</th><th scope=col>Sulfamethizole</th><th scope=col>Timolol</th><th scope=col>Triphenyl.phosphate</th><th scope=col>Tris.2.butoxyethyl..phosphate</th><th scope=col>Tyr.Pro</th><th scope=col>Undecaethylene.glycol</th><th scope=col>Sulfachloropyridazine</th><th scope=col>Sulfamethoxazole</th><th scope=col>Syringaldehyde</th><th scope=col>Syringic.acid</th></tr></thead>\n",
       "<tbody>\n",
       "\t<tr><th scope=row>2</th><td>JH7190_2_1_RE1_01_37306.mzXML </td><td>-1.585                        </td><td>27.87                         </td><td>12.2064                       </td><td>1                             </td><td>JH7190                        </td><td>2                             </td><td>1                             </td><td>JH7190                        </td><td> 8                            </td><td>⋯                             </td><td>0                             </td><td>0                             </td><td>0                             </td><td>0                             </td><td>0                             </td><td>0                             </td><td>1                             </td><td>1                             </td><td>0                             </td><td>0                             </td></tr>\n",
       "\t<tr><th scope=row>4</th><td>GI1546_2_1_RA12_01_37557.mzXML</td><td>-1.585                        </td><td>27.87                         </td><td>12.2064                       </td><td>1                             </td><td>GI1546                        </td><td>2                             </td><td>1                             </td><td>GI1546                        </td><td>13                            </td><td>⋯                             </td><td>0                             </td><td>0                             </td><td>0                             </td><td>0                             </td><td>0                             </td><td>0                             </td><td>1                             </td><td>0                             </td><td>0                             </td><td>0                             </td></tr>\n",
       "\t<tr><th scope=row>5</th><td>WW5157_2_1_RE1_01_37476.mzXML </td><td>-1.585                        </td><td>27.87                         </td><td>12.2064                       </td><td>1                             </td><td>WW5157                        </td><td>2                             </td><td>1                             </td><td>WW5157                        </td><td> 9                            </td><td>⋯                             </td><td>0                             </td><td>0                             </td><td>0                             </td><td>0                             </td><td>0                             </td><td>0                             </td><td>1                             </td><td>0                             </td><td>0                             </td><td>0                             </td></tr>\n",
       "\t<tr><th scope=row>7</th><td>TR0174_2_1_RF1_01_37700.mzXML </td><td>-1.585                        </td><td>27.87                         </td><td>12.2064                       </td><td>1                             </td><td>TR0174                        </td><td>2                             </td><td>1                             </td><td>TR0174                        </td><td>18                            </td><td>⋯                             </td><td>0                             </td><td>0                             </td><td>0                             </td><td>0                             </td><td>1                             </td><td>0                             </td><td>1                             </td><td>0                             </td><td>0                             </td><td>0                             </td></tr>\n",
       "\t<tr><th scope=row>8</th><td>LJ1904_2_1_RB1_01_37451.mzXML </td><td>-1.585                        </td><td>27.87                         </td><td>12.2064                       </td><td>1                             </td><td>LJ1904                        </td><td>2                             </td><td>1                             </td><td>LJ1904                        </td><td>15                            </td><td>⋯                             </td><td>0                             </td><td>0                             </td><td>0                             </td><td>0                             </td><td>0                             </td><td>0                             </td><td>1                             </td><td>0                             </td><td>0                             </td><td>0                             </td></tr>\n",
       "\t<tr><th scope=row>9</th><td>GM5968_2_1_RE1_01_37392.mzXML </td><td>-1.585                        </td><td>27.87                         </td><td>12.2064                       </td><td>1                             </td><td>GM5968                        </td><td>2                             </td><td>1                             </td><td>GM5968                        </td><td>13                            </td><td>⋯                             </td><td>0                             </td><td>0                             </td><td>1                             </td><td>0                             </td><td>0                             </td><td>0                             </td><td>1                             </td><td>0                             </td><td>1                             </td><td>0                             </td></tr>\n",
       "</tbody>\n",
       "</table>\n"
      ],
      "text/latex": [
       "\\begin{tabular}{r|llllllllllllllllllllllllllllllllllllllllllllllllllllllllllllllllllllllllllllllllllllllllllllllllllllllllllllllllllllllllllllllllllllllllllllllllllllllllllllllllllllllllllllllllllllllllllllllllllllllllll}\n",
       "  & filename & X & Y & Z & Radii & ATTRIBUTE\\_sample\\_ID & ATTRIBUTE\\_Timepoint & ATTRIBUTE\\_Body\\_Site & ATTRIBUTE\\_sample\\_ID.1 & ATTRIBUTE\\_Meds\\_number & ⋯ & Sulfamethizole & Timolol & Triphenyl.phosphate & Tris.2.butoxyethyl..phosphate & Tyr.Pro & Undecaethylene.glycol & Sulfachloropyridazine & Sulfamethoxazole & Syringaldehyde & Syringic.acid\\\\\n",
       "\\hline\n",
       "\t2 & JH7190\\_2\\_1\\_RE1\\_01\\_37306.mzXML  & -1.585                                   & 27.87                                    & 12.2064                                  & 1                                        & JH7190                                   & 2                                        & 1                                        & JH7190                                   &  8                                       & ⋯                                        & 0                                        & 0                                        & 0                                        & 0                                        & 0                                        & 0                                        & 1                                        & 1                                        & 0                                        & 0                                       \\\\\n",
       "\t4 & GI1546\\_2\\_1\\_RA12\\_01\\_37557.mzXML & -1.585                                   & 27.87                                    & 12.2064                                  & 1                                        & GI1546                                   & 2                                        & 1                                        & GI1546                                   & 13                                       & ⋯                                        & 0                                        & 0                                        & 0                                        & 0                                        & 0                                        & 0                                        & 1                                        & 0                                        & 0                                        & 0                                       \\\\\n",
       "\t5 & WW5157\\_2\\_1\\_RE1\\_01\\_37476.mzXML  & -1.585                                   & 27.87                                    & 12.2064                                  & 1                                        & WW5157                                   & 2                                        & 1                                        & WW5157                                   &  9                                       & ⋯                                        & 0                                        & 0                                        & 0                                        & 0                                        & 0                                        & 0                                        & 1                                        & 0                                        & 0                                        & 0                                       \\\\\n",
       "\t7 & TR0174\\_2\\_1\\_RF1\\_01\\_37700.mzXML  & -1.585                                   & 27.87                                    & 12.2064                                  & 1                                        & TR0174                                   & 2                                        & 1                                        & TR0174                                   & 18                                       & ⋯                                        & 0                                        & 0                                        & 0                                        & 0                                        & 1                                        & 0                                        & 1                                        & 0                                        & 0                                        & 0                                       \\\\\n",
       "\t8 & LJ1904\\_2\\_1\\_RB1\\_01\\_37451.mzXML  & -1.585                                   & 27.87                                    & 12.2064                                  & 1                                        & LJ1904                                   & 2                                        & 1                                        & LJ1904                                   & 15                                       & ⋯                                        & 0                                        & 0                                        & 0                                        & 0                                        & 0                                        & 0                                        & 1                                        & 0                                        & 0                                        & 0                                       \\\\\n",
       "\t9 & GM5968\\_2\\_1\\_RE1\\_01\\_37392.mzXML  & -1.585                                   & 27.87                                    & 12.2064                                  & 1                                        & GM5968                                   & 2                                        & 1                                        & GM5968                                   & 13                                       & ⋯                                        & 0                                        & 0                                        & 1                                        & 0                                        & 0                                        & 0                                        & 1                                        & 0                                        & 1                                        & 0                                       \\\\\n",
       "\\end{tabular}\n"
      ],
      "text/markdown": [
       "\n",
       "| <!--/--> | filename | X | Y | Z | Radii | ATTRIBUTE_sample_ID | ATTRIBUTE_Timepoint | ATTRIBUTE_Body_Site | ATTRIBUTE_sample_ID.1 | ATTRIBUTE_Meds_number | ⋯ | Sulfamethizole | Timolol | Triphenyl.phosphate | Tris.2.butoxyethyl..phosphate | Tyr.Pro | Undecaethylene.glycol | Sulfachloropyridazine | Sulfamethoxazole | Syringaldehyde | Syringic.acid | \n",
       "|---|---|---|---|---|---|\n",
       "| 2 | JH7190_2_1_RE1_01_37306.mzXML  | -1.585                         | 27.87                          | 12.2064                        | 1                              | JH7190                         | 2                              | 1                              | JH7190                         |  8                             | ⋯                              | 0                              | 0                              | 0                              | 0                              | 0                              | 0                              | 1                              | 1                              | 0                              | 0                              | \n",
       "| 4 | GI1546_2_1_RA12_01_37557.mzXML | -1.585                         | 27.87                          | 12.2064                        | 1                              | GI1546                         | 2                              | 1                              | GI1546                         | 13                             | ⋯                              | 0                              | 0                              | 0                              | 0                              | 0                              | 0                              | 1                              | 0                              | 0                              | 0                              | \n",
       "| 5 | WW5157_2_1_RE1_01_37476.mzXML  | -1.585                         | 27.87                          | 12.2064                        | 1                              | WW5157                         | 2                              | 1                              | WW5157                         |  9                             | ⋯                              | 0                              | 0                              | 0                              | 0                              | 0                              | 0                              | 1                              | 0                              | 0                              | 0                              | \n",
       "| 7 | TR0174_2_1_RF1_01_37700.mzXML  | -1.585                         | 27.87                          | 12.2064                        | 1                              | TR0174                         | 2                              | 1                              | TR0174                         | 18                             | ⋯                              | 0                              | 0                              | 0                              | 0                              | 1                              | 0                              | 1                              | 0                              | 0                              | 0                              | \n",
       "| 8 | LJ1904_2_1_RB1_01_37451.mzXML  | -1.585                         | 27.87                          | 12.2064                        | 1                              | LJ1904                         | 2                              | 1                              | LJ1904                         | 15                             | ⋯                              | 0                              | 0                              | 0                              | 0                              | 0                              | 0                              | 1                              | 0                              | 0                              | 0                              | \n",
       "| 9 | GM5968_2_1_RE1_01_37392.mzXML  | -1.585                         | 27.87                          | 12.2064                        | 1                              | GM5968                         | 2                              | 1                              | GM5968                         | 13                             | ⋯                              | 0                              | 0                              | 1                              | 0                              | 0                              | 0                              | 1                              | 0                              | 1                              | 0                              | \n",
       "\n",
       "\n"
      ],
      "text/plain": [
       "  filename                       X      Y     Z       Radii ATTRIBUTE_sample_ID\n",
       "2 JH7190_2_1_RE1_01_37306.mzXML  -1.585 27.87 12.2064 1     JH7190             \n",
       "4 GI1546_2_1_RA12_01_37557.mzXML -1.585 27.87 12.2064 1     GI1546             \n",
       "5 WW5157_2_1_RE1_01_37476.mzXML  -1.585 27.87 12.2064 1     WW5157             \n",
       "7 TR0174_2_1_RF1_01_37700.mzXML  -1.585 27.87 12.2064 1     TR0174             \n",
       "8 LJ1904_2_1_RB1_01_37451.mzXML  -1.585 27.87 12.2064 1     LJ1904             \n",
       "9 GM5968_2_1_RE1_01_37392.mzXML  -1.585 27.87 12.2064 1     GM5968             \n",
       "  ATTRIBUTE_Timepoint ATTRIBUTE_Body_Site ATTRIBUTE_sample_ID.1\n",
       "2 2                   1                   JH7190               \n",
       "4 2                   1                   GI1546               \n",
       "5 2                   1                   WW5157               \n",
       "7 2                   1                   TR0174               \n",
       "8 2                   1                   LJ1904               \n",
       "9 2                   1                   GM5968               \n",
       "  ATTRIBUTE_Meds_number ⋯ Sulfamethizole Timolol Triphenyl.phosphate\n",
       "2  8                    ⋯ 0              0       0                  \n",
       "4 13                    ⋯ 0              0       0                  \n",
       "5  9                    ⋯ 0              0       0                  \n",
       "7 18                    ⋯ 0              0       0                  \n",
       "8 15                    ⋯ 0              0       0                  \n",
       "9 13                    ⋯ 0              0       1                  \n",
       "  Tris.2.butoxyethyl..phosphate Tyr.Pro Undecaethylene.glycol\n",
       "2 0                             0       0                    \n",
       "4 0                             0       0                    \n",
       "5 0                             0       0                    \n",
       "7 0                             1       0                    \n",
       "8 0                             0       0                    \n",
       "9 0                             0       0                    \n",
       "  Sulfachloropyridazine Sulfamethoxazole Syringaldehyde Syringic.acid\n",
       "2 1                     1                0              0            \n",
       "4 1                     0                0              0            \n",
       "5 1                     0                0              0            \n",
       "7 1                     0                0              0            \n",
       "8 1                     0                0              0            \n",
       "9 1                     0                1              0            "
      ]
     },
     "metadata": {},
     "output_type": "display_data"
    }
   ],
   "source": [
    "head(SG5350_TP2)"
   ]
  },
  {
   "cell_type": "code",
   "execution_count": null,
   "metadata": {},
   "outputs": [],
   "source": []
  }
 ],
 "metadata": {
  "kernelspec": {
   "display_name": "R",
   "language": "R",
   "name": "ir"
  },
  "language_info": {
   "codemirror_mode": "r",
   "file_extension": ".r",
   "mimetype": "text/x-r-source",
   "name": "R",
   "pygments_lexer": "r",
   "version": "3.5.0"
  }
 },
 "nbformat": 4,
 "nbformat_minor": 2
}
