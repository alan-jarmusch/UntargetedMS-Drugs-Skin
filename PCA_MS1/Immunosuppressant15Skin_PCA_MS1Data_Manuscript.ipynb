{
 "cells": [
  {
   "cell_type": "markdown",
   "metadata": {},
   "source": [
    "# Principal Coordinates Analysis for MS1 Data Matrix (i.e. MS1 Feature Table)\n",
    " __Author:__ Alan K. Jarmusch <br>\n",
    " __Verion:__ 1.0 <br>\n",
    " __Date of Last Revision:__ 02-20-2018 <br>\n",
    " __Input:__ Data matrix with metadata (.csv), samples (row) by variables (columns). Data should be normalized but not centered."
   ]
  },
  {
   "cell_type": "code",
   "execution_count": 1,
   "metadata": {},
   "outputs": [],
   "source": [
    "suppressMessages(library(pcaMethods))\n",
    "suppressMessages(library(ggplot2))\n",
    "suppressMessages(library(Hmisc))\n",
    "suppressMessages(library(grid))\n",
    "suppressMessages(library(gridExtra))\n",
    "suppressMessages(library(dplyr))\n",
    "suppressMessages(library(tidyr))"
   ]
  },
  {
   "cell_type": "code",
   "execution_count": 2,
   "metadata": {},
   "outputs": [],
   "source": [
    "df <- read.csv(\"Analysis_Matrix/20180702_Immunosuppressant15Skin_MS1DataMatrix_RowSumNorm.csv\", header=TRUE)"
   ]
  },
  {
   "cell_type": "code",
   "execution_count": 3,
   "metadata": {},
   "outputs": [
    {
     "data": {
      "text/html": [
       "<ol class=list-inline>\n",
       "\t<li>298</li>\n",
       "\t<li>20688</li>\n",
       "</ol>\n"
      ],
      "text/latex": [
       "\\begin{enumerate*}\n",
       "\\item 298\n",
       "\\item 20688\n",
       "\\end{enumerate*}\n"
      ],
      "text/markdown": [
       "1. 298\n",
       "2. 20688\n",
       "\n",
       "\n"
      ],
      "text/plain": [
       "[1]   298 20688"
      ]
     },
     "metadata": {},
     "output_type": "display_data"
    }
   ],
   "source": [
    "dim(df)"
   ]
  },
  {
   "cell_type": "code",
   "execution_count": 4,
   "metadata": {},
   "outputs": [
    {
     "data": {
      "text/html": [
       "<table>\n",
       "<thead><tr><th scope=col>filename</th><th scope=col>unique_sample_ID</th><th scope=col>unique_sample_ID.1</th><th scope=col>ATTRIBUTE_sample_ID</th><th scope=col>ATTRIBUTE_Meds_number</th><th scope=col>ATTRIBUTE_prescribed_acetaminophen</th><th scope=col>ATTRIBUTE_prescribed_albuterol</th><th scope=col>ATTRIBUTE_prescribed_allopurinol</th><th scope=col>ATTRIBUTE_prescribed_amlodipine</th><th scope=col>ATTRIBUTE_prescribed_aspirin</th><th scope=col>⋯</th><th scope=col>ATTRIBUTE_prescribed_budesonide</th><th scope=col>ATTRIBUTE_prescribed_calcitriol</th><th scope=col>ATTRIBUTE_prescribed_calcium.carbonate</th><th scope=col>ATTRIBUTE_prescribed_cephalexin</th><th scope=col>ATTRIBUTE_prescribed_cholecalciferol</th><th scope=col>ATTRIBUTE_prescribed_cinacalcet</th><th scope=col>ATTRIBUTE_prescribed_citalopram</th><th scope=col>ATTRIBUTE_prescribed_clonidine</th><th scope=col>ATTRIBUTE_prescribed_conjugated.estrogens</th><th scope=col>ATTRIBUTE_prescribed_dapsone</th></tr></thead>\n",
       "<tbody>\n",
       "\t<tr><td>AA3594_1_1_RA1_01_37666.mzXML  </td><td>AA3594_1_1_RA1                 </td><td>AA3594_1_1                     </td><td>AA3594                         </td><td>22                             </td><td>0                              </td><td>0                              </td><td>1                              </td><td>0                              </td><td>0                              </td><td>⋯                              </td><td>0                              </td><td>0                              </td><td>0                              </td><td>0                              </td><td>0                              </td><td>0                              </td><td>0                              </td><td>1                              </td><td>0                              </td><td>0                              </td></tr>\n",
       "\t<tr><td>AA3594_1_10_RA10_01_37671.mzXML</td><td>AA3594_1_10_RA10               </td><td>AA3594_1_10                    </td><td>AA3594                         </td><td>22                             </td><td>0                              </td><td>0                              </td><td>1                              </td><td>0                              </td><td>0                              </td><td>⋯                              </td><td>0                              </td><td>0                              </td><td>0                              </td><td>0                              </td><td>0                              </td><td>0                              </td><td>0                              </td><td>1                              </td><td>0                              </td><td>0                              </td></tr>\n",
       "\t<tr><td>AA3594_1_2_RA2_01_37667.mzXML  </td><td>AA3594_1_2_RA2                 </td><td>AA3594_1_2                     </td><td>AA3594                         </td><td>22                             </td><td>0                              </td><td>0                              </td><td>1                              </td><td>0                              </td><td>0                              </td><td>⋯                              </td><td>0                              </td><td>0                              </td><td>0                              </td><td>0                              </td><td>0                              </td><td>0                              </td><td>0                              </td><td>1                              </td><td>0                              </td><td>0                              </td></tr>\n",
       "\t<tr><td>AA3594_1_3_RA3_01_37668.mzXML  </td><td>AA3594_1_3_RA3                 </td><td>AA3594_1_3                     </td><td>AA3594                         </td><td>22                             </td><td>0                              </td><td>0                              </td><td>1                              </td><td>0                              </td><td>0                              </td><td>⋯                              </td><td>0                              </td><td>0                              </td><td>0                              </td><td>0                              </td><td>0                              </td><td>0                              </td><td>0                              </td><td>1                              </td><td>0                              </td><td>0                              </td></tr>\n",
       "\t<tr><td>AA3594_1_4_RA4_01_37669.mzXML  </td><td>AA3594_1_4_RA4                 </td><td>AA3594_1_4                     </td><td>AA3594                         </td><td>22                             </td><td>0                              </td><td>0                              </td><td>1                              </td><td>0                              </td><td>0                              </td><td>⋯                              </td><td>0                              </td><td>0                              </td><td>0                              </td><td>0                              </td><td>0                              </td><td>0                              </td><td>0                              </td><td>1                              </td><td>0                              </td><td>0                              </td></tr>\n",
       "</tbody>\n",
       "</table>\n"
      ],
      "text/latex": [
       "\\begin{tabular}{r|lllllllllllllllllllllllll}\n",
       " filename & unique\\_sample\\_ID & unique\\_sample\\_ID.1 & ATTRIBUTE\\_sample\\_ID & ATTRIBUTE\\_Meds\\_number & ATTRIBUTE\\_prescribed\\_acetaminophen & ATTRIBUTE\\_prescribed\\_albuterol & ATTRIBUTE\\_prescribed\\_allopurinol & ATTRIBUTE\\_prescribed\\_amlodipine & ATTRIBUTE\\_prescribed\\_aspirin & ⋯ & ATTRIBUTE\\_prescribed\\_budesonide & ATTRIBUTE\\_prescribed\\_calcitriol & ATTRIBUTE\\_prescribed\\_calcium.carbonate & ATTRIBUTE\\_prescribed\\_cephalexin & ATTRIBUTE\\_prescribed\\_cholecalciferol & ATTRIBUTE\\_prescribed\\_cinacalcet & ATTRIBUTE\\_prescribed\\_citalopram & ATTRIBUTE\\_prescribed\\_clonidine & ATTRIBUTE\\_prescribed\\_conjugated.estrogens & ATTRIBUTE\\_prescribed\\_dapsone\\\\\n",
       "\\hline\n",
       "\t AA3594\\_1\\_1\\_RA1\\_01\\_37666.mzXML   & AA3594\\_1\\_1\\_RA1                      & AA3594\\_1\\_1                            & AA3594                                    & 22                                        & 0                                         & 0                                         & 1                                         & 0                                         & 0                                         & ⋯                                         & 0                                         & 0                                         & 0                                         & 0                                         & 0                                         & 0                                         & 0                                         & 1                                         & 0                                         & 0                                        \\\\\n",
       "\t AA3594\\_1\\_10\\_RA10\\_01\\_37671.mzXML & AA3594\\_1\\_10\\_RA10                    & AA3594\\_1\\_10                           & AA3594                                    & 22                                        & 0                                         & 0                                         & 1                                         & 0                                         & 0                                         & ⋯                                         & 0                                         & 0                                         & 0                                         & 0                                         & 0                                         & 0                                         & 0                                         & 1                                         & 0                                         & 0                                        \\\\\n",
       "\t AA3594\\_1\\_2\\_RA2\\_01\\_37667.mzXML   & AA3594\\_1\\_2\\_RA2                      & AA3594\\_1\\_2                            & AA3594                                    & 22                                        & 0                                         & 0                                         & 1                                         & 0                                         & 0                                         & ⋯                                         & 0                                         & 0                                         & 0                                         & 0                                         & 0                                         & 0                                         & 0                                         & 1                                         & 0                                         & 0                                        \\\\\n",
       "\t AA3594\\_1\\_3\\_RA3\\_01\\_37668.mzXML   & AA3594\\_1\\_3\\_RA3                      & AA3594\\_1\\_3                            & AA3594                                    & 22                                        & 0                                         & 0                                         & 1                                         & 0                                         & 0                                         & ⋯                                         & 0                                         & 0                                         & 0                                         & 0                                         & 0                                         & 0                                         & 0                                         & 1                                         & 0                                         & 0                                        \\\\\n",
       "\t AA3594\\_1\\_4\\_RA4\\_01\\_37669.mzXML   & AA3594\\_1\\_4\\_RA4                      & AA3594\\_1\\_4                            & AA3594                                    & 22                                        & 0                                         & 0                                         & 1                                         & 0                                         & 0                                         & ⋯                                         & 0                                         & 0                                         & 0                                         & 0                                         & 0                                         & 0                                         & 0                                         & 1                                         & 0                                         & 0                                        \\\\\n",
       "\\end{tabular}\n"
      ],
      "text/markdown": [
       "\n",
       "filename | unique_sample_ID | unique_sample_ID.1 | ATTRIBUTE_sample_ID | ATTRIBUTE_Meds_number | ATTRIBUTE_prescribed_acetaminophen | ATTRIBUTE_prescribed_albuterol | ATTRIBUTE_prescribed_allopurinol | ATTRIBUTE_prescribed_amlodipine | ATTRIBUTE_prescribed_aspirin | ⋯ | ATTRIBUTE_prescribed_budesonide | ATTRIBUTE_prescribed_calcitriol | ATTRIBUTE_prescribed_calcium.carbonate | ATTRIBUTE_prescribed_cephalexin | ATTRIBUTE_prescribed_cholecalciferol | ATTRIBUTE_prescribed_cinacalcet | ATTRIBUTE_prescribed_citalopram | ATTRIBUTE_prescribed_clonidine | ATTRIBUTE_prescribed_conjugated.estrogens | ATTRIBUTE_prescribed_dapsone | \n",
       "|---|---|---|---|---|\n",
       "| AA3594_1_1_RA1_01_37666.mzXML   | AA3594_1_1_RA1                  | AA3594_1_1                      | AA3594                          | 22                              | 0                               | 0                               | 1                               | 0                               | 0                               | ⋯                               | 0                               | 0                               | 0                               | 0                               | 0                               | 0                               | 0                               | 1                               | 0                               | 0                               | \n",
       "| AA3594_1_10_RA10_01_37671.mzXML | AA3594_1_10_RA10                | AA3594_1_10                     | AA3594                          | 22                              | 0                               | 0                               | 1                               | 0                               | 0                               | ⋯                               | 0                               | 0                               | 0                               | 0                               | 0                               | 0                               | 0                               | 1                               | 0                               | 0                               | \n",
       "| AA3594_1_2_RA2_01_37667.mzXML   | AA3594_1_2_RA2                  | AA3594_1_2                      | AA3594                          | 22                              | 0                               | 0                               | 1                               | 0                               | 0                               | ⋯                               | 0                               | 0                               | 0                               | 0                               | 0                               | 0                               | 0                               | 1                               | 0                               | 0                               | \n",
       "| AA3594_1_3_RA3_01_37668.mzXML   | AA3594_1_3_RA3                  | AA3594_1_3                      | AA3594                          | 22                              | 0                               | 0                               | 1                               | 0                               | 0                               | ⋯                               | 0                               | 0                               | 0                               | 0                               | 0                               | 0                               | 0                               | 1                               | 0                               | 0                               | \n",
       "| AA3594_1_4_RA4_01_37669.mzXML   | AA3594_1_4_RA4                  | AA3594_1_4                      | AA3594                          | 22                              | 0                               | 0                               | 1                               | 0                               | 0                               | ⋯                               | 0                               | 0                               | 0                               | 0                               | 0                               | 0                               | 0                               | 1                               | 0                               | 0                               | \n",
       "\n",
       "\n"
      ],
      "text/plain": [
       "  filename                        unique_sample_ID unique_sample_ID.1\n",
       "1 AA3594_1_1_RA1_01_37666.mzXML   AA3594_1_1_RA1   AA3594_1_1        \n",
       "2 AA3594_1_10_RA10_01_37671.mzXML AA3594_1_10_RA10 AA3594_1_10       \n",
       "3 AA3594_1_2_RA2_01_37667.mzXML   AA3594_1_2_RA2   AA3594_1_2        \n",
       "4 AA3594_1_3_RA3_01_37668.mzXML   AA3594_1_3_RA3   AA3594_1_3        \n",
       "5 AA3594_1_4_RA4_01_37669.mzXML   AA3594_1_4_RA4   AA3594_1_4        \n",
       "  ATTRIBUTE_sample_ID ATTRIBUTE_Meds_number ATTRIBUTE_prescribed_acetaminophen\n",
       "1 AA3594              22                    0                                 \n",
       "2 AA3594              22                    0                                 \n",
       "3 AA3594              22                    0                                 \n",
       "4 AA3594              22                    0                                 \n",
       "5 AA3594              22                    0                                 \n",
       "  ATTRIBUTE_prescribed_albuterol ATTRIBUTE_prescribed_allopurinol\n",
       "1 0                              1                               \n",
       "2 0                              1                               \n",
       "3 0                              1                               \n",
       "4 0                              1                               \n",
       "5 0                              1                               \n",
       "  ATTRIBUTE_prescribed_amlodipine ATTRIBUTE_prescribed_aspirin ⋯\n",
       "1 0                               0                            ⋯\n",
       "2 0                               0                            ⋯\n",
       "3 0                               0                            ⋯\n",
       "4 0                               0                            ⋯\n",
       "5 0                               0                            ⋯\n",
       "  ATTRIBUTE_prescribed_budesonide ATTRIBUTE_prescribed_calcitriol\n",
       "1 0                               0                              \n",
       "2 0                               0                              \n",
       "3 0                               0                              \n",
       "4 0                               0                              \n",
       "5 0                               0                              \n",
       "  ATTRIBUTE_prescribed_calcium.carbonate ATTRIBUTE_prescribed_cephalexin\n",
       "1 0                                      0                              \n",
       "2 0                                      0                              \n",
       "3 0                                      0                              \n",
       "4 0                                      0                              \n",
       "5 0                                      0                              \n",
       "  ATTRIBUTE_prescribed_cholecalciferol ATTRIBUTE_prescribed_cinacalcet\n",
       "1 0                                    0                              \n",
       "2 0                                    0                              \n",
       "3 0                                    0                              \n",
       "4 0                                    0                              \n",
       "5 0                                    0                              \n",
       "  ATTRIBUTE_prescribed_citalopram ATTRIBUTE_prescribed_clonidine\n",
       "1 0                               1                             \n",
       "2 0                               1                             \n",
       "3 0                               1                             \n",
       "4 0                               1                             \n",
       "5 0                               1                             \n",
       "  ATTRIBUTE_prescribed_conjugated.estrogens ATTRIBUTE_prescribed_dapsone\n",
       "1 0                                         0                           \n",
       "2 0                                         0                           \n",
       "3 0                                         0                           \n",
       "4 0                                         0                           \n",
       "5 0                                         0                           "
      ]
     },
     "metadata": {},
     "output_type": "display_data"
    }
   ],
   "source": [
    "df[1:5,1:25]"
   ]
  },
  {
   "cell_type": "code",
   "execution_count": 5,
   "metadata": {},
   "outputs": [
    {
     "data": {
      "text/html": [
       "<ol class=list-inline>\n",
       "\t<li>'AA3594'</li>\n",
       "\t<li>'AA3594'</li>\n",
       "\t<li>'AA3594'</li>\n",
       "\t<li>'AA3594'</li>\n",
       "\t<li>'AA3594'</li>\n",
       "\t<li>'AA3594'</li>\n",
       "</ol>\n"
      ],
      "text/latex": [
       "\\begin{enumerate*}\n",
       "\\item 'AA3594'\n",
       "\\item 'AA3594'\n",
       "\\item 'AA3594'\n",
       "\\item 'AA3594'\n",
       "\\item 'AA3594'\n",
       "\\item 'AA3594'\n",
       "\\end{enumerate*}\n"
      ],
      "text/markdown": [
       "1. 'AA3594'\n",
       "2. 'AA3594'\n",
       "3. 'AA3594'\n",
       "4. 'AA3594'\n",
       "5. 'AA3594'\n",
       "6. 'AA3594'\n",
       "\n",
       "\n"
      ],
      "text/plain": [
       "[1] \"AA3594\" \"AA3594\" \"AA3594\" \"AA3594\" \"AA3594\" \"AA3594\""
      ]
     },
     "metadata": {},
     "output_type": "display_data"
    }
   ],
   "source": [
    "#result <- merge(met, df,  by.x = 'Sample.ID', by.y = 'Sample.name')\n",
    "#result[1:5,1:10]\n",
    "ids <- as.character(df[,which(colnames(df)==c(\"ATTRIBUTE_sample_ID\"))])\n",
    "head(ids)"
   ]
  },
  {
   "cell_type": "code",
   "execution_count": 6,
   "metadata": {},
   "outputs": [
    {
     "name": "stderr",
     "output_type": "stream",
     "text": [
      "Warning message in prep(Matrix, scale = scale, center = center, simple = FALSE, :\n",
      "“Variance is below eps for 29 variables. Not scaling them.”"
     ]
    }
   ],
   "source": [
    "# scale options c(\"none\", \"pareto\", \"vector\", \"uv\")\n",
    "mypca <- pca(df[,-c(1:125)], method=\"nipals\", center=TRUE, nPcs = 5, scale = \"pareto\")"
   ]
  },
  {
   "cell_type": "code",
   "execution_count": 7,
   "metadata": {},
   "outputs": [
    {
     "data": {
      "text/html": [
       "<table>\n",
       "<thead><tr><th scope=col>rownames</th><th scope=col>PC1</th><th scope=col>PC2</th><th scope=col>PC3</th><th scope=col>PC4</th><th scope=col>PC5</th></tr></thead>\n",
       "<tbody>\n",
       "\t<tr><td>X270.2790906.7.59572526 </td><td>0.01308362              </td><td> 0.12895194             </td><td>0.06989463              </td><td>0.20027287              </td><td> 0.07193889             </td></tr>\n",
       "\t<tr><td>X242.2840672.6.311871181</td><td>0.01969753              </td><td> 0.20621542             </td><td>0.11138503              </td><td>0.32838082              </td><td> 0.14062707             </td></tr>\n",
       "\t<tr><td>X247.1666026.9.968507843</td><td>0.00215435              </td><td> 0.03920702             </td><td>0.01941498              </td><td>0.05358993              </td><td> 0.02202827             </td></tr>\n",
       "\t<tr><td>X559.5164608.8.685266469</td><td>0.01777126              </td><td> 0.19873640             </td><td>0.10702188              </td><td>0.30334208              </td><td> 0.10663543             </td></tr>\n",
       "\t<tr><td>X537.5346088.8.685099383</td><td>0.01605181              </td><td> 0.16060284             </td><td>0.08763964              </td><td>0.24869748              </td><td> 0.08622831             </td></tr>\n",
       "\t<tr><td>X284.2949516.8.424285662</td><td>0.03395994              </td><td>-0.01657213             </td><td>0.01408039              </td><td>0.03354788              </td><td>-0.00256814             </td></tr>\n",
       "</tbody>\n",
       "</table>\n"
      ],
      "text/latex": [
       "\\begin{tabular}{r|llllll}\n",
       " rownames & PC1 & PC2 & PC3 & PC4 & PC5\\\\\n",
       "\\hline\n",
       "\t X270.2790906.7.59572526  & 0.01308362               &  0.12895194              & 0.06989463               & 0.20027287               &  0.07193889             \\\\\n",
       "\t X242.2840672.6.311871181 & 0.01969753               &  0.20621542              & 0.11138503               & 0.32838082               &  0.14062707             \\\\\n",
       "\t X247.1666026.9.968507843 & 0.00215435               &  0.03920702              & 0.01941498               & 0.05358993               &  0.02202827             \\\\\n",
       "\t X559.5164608.8.685266469 & 0.01777126               &  0.19873640              & 0.10702188               & 0.30334208               &  0.10663543             \\\\\n",
       "\t X537.5346088.8.685099383 & 0.01605181               &  0.16060284              & 0.08763964               & 0.24869748               &  0.08622831             \\\\\n",
       "\t X284.2949516.8.424285662 & 0.03395994               & -0.01657213              & 0.01408039               & 0.03354788               & -0.00256814             \\\\\n",
       "\\end{tabular}\n"
      ],
      "text/markdown": [
       "\n",
       "rownames | PC1 | PC2 | PC3 | PC4 | PC5 | \n",
       "|---|---|---|---|---|---|\n",
       "| X270.2790906.7.59572526  | 0.01308362               |  0.12895194              | 0.06989463               | 0.20027287               |  0.07193889              | \n",
       "| X242.2840672.6.311871181 | 0.01969753               |  0.20621542              | 0.11138503               | 0.32838082               |  0.14062707              | \n",
       "| X247.1666026.9.968507843 | 0.00215435               |  0.03920702              | 0.01941498               | 0.05358993               |  0.02202827              | \n",
       "| X559.5164608.8.685266469 | 0.01777126               |  0.19873640              | 0.10702188               | 0.30334208               |  0.10663543              | \n",
       "| X537.5346088.8.685099383 | 0.01605181               |  0.16060284              | 0.08763964               | 0.24869748               |  0.08622831              | \n",
       "| X284.2949516.8.424285662 | 0.03395994               | -0.01657213              | 0.01408039               | 0.03354788               | -0.00256814              | \n",
       "\n",
       "\n"
      ],
      "text/plain": [
       "  rownames                 PC1        PC2         PC3        PC4       \n",
       "1 X270.2790906.7.59572526  0.01308362  0.12895194 0.06989463 0.20027287\n",
       "2 X242.2840672.6.311871181 0.01969753  0.20621542 0.11138503 0.32838082\n",
       "3 X247.1666026.9.968507843 0.00215435  0.03920702 0.01941498 0.05358993\n",
       "4 X559.5164608.8.685266469 0.01777126  0.19873640 0.10702188 0.30334208\n",
       "5 X537.5346088.8.685099383 0.01605181  0.16060284 0.08763964 0.24869748\n",
       "6 X284.2949516.8.424285662 0.03395994 -0.01657213 0.01408039 0.03354788\n",
       "  PC5        \n",
       "1  0.07193889\n",
       "2  0.14062707\n",
       "3  0.02202827\n",
       "4  0.10663543\n",
       "5  0.08622831\n",
       "6 -0.00256814"
      ]
     },
     "metadata": {},
     "output_type": "display_data"
    },
    {
     "data": {
      "text/html": [
       "<table>\n",
       "<thead><tr><th scope=col>xfactor</th><th scope=col>mz</th><th scope=col>rownames</th><th scope=col>PC1</th><th scope=col>PC2</th><th scope=col>PC3</th><th scope=col>PC4</th><th scope=col>PC5</th></tr></thead>\n",
       "<tbody>\n",
       "\t<tr><td>                        </td><td>270.2790                </td><td>X270.2790906.7.59572526 </td><td>0.01308362              </td><td> 0.12895194             </td><td>0.06989463              </td><td>0.20027287              </td><td> 0.07193889             </td></tr>\n",
       "\t<tr><td>                        </td><td>242.2840                </td><td>X242.2840672.6.311871181</td><td>0.01969753              </td><td> 0.20621542             </td><td>0.11138503              </td><td>0.32838082              </td><td> 0.14062707             </td></tr>\n",
       "\t<tr><td>                        </td><td>247.1666                </td><td>X247.1666026.9.968507843</td><td>0.00215435              </td><td> 0.03920702             </td><td>0.01941498              </td><td>0.05358993              </td><td> 0.02202827             </td></tr>\n",
       "\t<tr><td>                        </td><td>559.5164                </td><td>X559.5164608.8.685266469</td><td>0.01777126              </td><td> 0.19873640             </td><td>0.10702188              </td><td>0.30334208              </td><td> 0.10663543             </td></tr>\n",
       "\t<tr><td>                        </td><td>537.5346                </td><td>X537.5346088.8.685099383</td><td>0.01605181              </td><td> 0.16060284             </td><td>0.08763964              </td><td>0.24869748              </td><td> 0.08622831             </td></tr>\n",
       "\t<tr><td>                        </td><td>284.2949                </td><td>X284.2949516.8.424285662</td><td>0.03395994              </td><td>-0.01657213             </td><td>0.01408039              </td><td>0.03354788              </td><td>-0.00256814             </td></tr>\n",
       "</tbody>\n",
       "</table>\n"
      ],
      "text/latex": [
       "\\begin{tabular}{r|llllllll}\n",
       " xfactor & mz & rownames & PC1 & PC2 & PC3 & PC4 & PC5\\\\\n",
       "\\hline\n",
       "\t                          & 270.2790                 & X270.2790906.7.59572526  & 0.01308362               &  0.12895194              & 0.06989463               & 0.20027287               &  0.07193889             \\\\\n",
       "\t                          & 242.2840                 & X242.2840672.6.311871181 & 0.01969753               &  0.20621542              & 0.11138503               & 0.32838082               &  0.14062707             \\\\\n",
       "\t                          & 247.1666                 & X247.1666026.9.968507843 & 0.00215435               &  0.03920702              & 0.01941498               & 0.05358993               &  0.02202827             \\\\\n",
       "\t                          & 559.5164                 & X559.5164608.8.685266469 & 0.01777126               &  0.19873640              & 0.10702188               & 0.30334208               &  0.10663543             \\\\\n",
       "\t                          & 537.5346                 & X537.5346088.8.685099383 & 0.01605181               &  0.16060284              & 0.08763964               & 0.24869748               &  0.08622831             \\\\\n",
       "\t                          & 284.2949                 & X284.2949516.8.424285662 & 0.03395994               & -0.01657213              & 0.01408039               & 0.03354788               & -0.00256814             \\\\\n",
       "\\end{tabular}\n"
      ],
      "text/markdown": [
       "\n",
       "xfactor | mz | rownames | PC1 | PC2 | PC3 | PC4 | PC5 | \n",
       "|---|---|---|---|---|---|\n",
       "|                          | 270.2790                 | X270.2790906.7.59572526  | 0.01308362               |  0.12895194              | 0.06989463               | 0.20027287               |  0.07193889              | \n",
       "|                          | 242.2840                 | X242.2840672.6.311871181 | 0.01969753               |  0.20621542              | 0.11138503               | 0.32838082               |  0.14062707              | \n",
       "|                          | 247.1666                 | X247.1666026.9.968507843 | 0.00215435               |  0.03920702              | 0.01941498               | 0.05358993               |  0.02202827              | \n",
       "|                          | 559.5164                 | X559.5164608.8.685266469 | 0.01777126               |  0.19873640              | 0.10702188               | 0.30334208               |  0.10663543              | \n",
       "|                          | 537.5346                 | X537.5346088.8.685099383 | 0.01605181               |  0.16060284              | 0.08763964               | 0.24869748               |  0.08622831              | \n",
       "|                          | 284.2949                 | X284.2949516.8.424285662 | 0.03395994               | -0.01657213              | 0.01408039               | 0.03354788               | -0.00256814              | \n",
       "\n",
       "\n"
      ],
      "text/plain": [
       "  xfactor mz       rownames                 PC1        PC2         PC3       \n",
       "1         270.2790 X270.2790906.7.59572526  0.01308362  0.12895194 0.06989463\n",
       "2         242.2840 X242.2840672.6.311871181 0.01969753  0.20621542 0.11138503\n",
       "3         247.1666 X247.1666026.9.968507843 0.00215435  0.03920702 0.01941498\n",
       "4         559.5164 X559.5164608.8.685266469 0.01777126  0.19873640 0.10702188\n",
       "5         537.5346 X537.5346088.8.685099383 0.01605181  0.16060284 0.08763964\n",
       "6         284.2949 X284.2949516.8.424285662 0.03395994 -0.01657213 0.01408039\n",
       "  PC4        PC5        \n",
       "1 0.20027287  0.07193889\n",
       "2 0.32838082  0.14062707\n",
       "3 0.05358993  0.02202827\n",
       "4 0.30334208  0.10663543\n",
       "5 0.24869748  0.08622831\n",
       "6 0.03354788 -0.00256814"
      ]
     },
     "metadata": {},
     "output_type": "display_data"
    }
   ],
   "source": [
    "df <- cbind(scores(mypca),df)\n",
    "#head(df)\n",
    "loadings <- as.data.frame(loadings(mypca))\n",
    "rownames <- rownames(loadings)\n",
    "loadings <- cbind(rownames,loadings)\n",
    "rownames(loadings) <- NULL\n",
    "head(loadings)\n",
    "test_loading_names <- loadings\n",
    "test_loading_names <- cbind(substr(test_loading_names$rownames, 0, 9),loadings)\n",
    "colnames(test_loading_names)[1] <- \"mz\"\n",
    "\n",
    "test_loading_names <- \n",
    "    separate(test_loading_names, col=\"mz\", remove= TRUE, \"X\", into=c(\"xfactor\",\"mz\"))\n",
    "head(test_loading_names)"
   ]
  },
  {
   "cell_type": "code",
   "execution_count": 8,
   "metadata": {},
   "outputs": [
    {
     "name": "stderr",
     "output_type": "stream",
     "text": [
      "Saving 7.1 x 6.67 in image\n"
     ]
    },
    {
     "data": {
      "image/png": "[encoded data removed]",
      "text/plain": [
       "plot without title"
      ]
     },
     "metadata": {},
     "output_type": "display_data"
    }
   ],
   "source": [
    "BODYSITE_score_1v2 <- ggplot(df, aes(PC1, PC2))+\n",
    "    geom_point(aes(colour=factor(ATTRIBUTE_Sample_Location_General_Text)), pch=16,alpha=0.75) +\n",
    "    scale_color_manual(values= c(\"#e41a1c\",\"#377eb8\",\"#4daf4a\")) +\n",
    "    xlim(-3,3) +\n",
    "    ylim(-3,3) +\n",
    "    theme_minimal()+\n",
    "            theme(panel.grid.major=element_blank(),panel.grid.minor=element_blank(),\n",
    "                panel.border = element_rect(linetype = \"solid\", fill = NA),\n",
    "               axis.ticks=element_line(colour =\"black\",size=0.5, linetype=\"solid\"),\n",
    "                   axis.text=element_text(size=6),\n",
    "                    axis.title=element_text(size=6)) +\n",
    "    theme(aspect.ratio=1)\n",
    "   \n",
    "BODYSITE_score_1v2 <- BODYSITE_score_1v2 + coord_fixed(ratio=1) +\n",
    "    theme(legend.position=\"none\", legend.text = element_text(colour=\"black\", size = 8), \n",
    "          legend.title = element_blank())\n",
    "\n",
    "BODYSITE_score_1v3 <- ggplot(df, aes(PC1, PC3))+\n",
    "    geom_point(aes(colour=factor(ATTRIBUTE_Sample_Location_General_Text)), pch=16,alpha=0.75) +\n",
    "    scale_color_manual(values= c(\"#e41a1c\",\"#377eb8\",\"#4daf4a\")) +\n",
    "    xlim(-3,3) +\n",
    "    ylim(-3,3) +\n",
    "    theme_minimal()+\n",
    "            theme(panel.grid.major=element_blank(),panel.grid.minor=element_blank(),\n",
    "                panel.border = element_rect(linetype = \"solid\", fill = NA),\n",
    "               axis.ticks=element_line(colour =\"black\",size=0.5, linetype=\"solid\"),\n",
    "                   axis.text=element_text(size=6),\n",
    "                    axis.title=element_text(size=6)) +\n",
    "    theme(aspect.ratio=1)\n",
    "   \n",
    "BODYSITE_score_1v3 <- BODYSITE_score_1v3 + coord_fixed(ratio=1) +\n",
    "    theme(legend.position=\"none\", legend.text = element_text(colour=\"black\", size = 8), \n",
    "          legend.title = element_blank())\n",
    "\n",
    "BODYSITE_score_2v3 <- ggplot(df, aes(PC2, PC3))+\n",
    "    geom_point(aes(colour=factor(ATTRIBUTE_Sample_Location_General_Text)), pch=16,alpha=0.75) +\n",
    "    scale_color_manual(values= c(\"#e41a1c\",\"#377eb8\",\"#4daf4a\")) +\n",
    "    xlim(-3,3) +\n",
    "    ylim(-3,3) +\n",
    "    theme_minimal()+\n",
    "            theme(panel.grid.major=element_blank(),panel.grid.minor=element_blank(),\n",
    "                panel.border = element_rect(linetype = \"solid\", fill = NA),\n",
    "               axis.ticks=element_line(colour =\"black\",size=0.5, linetype=\"solid\"),\n",
    "                   axis.text=element_text(size=6),\n",
    "                    axis.title=element_text(size=6)) +\n",
    "    theme(aspect.ratio=1)\n",
    "   \n",
    "BODYSITE_score_2v3 <- BODYSITE_score_2v3 + coord_fixed(ratio=1) +\n",
    "    theme(legend.position=\"none\", legend.text = element_text(colour=\"black\", size = 8), \n",
    "          legend.title = element_blank())\n",
    "\n",
    "BODYSITE_score_2v4 <- ggplot(df, aes(PC2, PC4))+\n",
    "    geom_point(aes(colour=factor(ATTRIBUTE_Sample_Location_General_Text)), pch=16,alpha=0.75) +\n",
    "    scale_color_manual(values= c(\"#e41a1c\",\"#377eb8\",\"#4daf4a\")) +\n",
    "    xlim(-3,3) +\n",
    "    ylim(-3,3) +\n",
    "    theme_minimal()+\n",
    "            theme(panel.grid.major=element_blank(),panel.grid.minor=element_blank(),\n",
    "                panel.border = element_rect(linetype = \"solid\", fill = NA),\n",
    "               axis.ticks=element_line(colour =\"black\",size=0.5, linetype=\"solid\"),\n",
    "                   axis.text=element_text(size=6),\n",
    "                    axis.title=element_text(size=6)) +\n",
    "    theme(aspect.ratio=1)\n",
    "   \n",
    "BODYSITE_score_2v4 <- BODYSITE_score_2v4 + coord_fixed(ratio=1) +\n",
    "    theme(legend.position=\"none\", legend.text = element_text(colour=\"black\", size = 8), \n",
    "          legend.title = element_blank())\n",
    "\n",
    "\n",
    "PCA_score <- grid.arrange(BODYSITE_score_1v2,BODYSITE_score_1v3,BODYSITE_score_2v3,BODYSITE_score_2v4,ncol=2, nrow=2)\n",
    "ggsave(\"Plots/20180702_Immunosuppressant15Skin_MS1_PCA_Score.pdf\", PCA_score, width=7.1, units=\"in\", scale=1)"
   ]
  },
  {
   "cell_type": "code",
   "execution_count": 9,
   "metadata": {},
   "outputs": [
    {
     "name": "stderr",
     "output_type": "stream",
     "text": [
      "Saving 7.1 x 6.67 in image\n"
     ]
    },
    {
     "data": {
      "image/png": "[encoded data removed]",
      "text/plain": [
       "plot without title"
      ]
     },
     "metadata": {},
     "output_type": "display_data"
    }
   ],
   "source": [
    "BODYSITE_loading_1v2 <- ggplot(test_loading_names, aes(PC1, PC2, label=mz))+\n",
    "    geom_point(pch=20,alpha=0.5)+\n",
    "    geom_text(check_overlap = TRUE, size = 2, vjust = -1) +\n",
    "    xlim(-0.5,0.5) +\n",
    "    ylim(-0.5,0.5) +\n",
    "    theme_minimal()+\n",
    "            theme(panel.grid.major=element_blank(),panel.grid.minor=element_blank(),\n",
    "                panel.border = element_rect(linetype = \"solid\", fill = NA),\n",
    "               axis.ticks=element_line(colour =\"black\",size=0.5, linetype=\"solid\"),\n",
    "                   axis.text=element_text(size=6),\n",
    "                    axis.title=element_text(size=6)) +\n",
    "    theme(aspect.ratio=1)\n",
    "   \n",
    "BODYSITE_loading_1v2 <- BODYSITE_loading_1v2 + coord_fixed(ratio=1) +\n",
    "    theme(legend.position=\"none\", legend.text = element_text(colour=\"black\", size = 8), \n",
    "          legend.title = element_blank())\n",
    "\n",
    "BODYSITE_loading_1v3 <- ggplot(test_loading_names, aes(PC1, PC3, label=mz))+\n",
    "    geom_point(pch=20,alpha=0.5)+\n",
    "    geom_text(check_overlap = TRUE, size = 2, vjust = -1) +\n",
    "    xlim(-0.5,0.5) +\n",
    "    ylim(-0.5,0.5) +\n",
    "    theme_minimal()+\n",
    "            theme(panel.grid.major=element_blank(),panel.grid.minor=element_blank(),\n",
    "                panel.border = element_rect(linetype = \"solid\", fill = NA),\n",
    "               axis.ticks=element_line(colour =\"black\",size=0.5, linetype=\"solid\"),\n",
    "                   axis.text=element_text(size=6),\n",
    "                    axis.title=element_text(size=6)) +\n",
    "    theme(aspect.ratio=1)\n",
    "   \n",
    "BODYSITE_loading_1v3 <- BODYSITE_loading_1v3 + coord_fixed(ratio=1) +\n",
    "    theme(legend.position=\"none\", legend.text = element_text(colour=\"black\", size = 8), \n",
    "          legend.title = element_blank())\n",
    "\n",
    "BODYSITE_loading_2v3 <- ggplot(test_loading_names, aes(PC2, PC3, label=mz))+\n",
    "    geom_point(pch=20,alpha=0.5)+\n",
    "    geom_text(check_overlap = TRUE, size = 2, vjust = -1) +\n",
    "    xlim(-0.5,0.5) +\n",
    "    ylim(-0.5,0.5) +\n",
    "    theme_minimal()+\n",
    "            theme(panel.grid.major=element_blank(),panel.grid.minor=element_blank(),\n",
    "                panel.border = element_rect(linetype = \"solid\", fill = NA),\n",
    "               axis.ticks=element_line(colour =\"black\",size=0.5, linetype=\"solid\"),\n",
    "                   axis.text=element_text(size=6),\n",
    "                    axis.title=element_text(size=6)) +\n",
    "    theme(aspect.ratio=1)\n",
    "   \n",
    "BODYSITE_loading_2v3 <- BODYSITE_loading_2v3 + coord_fixed(ratio=1) +\n",
    "    theme(legend.position=\"none\", legend.text = element_text(colour=\"black\", size = 8), \n",
    "          legend.title = element_blank())\n",
    "\n",
    "BODYSITE_loading_2v4 <- ggplot(test_loading_names, aes(PC2, PC4, label=mz))+\n",
    "    geom_point(pch=20,alpha=0.5)+\n",
    "    geom_text(check_overlap = TRUE, size = 2, vjust = -1) +\n",
    "    xlim(-0.5,0.5) +\n",
    "    ylim(-0.5,0.5) +\n",
    "    theme_minimal()+\n",
    "            theme(panel.grid.major=element_blank(),panel.grid.minor=element_blank(),\n",
    "                panel.border = element_rect(linetype = \"solid\", fill = NA),\n",
    "               axis.ticks=element_line(colour =\"black\",size=0.5, linetype=\"solid\"),\n",
    "                   axis.text=element_text(size=6),\n",
    "                    axis.title=element_text(size=6)) +\n",
    "    theme(aspect.ratio=1)\n",
    "   \n",
    "BODYSITE_loading_2v4 <- BODYSITE_loading_2v4 + coord_fixed(ratio=1) +\n",
    "    theme(legend.position=\"none\", legend.text = element_text(colour=\"black\", size = 8), \n",
    "          legend.title = element_blank())\n",
    "\n",
    "\n",
    "PCA_loading <- grid.arrange(BODYSITE_loading_1v2,BODYSITE_loading_1v3,BODYSITE_loading_2v3,BODYSITE_loading_2v4,ncol=2, nrow=2)\n",
    "ggsave(\"Plots/20180702_Immunosuppressant15Skin_MS1_PCA_Loading.pdf\", PCA_loading, width=7.1, units=\"in\", scale=1)"
   ]
  },
  {
   "cell_type": "markdown",
   "metadata": {},
   "source": [
    "# END of Notebook"
   ]
  },
  {
   "cell_type": "code",
   "execution_count": null,
   "metadata": {},
   "outputs": [],
   "source": []
  }
 ],
 "metadata": {
  "kernelspec": {
   "display_name": "R",
   "language": "R",
   "name": "ir"
  },
  "language_info": {
   "codemirror_mode": "r",
   "file_extension": ".r",
   "mimetype": "text/x-r-source",
   "name": "R",
   "pygments_lexer": "r",
   "version": "3.5.0"
  }
 },
 "nbformat": 4,
 "nbformat_minor": 1
}
