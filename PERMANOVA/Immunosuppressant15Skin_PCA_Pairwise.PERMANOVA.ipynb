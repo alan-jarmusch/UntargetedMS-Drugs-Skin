{
 "cells": [
  {
   "cell_type": "markdown",
   "metadata": {},
   "source": [
    "# Pairwise PERMANOVA"
   ]
  },
  {
   "cell_type": "code",
   "execution_count": 28,
   "metadata": {},
   "outputs": [],
   "source": [
    "#library(devtools)\n",
    "#install_github(\"pmartinezarbizu/pairwiseAdonis/pairwiseAdonis\")\n",
    "library(vegan)\n",
    "library(pairwiseAdonis)"
   ]
  },
  {
   "cell_type": "code",
   "execution_count": 50,
   "metadata": {},
   "outputs": [
    {
     "data": {
      "text/html": [
       "<table>\n",
       "<thead><tr><th scope=col>PC1</th><th scope=col>PC2</th><th scope=col>PC3</th><th scope=col>PC4</th><th scope=col>PC5</th><th scope=col>PC6</th><th scope=col>PC7</th><th scope=col>PC8</th><th scope=col>PC9</th><th scope=col>PC10</th><th scope=col>⋯</th><th scope=col>Sulfamethizole</th><th scope=col>Timolol</th><th scope=col>Triphenyl.phosphate</th><th scope=col>Tris.2.butoxyethyl..phosphate</th><th scope=col>Tyr.Pro</th><th scope=col>Undecaethylene.glycol</th><th scope=col>Sulfachloropyridazine</th><th scope=col>Sulfamethoxazole</th><th scope=col>Syringaldehyde</th><th scope=col>Syringic.acid</th></tr></thead>\n",
       "<tbody>\n",
       "\t<tr><td>1.1686585   </td><td> 0.4689932  </td><td>-0.05441028 </td><td> 1.0141744  </td><td>-0.04049783 </td><td>-1.043605518</td><td>-0.80880002 </td><td>-0.28940741 </td><td> 0.10080194 </td><td> 0.4067095  </td><td>⋯           </td><td>0           </td><td>0           </td><td>0           </td><td>0           </td><td>1           </td><td>0           </td><td>1           </td><td>0           </td><td>0           </td><td>1           </td></tr>\n",
       "\t<tr><td>0.0546593   </td><td> 0.6783061  </td><td> 0.77168275 </td><td> 0.5316901  </td><td>-0.19376216 </td><td> 0.619490341</td><td>-1.02618829 </td><td>-0.43576966 </td><td>-0.29080525 </td><td>-0.1363319  </td><td>⋯           </td><td>0           </td><td>0           </td><td>0           </td><td>0           </td><td>0           </td><td>0           </td><td>1           </td><td>1           </td><td>1           </td><td>0           </td></tr>\n",
       "\t<tr><td>0.7682781   </td><td> 0.7168172  </td><td>-0.06075319 </td><td> 1.0798988  </td><td>-0.09367512 </td><td>-1.011518485</td><td>-1.10584977 </td><td>-0.13913116 </td><td> 0.04259552 </td><td> 0.1884106  </td><td>⋯           </td><td>0           </td><td>0           </td><td>0           </td><td>0           </td><td>1           </td><td>0           </td><td>1           </td><td>0           </td><td>1           </td><td>1           </td></tr>\n",
       "\t<tr><td>1.3013259   </td><td> 0.3162874  </td><td> 0.22138696 </td><td> 0.7075682  </td><td>-0.35325052 </td><td>-0.936217818</td><td>-0.67579883 </td><td>-0.15142415 </td><td> 0.17145798 </td><td>-0.2632522  </td><td>⋯           </td><td>0           </td><td>0           </td><td>0           </td><td>0           </td><td>1           </td><td>0           </td><td>1           </td><td>0           </td><td>1           </td><td>1           </td></tr>\n",
       "\t<tr><td>1.6046360   </td><td> 0.2002957  </td><td>-0.02587765 </td><td> 1.2116166  </td><td> 0.20078709 </td><td>-0.637232893</td><td>-0.58080360 </td><td>-0.10269232 </td><td>-0.08404425 </td><td>-0.2396879  </td><td>⋯           </td><td>0           </td><td>0           </td><td>0           </td><td>0           </td><td>1           </td><td>0           </td><td>1           </td><td>0           </td><td>1           </td><td>1           </td></tr>\n",
       "\t<tr><td>2.4080332   </td><td>-0.7574507  </td><td>-0.26978942 </td><td>-0.1325860  </td><td> 0.18369933 </td><td>-0.003073673</td><td>-0.02718837 </td><td> 0.04424499 </td><td> 0.01525510 </td><td>-0.3695411  </td><td>⋯           </td><td>0           </td><td>0           </td><td>0           </td><td>0           </td><td>0           </td><td>0           </td><td>0           </td><td>0           </td><td>0           </td><td>0           </td></tr>\n",
       "</tbody>\n",
       "</table>\n"
      ],
      "text/latex": [
       "\\begin{tabular}{r|llllllllllllllllllllllllllllllllllllllllllllllllllllllllllllllllllllllllllllllllllllllllllllllllllllllllllllllllllllllllllllllllllllllllllllllllllllllllllllllllllllllllllllllllllllllllllllllllllllllllllllllll}\n",
       " PC1 & PC2 & PC3 & PC4 & PC5 & PC6 & PC7 & PC8 & PC9 & PC10 & ⋯ & Sulfamethizole & Timolol & Triphenyl.phosphate & Tris.2.butoxyethyl..phosphate & Tyr.Pro & Undecaethylene.glycol & Sulfachloropyridazine & Sulfamethoxazole & Syringaldehyde & Syringic.acid\\\\\n",
       "\\hline\n",
       "\t 1.1686585    &  0.4689932   & -0.05441028  &  1.0141744   & -0.04049783  & -1.043605518 & -0.80880002  & -0.28940741  &  0.10080194  &  0.4067095   & ⋯            & 0            & 0            & 0            & 0            & 1            & 0            & 1            & 0            & 0            & 1           \\\\\n",
       "\t 0.0546593    &  0.6783061   &  0.77168275  &  0.5316901   & -0.19376216  &  0.619490341 & -1.02618829  & -0.43576966  & -0.29080525  & -0.1363319   & ⋯            & 0            & 0            & 0            & 0            & 0            & 0            & 1            & 1            & 1            & 0           \\\\\n",
       "\t 0.7682781    &  0.7168172   & -0.06075319  &  1.0798988   & -0.09367512  & -1.011518485 & -1.10584977  & -0.13913116  &  0.04259552  &  0.1884106   & ⋯            & 0            & 0            & 0            & 0            & 1            & 0            & 1            & 0            & 1            & 1           \\\\\n",
       "\t 1.3013259    &  0.3162874   &  0.22138696  &  0.7075682   & -0.35325052  & -0.936217818 & -0.67579883  & -0.15142415  &  0.17145798  & -0.2632522   & ⋯            & 0            & 0            & 0            & 0            & 1            & 0            & 1            & 0            & 1            & 1           \\\\\n",
       "\t 1.6046360    &  0.2002957   & -0.02587765  &  1.2116166   &  0.20078709  & -0.637232893 & -0.58080360  & -0.10269232  & -0.08404425  & -0.2396879   & ⋯            & 0            & 0            & 0            & 0            & 1            & 0            & 1            & 0            & 1            & 1           \\\\\n",
       "\t 2.4080332    & -0.7574507   & -0.26978942  & -0.1325860   &  0.18369933  & -0.003073673 & -0.02718837  &  0.04424499  &  0.01525510  & -0.3695411   & ⋯            & 0            & 0            & 0            & 0            & 0            & 0            & 0            & 0            & 0            & 0           \\\\\n",
       "\\end{tabular}\n"
      ],
      "text/markdown": [
       "\n",
       "PC1 | PC2 | PC3 | PC4 | PC5 | PC6 | PC7 | PC8 | PC9 | PC10 | ⋯ | Sulfamethizole | Timolol | Triphenyl.phosphate | Tris.2.butoxyethyl..phosphate | Tyr.Pro | Undecaethylene.glycol | Sulfachloropyridazine | Sulfamethoxazole | Syringaldehyde | Syringic.acid | \n",
       "|---|---|---|---|---|---|\n",
       "| 1.1686585    |  0.4689932   | -0.05441028  |  1.0141744   | -0.04049783  | -1.043605518 | -0.80880002  | -0.28940741  |  0.10080194  |  0.4067095   | ⋯            | 0            | 0            | 0            | 0            | 1            | 0            | 1            | 0            | 0            | 1            | \n",
       "| 0.0546593    |  0.6783061   |  0.77168275  |  0.5316901   | -0.19376216  |  0.619490341 | -1.02618829  | -0.43576966  | -0.29080525  | -0.1363319   | ⋯            | 0            | 0            | 0            | 0            | 0            | 0            | 1            | 1            | 1            | 0            | \n",
       "| 0.7682781    |  0.7168172   | -0.06075319  |  1.0798988   | -0.09367512  | -1.011518485 | -1.10584977  | -0.13913116  |  0.04259552  |  0.1884106   | ⋯            | 0            | 0            | 0            | 0            | 1            | 0            | 1            | 0            | 1            | 1            | \n",
       "| 1.3013259    |  0.3162874   |  0.22138696  |  0.7075682   | -0.35325052  | -0.936217818 | -0.67579883  | -0.15142415  |  0.17145798  | -0.2632522   | ⋯            | 0            | 0            | 0            | 0            | 1            | 0            | 1            | 0            | 1            | 1            | \n",
       "| 1.6046360    |  0.2002957   | -0.02587765  |  1.2116166   |  0.20078709  | -0.637232893 | -0.58080360  | -0.10269232  | -0.08404425  | -0.2396879   | ⋯            | 0            | 0            | 0            | 0            | 1            | 0            | 1            | 0            | 1            | 1            | \n",
       "| 2.4080332    | -0.7574507   | -0.26978942  | -0.1325860   |  0.18369933  | -0.003073673 | -0.02718837  |  0.04424499  |  0.01525510  | -0.3695411   | ⋯            | 0            | 0            | 0            | 0            | 0            | 0            | 0            | 0            | 0            | 0            | \n",
       "\n",
       "\n"
      ],
      "text/plain": [
       "  PC1       PC2        PC3         PC4        PC5         PC6         \n",
       "1 1.1686585  0.4689932 -0.05441028  1.0141744 -0.04049783 -1.043605518\n",
       "2 0.0546593  0.6783061  0.77168275  0.5316901 -0.19376216  0.619490341\n",
       "3 0.7682781  0.7168172 -0.06075319  1.0798988 -0.09367512 -1.011518485\n",
       "4 1.3013259  0.3162874  0.22138696  0.7075682 -0.35325052 -0.936217818\n",
       "5 1.6046360  0.2002957 -0.02587765  1.2116166  0.20078709 -0.637232893\n",
       "6 2.4080332 -0.7574507 -0.26978942 -0.1325860  0.18369933 -0.003073673\n",
       "  PC7         PC8         PC9         PC10       ⋯ Sulfamethizole Timolol\n",
       "1 -0.80880002 -0.28940741  0.10080194  0.4067095 ⋯ 0              0      \n",
       "2 -1.02618829 -0.43576966 -0.29080525 -0.1363319 ⋯ 0              0      \n",
       "3 -1.10584977 -0.13913116  0.04259552  0.1884106 ⋯ 0              0      \n",
       "4 -0.67579883 -0.15142415  0.17145798 -0.2632522 ⋯ 0              0      \n",
       "5 -0.58080360 -0.10269232 -0.08404425 -0.2396879 ⋯ 0              0      \n",
       "6 -0.02718837  0.04424499  0.01525510 -0.3695411 ⋯ 0              0      \n",
       "  Triphenyl.phosphate Tris.2.butoxyethyl..phosphate Tyr.Pro\n",
       "1 0                   0                             1      \n",
       "2 0                   0                             0      \n",
       "3 0                   0                             1      \n",
       "4 0                   0                             1      \n",
       "5 0                   0                             1      \n",
       "6 0                   0                             0      \n",
       "  Undecaethylene.glycol Sulfachloropyridazine Sulfamethoxazole Syringaldehyde\n",
       "1 0                     1                     0                0             \n",
       "2 0                     1                     1                1             \n",
       "3 0                     1                     0                1             \n",
       "4 0                     1                     0                1             \n",
       "5 0                     1                     0                1             \n",
       "6 0                     0                     0                0             \n",
       "  Syringic.acid\n",
       "1 1            \n",
       "2 0            \n",
       "3 1            \n",
       "4 1            \n",
       "5 1            \n",
       "6 0            "
      ]
     },
     "metadata": {},
     "output_type": "display_data"
    }
   ],
   "source": [
    "df <- read.csv(\"Tables_MS2/20180831_Immunosuppressant15Skin_MS2_PCA_scores.csv\", header=TRUE)\n",
    "head(df)"
   ]
  },
  {
   "cell_type": "code",
   "execution_count": 51,
   "metadata": {},
   "outputs": [],
   "source": [
    "df_original <- scale(df[,-c(1:131)])"
   ]
  },
  {
   "cell_type": "code",
   "execution_count": 52,
   "metadata": {},
   "outputs": [
    {
     "data": {
      "text/html": [
       "<table>\n",
       "<thead><tr><th scope=col>pairs</th><th scope=col>F.Model</th><th scope=col>R2</th><th scope=col>p.value</th><th scope=col>p.adjusted</th><th scope=col>sig</th></tr></thead>\n",
       "<tbody>\n",
       "\t<tr><td>Face vs Hand    </td><td> 3.242436       </td><td>0.01378338      </td><td>0.001           </td><td>0.001           </td><td>**              </td></tr>\n",
       "\t<tr><td>Face vs Axillary</td><td>21.321878       </td><td>0.11029211      </td><td>0.001           </td><td>0.001           </td><td>**              </td></tr>\n",
       "\t<tr><td>Hand vs Axillary</td><td>18.985550       </td><td>0.09638042      </td><td>0.001           </td><td>0.001           </td><td>**              </td></tr>\n",
       "</tbody>\n",
       "</table>\n"
      ],
      "text/latex": [
       "\\begin{tabular}{r|llllll}\n",
       " pairs & F.Model & R2 & p.value & p.adjusted & sig\\\\\n",
       "\\hline\n",
       "\t Face vs Hand     &  3.242436        & 0.01378338       & 0.001            & 0.001            & **              \\\\\n",
       "\t Face vs Axillary & 21.321878        & 0.11029211       & 0.001            & 0.001            & **              \\\\\n",
       "\t Hand vs Axillary & 18.985550        & 0.09638042       & 0.001            & 0.001            & **              \\\\\n",
       "\\end{tabular}\n"
      ],
      "text/markdown": [
       "\n",
       "pairs | F.Model | R2 | p.value | p.adjusted | sig | \n",
       "|---|---|---|\n",
       "| Face vs Hand     |  3.242436        | 0.01378338       | 0.001            | 0.001            | **               | \n",
       "| Face vs Axillary | 21.321878        | 0.11029211       | 0.001            | 0.001            | **               | \n",
       "| Hand vs Axillary | 18.985550        | 0.09638042       | 0.001            | 0.001            | **               | \n",
       "\n",
       "\n"
      ],
      "text/plain": [
       "  pairs            F.Model   R2         p.value p.adjusted sig\n",
       "1 Face vs Hand      3.242436 0.01378338 0.001   0.001      ** \n",
       "2 Face vs Axillary 21.321878 0.11029211 0.001   0.001      ** \n",
       "3 Hand vs Axillary 18.985550 0.09638042 0.001   0.001      ** "
      ]
     },
     "metadata": {},
     "output_type": "display_data"
    }
   ],
   "source": [
    "pairwise.adonis(df_original, df$ATTRIBUTE_Sample_Location_General_Text, \n",
    "                sim.function='vegdist', sim.method='euclidian', p.adjust.m = \"fdr\")"
   ]
  },
  {
   "cell_type": "code",
   "execution_count": 60,
   "metadata": {},
   "outputs": [],
   "source": [
    "df_axilla <- df[which(df$ATTRIBUTE_Sample_Location_General_Text=='Axillary'), ]\n",
    "df_hand <- df[which(df$ATTRIBUTE_Sample_Location_General_Text=='Hand'), ]\n",
    "df_face <- df[which(df$ATTRIBUTE_Sample_Location_General_Text=='Face'), ]\n",
    "                \n",
    "df_axilla_original <- scale(df_axilla[,-c(1:131)])\n",
    "df_face_original <- scale(df_face[,-c(1:131)])\n",
    "df_hand_original <- scale(df_hand[,-c(1:131)])"
   ]
  },
  {
   "cell_type": "code",
   "execution_count": 63,
   "metadata": {},
   "outputs": [
    {
     "data": {
      "text/html": [
       "<table>\n",
       "<thead><tr><th scope=col>pairs</th><th scope=col>F.Model</th><th scope=col>R2</th><th scope=col>p.value</th><th scope=col>p.adjusted</th><th scope=col>sig</th></tr></thead>\n",
       "<tbody>\n",
       "\t<tr><td>clinic vs lab</td><td>0.9364971    </td><td>0.01588994   </td><td>0.556        </td><td>0.556        </td><td>             </td></tr>\n",
       "</tbody>\n",
       "</table>\n"
      ],
      "text/latex": [
       "\\begin{tabular}{r|llllll}\n",
       " pairs & F.Model & R2 & p.value & p.adjusted & sig\\\\\n",
       "\\hline\n",
       "\t clinic vs lab & 0.9364971     & 0.01588994    & 0.556         & 0.556         &              \\\\\n",
       "\\end{tabular}\n"
      ],
      "text/markdown": [
       "\n",
       "pairs | F.Model | R2 | p.value | p.adjusted | sig | \n",
       "|---|\n",
       "| clinic vs lab | 0.9364971     | 0.01588994    | 0.556         | 0.556         |               | \n",
       "\n",
       "\n"
      ],
      "text/plain": [
       "  pairs         F.Model   R2         p.value p.adjusted sig\n",
       "1 clinic vs lab 0.9364971 0.01588994 0.556   0.556         "
      ]
     },
     "metadata": {},
     "output_type": "display_data"
    },
    {
     "data": {
      "text/html": [
       "<table>\n",
       "<thead><tr><th scope=col>pairs</th><th scope=col>F.Model</th><th scope=col>R2</th><th scope=col>p.value</th><th scope=col>p.adjusted</th><th scope=col>sig</th></tr></thead>\n",
       "<tbody>\n",
       "\t<tr><td>clinic vs lab</td><td>2.065887     </td><td>0.01811134   </td><td>0.003        </td><td>0.003        </td><td>*            </td></tr>\n",
       "</tbody>\n",
       "</table>\n"
      ],
      "text/latex": [
       "\\begin{tabular}{r|llllll}\n",
       " pairs & F.Model & R2 & p.value & p.adjusted & sig\\\\\n",
       "\\hline\n",
       "\t clinic vs lab & 2.065887      & 0.01811134    & 0.003         & 0.003         & *            \\\\\n",
       "\\end{tabular}\n"
      ],
      "text/markdown": [
       "\n",
       "pairs | F.Model | R2 | p.value | p.adjusted | sig | \n",
       "|---|\n",
       "| clinic vs lab | 2.065887      | 0.01811134    | 0.003         | 0.003         | *             | \n",
       "\n",
       "\n"
      ],
      "text/plain": [
       "  pairs         F.Model  R2         p.value p.adjusted sig\n",
       "1 clinic vs lab 2.065887 0.01811134 0.003   0.003      *  "
      ]
     },
     "metadata": {},
     "output_type": "display_data"
    },
    {
     "data": {
      "text/html": [
       "<table>\n",
       "<thead><tr><th scope=col>pairs</th><th scope=col>F.Model</th><th scope=col>R2</th><th scope=col>p.value</th><th scope=col>p.adjusted</th><th scope=col>sig</th></tr></thead>\n",
       "<tbody>\n",
       "\t<tr><td>clinic vs lab</td><td>2.373928     </td><td>0.01972128   </td><td>0.001        </td><td>0.001        </td><td>**           </td></tr>\n",
       "</tbody>\n",
       "</table>\n"
      ],
      "text/latex": [
       "\\begin{tabular}{r|llllll}\n",
       " pairs & F.Model & R2 & p.value & p.adjusted & sig\\\\\n",
       "\\hline\n",
       "\t clinic vs lab & 2.373928      & 0.01972128    & 0.001         & 0.001         & **           \\\\\n",
       "\\end{tabular}\n"
      ],
      "text/markdown": [
       "\n",
       "pairs | F.Model | R2 | p.value | p.adjusted | sig | \n",
       "|---|\n",
       "| clinic vs lab | 2.373928      | 0.01972128    | 0.001         | 0.001         | **            | \n",
       "\n",
       "\n"
      ],
      "text/plain": [
       "  pairs         F.Model  R2         p.value p.adjusted sig\n",
       "1 clinic vs lab 2.373928 0.01972128 0.001   0.001      ** "
      ]
     },
     "metadata": {},
     "output_type": "display_data"
    }
   ],
   "source": [
    "pairwise.adonis(df_axilla_original, df_axilla$ATTRIBUTE_Visit, \n",
    "                sim.function='vegdist', sim.method='euclidian', p.adjust.m = \"fdr\")\n",
    "pairwise.adonis(df_face_original, df_face$ATTRIBUTE_Visit, \n",
    "                sim.function='vegdist', sim.method='euclidian', p.adjust.m = \"fdr\")\n",
    "pairwise.adonis(df_hand_original, df_hand$ATTRIBUTE_Visit, \n",
    "                sim.function='vegdist', sim.method='euclidian', p.adjust.m = \"fdr\")"
   ]
  },
  {
   "cell_type": "markdown",
   "metadata": {},
   "source": [
    " Inspiration from Code (Martinez Arbizu, P. (2017). pairwiseAdonis: Pairwise multilevel comparison using adonis. R package version 0.0.1.) <br>\n",
    " ?pairwise.adonis()"
   ]
  },
  {
   "cell_type": "code",
   "execution_count": null,
   "metadata": {},
   "outputs": [],
   "source": []
  }
 ],
 "metadata": {
  "kernelspec": {
   "display_name": "R",
   "language": "R",
   "name": "ir"
  },
  "language_info": {
   "codemirror_mode": "r",
   "file_extension": ".r",
   "mimetype": "text/x-r-source",
   "name": "R",
   "pygments_lexer": "r",
   "version": "3.5.0"
  }
 },
 "nbformat": 4,
 "nbformat_minor": 2
}
