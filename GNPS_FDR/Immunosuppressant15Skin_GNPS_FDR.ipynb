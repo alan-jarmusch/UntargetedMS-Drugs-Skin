{
 "cells": [
  {
   "cell_type": "markdown",
   "metadata": {},
   "source": [
    "# False Discovery Rate Plot from GNPS Output\n",
    "    Basic notebook to generate a nice plot of the FDR output from GNPS - 1% and 5% lines are added - left plot is full FDR region while the right plot is a zoomed in region to better assess the 1% and 5% lines"
   ]
  },
  {
   "cell_type": "code",
   "execution_count": 2,
   "metadata": {
    "collapsed": true
   },
   "outputs": [],
   "source": [
    "suppressMessages(library(Hmisc))"
   ]
  },
  {
   "cell_type": "markdown",
   "metadata": {
    "collapsed": true
   },
   "source": [
    "## Read in the .tsv GNPS output\n",
    "    change the filename to match your GNPS output"
   ]
  },
  {
   "cell_type": "code",
   "execution_count": 4,
   "metadata": {
    "scrolled": true
   },
   "outputs": [
    {
     "data": {
      "text/html": [
       "<table>\n",
       "<thead><tr><th scope=col>MQScore</th><th scope=col>fdr</th></tr></thead>\n",
       "<tbody>\n",
       "\t<tr><td>0.100001 </td><td>0.5321923</td></tr>\n",
       "\t<tr><td>0.126464 </td><td>0.5321888</td></tr>\n",
       "\t<tr><td>0.113168 </td><td>0.5321888</td></tr>\n",
       "\t<tr><td>0.164659 </td><td>0.5321888</td></tr>\n",
       "\t<tr><td>0.115980 </td><td>0.5321888</td></tr>\n",
       "\t<tr><td>0.131032 </td><td>0.5321888</td></tr>\n",
       "</tbody>\n",
       "</table>\n"
      ],
      "text/latex": [
       "\\begin{tabular}{r|ll}\n",
       " MQScore & fdr\\\\\n",
       "\\hline\n",
       "\t 0.100001  & 0.5321923\\\\\n",
       "\t 0.126464  & 0.5321888\\\\\n",
       "\t 0.113168  & 0.5321888\\\\\n",
       "\t 0.164659  & 0.5321888\\\\\n",
       "\t 0.115980  & 0.5321888\\\\\n",
       "\t 0.131032  & 0.5321888\\\\\n",
       "\\end{tabular}\n"
      ],
      "text/markdown": [
       "\n",
       "MQScore | fdr | \n",
       "|---|---|---|---|---|---|\n",
       "| 0.100001  | 0.5321923 | \n",
       "| 0.126464  | 0.5321888 | \n",
       "| 0.113168  | 0.5321888 | \n",
       "| 0.164659  | 0.5321888 | \n",
       "| 0.115980  | 0.5321888 | \n",
       "| 0.131032  | 0.5321888 | \n",
       "\n",
       "\n"
      ],
      "text/plain": [
       "  MQScore  fdr      \n",
       "1 0.100001 0.5321923\n",
       "2 0.126464 0.5321888\n",
       "3 0.113168 0.5321888\n",
       "4 0.164659 0.5321888\n",
       "5 0.115980 0.5321888\n",
       "6 0.131032 0.5321888"
      ]
     },
     "metadata": {},
     "output_type": "display_data"
    }
   ],
   "source": [
    "tab <- read.delim(\"MOLECULAR-LIBRARYSEARCH-FDR-5b942429-view_all_annotations_DB_fdr-main.tsv\")\n",
    "fdr_4min <- tab[,c(\"MQScore\",\"fdr\")]\n",
    "head(fdr_4min)"
   ]
  },
  {
   "cell_type": "markdown",
   "metadata": {},
   "source": [
    "## Additional FDR result files (.tsv) - use if necessary\n",
    "    use these if you desire to plot more than one FDR output at once (e.g. different min match peaks)"
   ]
  },
  {
   "cell_type": "code",
   "execution_count": 5,
   "metadata": {},
   "outputs": [
    {
     "data": {
      "text/html": [
       "<ol class=list-inline>\n",
       "\t<li>69558</li>\n",
       "\t<li>2</li>\n",
       "</ol>\n"
      ],
      "text/latex": [
       "\\begin{enumerate*}\n",
       "\\item 69558\n",
       "\\item 2\n",
       "\\end{enumerate*}\n"
      ],
      "text/markdown": [
       "1. 69558\n",
       "2. 2\n",
       "\n",
       "\n"
      ],
      "text/plain": [
       "[1] 69558     2"
      ]
     },
     "metadata": {},
     "output_type": "display_data"
    },
    {
     "data": {
      "text/html": [
       "<ol class=list-inline>\n",
       "\t<li>34296</li>\n",
       "\t<li>2</li>\n",
       "</ol>\n"
      ],
      "text/latex": [
       "\\begin{enumerate*}\n",
       "\\item 34296\n",
       "\\item 2\n",
       "\\end{enumerate*}\n"
      ],
      "text/markdown": [
       "1. 34296\n",
       "2. 2\n",
       "\n",
       "\n"
      ],
      "text/plain": [
       "[1] 34296     2"
      ]
     },
     "metadata": {},
     "output_type": "display_data"
    }
   ],
   "source": [
    "tab2 <- read.delim(\"MOLECULAR-LIBRARYSEARCH-FDR-4fd62046-view_all_annotations_DB_fdr-main.tsv\")\n",
    "fdr_5min <- tab2[,c(\"MQScore\",\"fdr\")]\n",
    "dim(fdr_5min)\n",
    "tab3 <- read.delim(\"MOLECULAR-LIBRARYSEARCH-FDR-d6885e52-view_all_annotations_DB_fdr-main.tsv\")\n",
    "fdr_6min <- tab3[,c(\"MQScore\",\"fdr\")]\n",
    "dim(fdr_6min)"
   ]
  },
  {
   "cell_type": "markdown",
   "metadata": {},
   "source": [
    "## All headers\n",
    "    FYI"
   ]
  },
  {
   "cell_type": "code",
   "execution_count": 6,
   "metadata": {},
   "outputs": [
    {
     "data": {
      "text/html": [
       "<ol class=list-inline>\n",
       "\t<li>'X.Scan.'</li>\n",
       "\t<li>'Adduct'</li>\n",
       "\t<li>'CAS_Number'</li>\n",
       "\t<li>'Charge'</li>\n",
       "\t<li>'Compound_Name'</li>\n",
       "\t<li>'Compound_Source'</li>\n",
       "\t<li>'Data_Collector'</li>\n",
       "\t<li>'ExactMass'</li>\n",
       "\t<li>'FileScanUniqueID'</li>\n",
       "\t<li>'INCHI'</li>\n",
       "\t<li>'INCHI_AUX'</li>\n",
       "\t<li>'Instrument'</li>\n",
       "\t<li>'IonMode'</li>\n",
       "\t<li>'Ion_Source'</li>\n",
       "\t<li>'LibMZ'</li>\n",
       "\t<li>'LibraryName'</li>\n",
       "\t<li>'LibraryQualityString'</li>\n",
       "\t<li>'Library_Class'</li>\n",
       "\t<li>'MQScore'</li>\n",
       "\t<li>'MZErrorPPM'</li>\n",
       "\t<li>'MassDiff'</li>\n",
       "\t<li>'NumberHits'</li>\n",
       "\t<li>'Organism'</li>\n",
       "\t<li>'PI'</li>\n",
       "\t<li>'Precursor_MZ'</li>\n",
       "\t<li>'Pubmed_ID'</li>\n",
       "\t<li>'RT_Query'</li>\n",
       "\t<li>'SharedPeaks'</li>\n",
       "\t<li>'Smiles'</li>\n",
       "\t<li>'SpecCharge'</li>\n",
       "\t<li>'SpecMZ'</li>\n",
       "\t<li>'SpectrumFile'</li>\n",
       "\t<li>'SpectrumID'</li>\n",
       "\t<li>'TIC_Query'</li>\n",
       "\t<li>'UpdateWorkflowName'</li>\n",
       "\t<li>'fdr'</li>\n",
       "\t<li>'tags'</li>\n",
       "\t<li>'internalFilename'</li>\n",
       "</ol>\n"
      ],
      "text/latex": [
       "\\begin{enumerate*}\n",
       "\\item 'X.Scan.'\n",
       "\\item 'Adduct'\n",
       "\\item 'CAS\\_Number'\n",
       "\\item 'Charge'\n",
       "\\item 'Compound\\_Name'\n",
       "\\item 'Compound\\_Source'\n",
       "\\item 'Data\\_Collector'\n",
       "\\item 'ExactMass'\n",
       "\\item 'FileScanUniqueID'\n",
       "\\item 'INCHI'\n",
       "\\item 'INCHI\\_AUX'\n",
       "\\item 'Instrument'\n",
       "\\item 'IonMode'\n",
       "\\item 'Ion\\_Source'\n",
       "\\item 'LibMZ'\n",
       "\\item 'LibraryName'\n",
       "\\item 'LibraryQualityString'\n",
       "\\item 'Library\\_Class'\n",
       "\\item 'MQScore'\n",
       "\\item 'MZErrorPPM'\n",
       "\\item 'MassDiff'\n",
       "\\item 'NumberHits'\n",
       "\\item 'Organism'\n",
       "\\item 'PI'\n",
       "\\item 'Precursor\\_MZ'\n",
       "\\item 'Pubmed\\_ID'\n",
       "\\item 'RT\\_Query'\n",
       "\\item 'SharedPeaks'\n",
       "\\item 'Smiles'\n",
       "\\item 'SpecCharge'\n",
       "\\item 'SpecMZ'\n",
       "\\item 'SpectrumFile'\n",
       "\\item 'SpectrumID'\n",
       "\\item 'TIC\\_Query'\n",
       "\\item 'UpdateWorkflowName'\n",
       "\\item 'fdr'\n",
       "\\item 'tags'\n",
       "\\item 'internalFilename'\n",
       "\\end{enumerate*}\n"
      ],
      "text/markdown": [
       "1. 'X.Scan.'\n",
       "2. 'Adduct'\n",
       "3. 'CAS_Number'\n",
       "4. 'Charge'\n",
       "5. 'Compound_Name'\n",
       "6. 'Compound_Source'\n",
       "7. 'Data_Collector'\n",
       "8. 'ExactMass'\n",
       "9. 'FileScanUniqueID'\n",
       "10. 'INCHI'\n",
       "11. 'INCHI_AUX'\n",
       "12. 'Instrument'\n",
       "13. 'IonMode'\n",
       "14. 'Ion_Source'\n",
       "15. 'LibMZ'\n",
       "16. 'LibraryName'\n",
       "17. 'LibraryQualityString'\n",
       "18. 'Library_Class'\n",
       "19. 'MQScore'\n",
       "20. 'MZErrorPPM'\n",
       "21. 'MassDiff'\n",
       "22. 'NumberHits'\n",
       "23. 'Organism'\n",
       "24. 'PI'\n",
       "25. 'Precursor_MZ'\n",
       "26. 'Pubmed_ID'\n",
       "27. 'RT_Query'\n",
       "28. 'SharedPeaks'\n",
       "29. 'Smiles'\n",
       "30. 'SpecCharge'\n",
       "31. 'SpecMZ'\n",
       "32. 'SpectrumFile'\n",
       "33. 'SpectrumID'\n",
       "34. 'TIC_Query'\n",
       "35. 'UpdateWorkflowName'\n",
       "36. 'fdr'\n",
       "37. 'tags'\n",
       "38. 'internalFilename'\n",
       "\n",
       "\n"
      ],
      "text/plain": [
       " [1] \"X.Scan.\"              \"Adduct\"               \"CAS_Number\"          \n",
       " [4] \"Charge\"               \"Compound_Name\"        \"Compound_Source\"     \n",
       " [7] \"Data_Collector\"       \"ExactMass\"            \"FileScanUniqueID\"    \n",
       "[10] \"INCHI\"                \"INCHI_AUX\"            \"Instrument\"          \n",
       "[13] \"IonMode\"              \"Ion_Source\"           \"LibMZ\"               \n",
       "[16] \"LibraryName\"          \"LibraryQualityString\" \"Library_Class\"       \n",
       "[19] \"MQScore\"              \"MZErrorPPM\"           \"MassDiff\"            \n",
       "[22] \"NumberHits\"           \"Organism\"             \"PI\"                  \n",
       "[25] \"Precursor_MZ\"         \"Pubmed_ID\"            \"RT_Query\"            \n",
       "[28] \"SharedPeaks\"          \"Smiles\"               \"SpecCharge\"          \n",
       "[31] \"SpecMZ\"               \"SpectrumFile\"         \"SpectrumID\"          \n",
       "[34] \"TIC_Query\"            \"UpdateWorkflowName\"   \"fdr\"                 \n",
       "[37] \"tags\"                 \"internalFilename\"    "
      ]
     },
     "metadata": {},
     "output_type": "display_data"
    }
   ],
   "source": [
    "colnames(tab)"
   ]
  },
  {
   "cell_type": "markdown",
   "metadata": {},
   "source": [
    "## Plot"
   ]
  },
  {
   "cell_type": "code",
   "execution_count": 7,
   "metadata": {},
   "outputs": [
    {
     "data": {
      "image/png": "[encoded data removed]",
      "text/plain": [
       "plot without title"
      ]
     },
     "metadata": {},
     "output_type": "display_data"
    }
   ],
   "source": [
    "par(mfrow=c(1,2))\n",
    "par(pty=\"s\")\n",
    "plot(fdr_4min[,2],fdr_4min[,1], pch = 20, cex=0.1, col=adjustcolor(\"black\", 0.35), \n",
    "     xlab=\"FDR\", ylab=\"Cosine\", \n",
    "     xlim=c(0, 0.6), ylim=c(0, 1))\n",
    "    points(fdr_5min[,2],fdr_5min[,1], pch = 20, cex=0.1, col=adjustcolor(\"blue\", 0.35))\n",
    "    points(fdr_6min[,2],fdr_6min[,1], pch = 20, cex=0.1, col=adjustcolor(\"red\", 0.35))\n",
    "        minor.tick(nx=5, ny=10, tick.ratio=0.5)\n",
    "        abline(v=0.05, col = \"gray50\")\n",
    "        abline(v=0.01, col = \"gray50\")\n",
    "        legend(\"topright\", legend = c(\"4 product ions\", \"5 product ions\", \"6 product ions\"), pch = 20, cex = 0.35, col = c(\"black\",\"blue\",\"red\"))\n",
    "plot(fdr_4min[,2],fdr_4min[,1], pch = 20, cex=0.1, col=adjustcolor(\"black\", 0.35), \n",
    "     xlab=\"FDR\", ylab=\"Cosine\", \n",
    "     xlim=c(0, 0.1), ylim=c(0.4, 1))\n",
    "    points(fdr_5min[,2],fdr_5min[,1], pch = 20, cex=0.1, col=adjustcolor(\"blue\", 0.35))\n",
    "    points(fdr_6min[,2],fdr_6min[,1], pch = 20, cex=0.1, col=adjustcolor(\"red\", 0.35))\n",
    "        minor.tick(nx=5, ny=10, tick.ratio=0.5)\n",
    "        abline(v=0.05, col = \"gray50\")\n",
    "        abline(v=0.01, col = \"gray50\")\n",
    "        legend(\"topright\", legend = c(\"4 product ions\", \"5 product ions\", \"6 product ions\"), pch = 20, cex = 0.35, col = c(\"black\",\"blue\",\"red\"))"
   ]
  },
  {
   "cell_type": "markdown",
   "metadata": {},
   "source": [
    "## Calculate Number of GNPS hits at 1% FDR (must supply the cosine value)"
   ]
  },
  {
   "cell_type": "code",
   "execution_count": 8,
   "metadata": {},
   "outputs": [
    {
     "data": {
      "text/html": [
       "460"
      ],
      "text/latex": [
       "460"
      ],
      "text/markdown": [
       "460"
      ],
      "text/plain": [
       "[1] 460"
      ]
     },
     "metadata": {},
     "output_type": "display_data"
    },
    {
     "data": {
      "text/html": [
       "33836"
      ],
      "text/latex": [
       "33836"
      ],
      "text/markdown": [
       "33836"
      ],
      "text/plain": [
       "[1] 33836"
      ]
     },
     "metadata": {},
     "output_type": "display_data"
    },
    {
     "data": {
      "text/html": [
       "34296"
      ],
      "text/latex": [
       "34296"
      ],
      "text/markdown": [
       "34296"
      ],
      "text/plain": [
       "[1] 34296"
      ]
     },
     "metadata": {},
     "output_type": "display_data"
    },
    {
     "data": {
      "text/html": [
       "'------------'"
      ],
      "text/latex": [
       "'------------'"
      ],
      "text/markdown": [
       "'------------'"
      ],
      "text/plain": [
       "[1] \"------------\""
      ]
     },
     "metadata": {},
     "output_type": "display_data"
    },
    {
     "data": {
      "text/html": [
       "845"
      ],
      "text/latex": [
       "845"
      ],
      "text/markdown": [
       "845"
      ],
      "text/plain": [
       "[1] 845"
      ]
     },
     "metadata": {},
     "output_type": "display_data"
    },
    {
     "data": {
      "text/html": [
       "68713"
      ],
      "text/latex": [
       "68713"
      ],
      "text/markdown": [
       "68713"
      ],
      "text/plain": [
       "[1] 68713"
      ]
     },
     "metadata": {},
     "output_type": "display_data"
    },
    {
     "data": {
      "text/html": [
       "69558"
      ],
      "text/latex": [
       "69558"
      ],
      "text/markdown": [
       "69558"
      ],
      "text/plain": [
       "[1] 69558"
      ]
     },
     "metadata": {},
     "output_type": "display_data"
    },
    {
     "data": {
      "text/html": [
       "'------------'"
      ],
      "text/latex": [
       "'------------'"
      ],
      "text/markdown": [
       "'------------'"
      ],
      "text/plain": [
       "[1] \"------------\""
      ]
     },
     "metadata": {},
     "output_type": "display_data"
    },
    {
     "data": {
      "text/html": [
       "1519"
      ],
      "text/latex": [
       "1519"
      ],
      "text/markdown": [
       "1519"
      ],
      "text/plain": [
       "[1] 1519"
      ]
     },
     "metadata": {},
     "output_type": "display_data"
    },
    {
     "data": {
      "text/html": [
       "111806"
      ],
      "text/latex": [
       "111806"
      ],
      "text/markdown": [
       "111806"
      ],
      "text/plain": [
       "[1] 111806"
      ]
     },
     "metadata": {},
     "output_type": "display_data"
    },
    {
     "data": {
      "text/html": [
       "113325"
      ],
      "text/latex": [
       "113325"
      ],
      "text/markdown": [
       "113325"
      ],
      "text/plain": [
       "[1] 113325"
      ]
     },
     "metadata": {},
     "output_type": "display_data"
    }
   ],
   "source": [
    "#input FDR_6min cos\n",
    "minmatch6_cos <- 0.70\n",
    "minmatch5_cos <- 0.72\n",
    "minmatch4_cos <- 0.75\n",
    "\n",
    "sum(fdr_6min$MQScore >= minmatch6_cos)\n",
    "sum(fdr_6min$MQScore <= minmatch6_cos)\n",
    "sum(sum(fdr_6min$MQScore >= minmatch6_cos),sum(fdr_6min$MQScore <= minmatch6_cos))\n",
    "'------------'\n",
    "sum(fdr_5min$MQScore >= minmatch5_cos)\n",
    "sum(fdr_5min$MQScore <= minmatch5_cos)\n",
    "sum(sum(fdr_5min$MQScore >= minmatch5_cos),sum(fdr_5min$MQScore <= minmatch5_cos))\n",
    "'------------'\n",
    "sum(fdr_4min$MQScore >= minmatch4_cos)\n",
    "sum(fdr_4min$MQScore <= minmatch4_cos)\n",
    "sum(sum(fdr_4min$MQScore >= minmatch4_cos),sum(fdr_4min$MQScore <= minmatch4_cos))"
   ]
  },
  {
   "cell_type": "code",
   "execution_count": null,
   "metadata": {
    "collapsed": true
   },
   "outputs": [],
   "source": []
  }
 ],
 "metadata": {
  "kernelspec": {
   "display_name": "R",
   "language": "R",
   "name": "ir"
  },
  "language_info": {
   "codemirror_mode": "r",
   "file_extension": ".r",
   "mimetype": "text/x-r-source",
   "name": "R",
   "pygments_lexer": "r",
   "version": "3.4.2"
  }
 },
 "nbformat": 4,
 "nbformat_minor": 1
}
