{
 "cells": [
  {
   "cell_type": "markdown",
   "metadata": {},
   "source": [
    "# Generate a file for visualization of MS1 chemical information with 'ili\n",
    "## MS1 Data Matrix (i.e. MS1 Feature Table)\n",
    " __Author:__ Alan K. Jarmusch <br|\n",
    " __Verion:__ 1.0 <br>\n",
    " __Date of Last Revision:__ 02-26-2018 <br>\n",
    " __Input:__ Data matrix with metadata (.csv), samples (row) by variables (columns)."
   ]
  },
  {
   "cell_type": "code",
   "execution_count": 1,
   "metadata": {},
   "outputs": [],
   "source": [
    "#suppressMessages(library(Hmisc))\n",
    "suppressMessages(library(ggplot2))\n",
    "suppressMessages(library(dplyr))\n",
    "suppressMessages(library(tidyr))"
   ]
  },
  {
   "cell_type": "code",
   "execution_count": 4,
   "metadata": {},
   "outputs": [],
   "source": [
    "final_matrix <- read.csv(\"Analysis_Matrix/20180702_Immunosuppressant15Skin_MS1DataMatrix_RowSumNorm.csv\", header=TRUE)"
   ]
  },
  {
   "cell_type": "code",
   "execution_count": 5,
   "metadata": {},
   "outputs": [
    {
     "data": {
      "text/html": [
       "<ol class=list-inline>\n",
       "\t<li>298</li>\n",
       "\t<li>20688</li>\n",
       "</ol>\n"
      ],
      "text/latex": [
       "\\begin{enumerate*}\n",
       "\\item 298\n",
       "\\item 20688\n",
       "\\end{enumerate*}\n"
      ],
      "text/markdown": [
       "1. 298\n",
       "2. 20688\n",
       "\n",
       "\n"
      ],
      "text/plain": [
       "[1]   298 20688"
      ]
     },
     "metadata": {},
     "output_type": "display_data"
    }
   ],
   "source": [
    "dim(final_matrix)"
   ]
  },
  {
   "cell_type": "code",
   "execution_count": 6,
   "metadata": {},
   "outputs": [
    {
     "data": {
      "text/html": [
       "118"
      ],
      "text/latex": [
       "118"
      ],
      "text/markdown": [
       "118"
      ],
      "text/plain": [
       "[1] 118"
      ]
     },
     "metadata": {},
     "output_type": "display_data"
    }
   ],
   "source": [
    "which(colnames(final_matrix)==c(\"ATTRIBUTE_Body_Site\"))"
   ]
  },
  {
   "cell_type": "markdown",
   "metadata": {},
   "source": [
    "# add coordinate information"
   ]
  },
  {
   "cell_type": "code",
   "execution_count": 7,
   "metadata": {},
   "outputs": [
    {
     "data": {
      "text/html": [
       "<table>\n",
       "<thead><tr><th scope=col>Sample_Location</th><th scope=col>X</th><th scope=col>Y</th><th scope=col>Z</th><th scope=col>Radius</th></tr></thead>\n",
       "<tbody>\n",
       "\t<tr><td>1      </td><td>-1.5850</td><td>27.8700</td><td>12.2064</td><td>1      </td></tr>\n",
       "\t<tr><td>2      </td><td>-1.5961</td><td>29.1630</td><td>12.2064</td><td>1      </td></tr>\n",
       "\t<tr><td>3      </td><td>-1.4914</td><td>28.1467</td><td>10.4638</td><td>1      </td></tr>\n",
       "\t<tr><td>4      </td><td>-1.5506</td><td>28.9671</td><td>10.4824</td><td>1      </td></tr>\n",
       "\t<tr><td>5      </td><td>-3.7226</td><td>24.3828</td><td> 3.5472</td><td>1      </td></tr>\n",
       "\t<tr><td>6      </td><td>-3.8645</td><td>32.8461</td><td> 3.7039</td><td>1      </td></tr>\n",
       "</tbody>\n",
       "</table>\n"
      ],
      "text/latex": [
       "\\begin{tabular}{r|lllll}\n",
       " Sample\\_Location & X & Y & Z & Radius\\\\\n",
       "\\hline\n",
       "\t 1       & -1.5850 & 27.8700 & 12.2064 & 1      \\\\\n",
       "\t 2       & -1.5961 & 29.1630 & 12.2064 & 1      \\\\\n",
       "\t 3       & -1.4914 & 28.1467 & 10.4638 & 1      \\\\\n",
       "\t 4       & -1.5506 & 28.9671 & 10.4824 & 1      \\\\\n",
       "\t 5       & -3.7226 & 24.3828 &  3.5472 & 1      \\\\\n",
       "\t 6       & -3.8645 & 32.8461 &  3.7039 & 1      \\\\\n",
       "\\end{tabular}\n"
      ],
      "text/markdown": [
       "\n",
       "Sample_Location | X | Y | Z | Radius | \n",
       "|---|---|---|---|---|---|\n",
       "| 1       | -1.5850 | 27.8700 | 12.2064 | 1       | \n",
       "| 2       | -1.5961 | 29.1630 | 12.2064 | 1       | \n",
       "| 3       | -1.4914 | 28.1467 | 10.4638 | 1       | \n",
       "| 4       | -1.5506 | 28.9671 | 10.4824 | 1       | \n",
       "| 5       | -3.7226 | 24.3828 |  3.5472 | 1       | \n",
       "| 6       | -3.8645 | 32.8461 |  3.7039 | 1       | \n",
       "\n",
       "\n"
      ],
      "text/plain": [
       "  Sample_Location X       Y       Z       Radius\n",
       "1 1               -1.5850 27.8700 12.2064 1     \n",
       "2 2               -1.5961 29.1630 12.2064 1     \n",
       "3 3               -1.4914 28.1467 10.4638 1     \n",
       "4 4               -1.5506 28.9671 10.4824 1     \n",
       "5 5               -3.7226 24.3828  3.5472 1     \n",
       "6 6               -3.8645 32.8461  3.7039 1     "
      ]
     },
     "metadata": {},
     "output_type": "display_data"
    }
   ],
   "source": [
    "coordinate_matrix <- read.delim(\"Data/Coordinates.txt\", sep=\"\\t\")\n",
    "head(coordinate_matrix)"
   ]
  },
  {
   "cell_type": "markdown",
   "metadata": {},
   "source": [
    "# merge coordiinate information"
   ]
  },
  {
   "cell_type": "code",
   "execution_count": 17,
   "metadata": {},
   "outputs": [],
   "source": [
    "ili_MS1_matrix <- merge(coordinate_matrix, final_matrix, by.x=\"Sample_Location\", by.y=\"ATTRIBUTE_Body_Site\")"
   ]
  },
  {
   "cell_type": "code",
   "execution_count": 18,
   "metadata": {},
   "outputs": [
    {
     "data": {
      "text/html": [
       "<table>\n",
       "<thead><tr><th scope=col>Sample_Location</th><th scope=col>X</th><th scope=col>Y</th><th scope=col>Z</th><th scope=col>Radius</th><th scope=col>filename</th><th scope=col>unique_sample_ID</th><th scope=col>unique_sample_ID.1</th><th scope=col>ATTRIBUTE_sample_ID</th><th scope=col>ATTRIBUTE_Meds_number</th><th scope=col>⋯</th><th scope=col>ATTRIBUTE_prescribed_atenolol</th><th scope=col>ATTRIBUTE_prescribed_atorvastatin</th><th scope=col>ATTRIBUTE_prescribed_baclofen</th><th scope=col>ATTRIBUTE_prescribed_bisacodyl</th><th scope=col>ATTRIBUTE_prescribed_brimonidine</th><th scope=col>ATTRIBUTE_prescribed_budesonide</th><th scope=col>ATTRIBUTE_prescribed_calcitriol</th><th scope=col>ATTRIBUTE_prescribed_calcium.carbonate</th><th scope=col>ATTRIBUTE_prescribed_cephalexin</th><th scope=col>ATTRIBUTE_prescribed_cholecalciferol</th></tr></thead>\n",
       "<tbody>\n",
       "\t<tr><td>1                             </td><td>-1.585                        </td><td>27.87                         </td><td>12.2064                       </td><td>1                             </td><td>AA3594_1_1_RA1_01_37666.mzXML </td><td>AA3594_1_1_RA1                </td><td>AA3594_1_1                    </td><td>AA3594                        </td><td>22                            </td><td>⋯                             </td><td>0                             </td><td>0                             </td><td>1                             </td><td>0                             </td><td>0                             </td><td>0                             </td><td>0                             </td><td>0                             </td><td>0                             </td><td>0                             </td></tr>\n",
       "\t<tr><td>1                             </td><td>-1.585                        </td><td>27.87                         </td><td>12.2064                       </td><td>1                             </td><td>LJ1904_1_1_RA1_01_37439.mzXML </td><td>LJ1904_1_1_RA1                </td><td>LJ1904_1_1                    </td><td>LJ1904                        </td><td>15                            </td><td>⋯                             </td><td>0                             </td><td>0                             </td><td>0                             </td><td>1                             </td><td>0                             </td><td>0                             </td><td>0                             </td><td>0                             </td><td>0                             </td><td>0                             </td></tr>\n",
       "\t<tr><td>1                             </td><td>-1.585                        </td><td>27.87                         </td><td>12.2064                       </td><td>1                             </td><td>US5662_2_1_RB1_01_37367.mzXML </td><td>US5662_2_1_RB1                </td><td>US5662_2_1                    </td><td>US5662                        </td><td>19                            </td><td>⋯                             </td><td>0                             </td><td>0                             </td><td>0                             </td><td>0                             </td><td>0                             </td><td>0                             </td><td>1                             </td><td>0                             </td><td>0                             </td><td>0                             </td></tr>\n",
       "\t<tr><td>1                             </td><td>-1.585                        </td><td>27.87                         </td><td>12.2064                       </td><td>1                             </td><td>GI1546_2_1_RA12_01_37557.mzXML</td><td>GI1546_2_1_RA12               </td><td>GI1546_2_1                    </td><td>GI1546                        </td><td>13                            </td><td>⋯                             </td><td>0                             </td><td>0                             </td><td>0                             </td><td>0                             </td><td>0                             </td><td>0                             </td><td>0                             </td><td>0                             </td><td>0                             </td><td>0                             </td></tr>\n",
       "\t<tr><td>1                             </td><td>-1.585                        </td><td>27.87                         </td><td>12.2064                       </td><td>1                             </td><td>BF1637_2_1_RD12_01_37533.mzXML</td><td>BF1637_2_1_RD12               </td><td>BF1637_2_1                    </td><td>BF1637                        </td><td>20                            </td><td>⋯                             </td><td>0                             </td><td>1                             </td><td>0                             </td><td>0                             </td><td>0                             </td><td>0                             </td><td>0                             </td><td>0                             </td><td>1                             </td><td>1                             </td></tr>\n",
       "</tbody>\n",
       "</table>\n"
      ],
      "text/latex": [
       "\\begin{tabular}{r|lllllllllllllllllllllllll}\n",
       " Sample\\_Location & X & Y & Z & Radius & filename & unique\\_sample\\_ID & unique\\_sample\\_ID.1 & ATTRIBUTE\\_sample\\_ID & ATTRIBUTE\\_Meds\\_number & ⋯ & ATTRIBUTE\\_prescribed\\_atenolol & ATTRIBUTE\\_prescribed\\_atorvastatin & ATTRIBUTE\\_prescribed\\_baclofen & ATTRIBUTE\\_prescribed\\_bisacodyl & ATTRIBUTE\\_prescribed\\_brimonidine & ATTRIBUTE\\_prescribed\\_budesonide & ATTRIBUTE\\_prescribed\\_calcitriol & ATTRIBUTE\\_prescribed\\_calcium.carbonate & ATTRIBUTE\\_prescribed\\_cephalexin & ATTRIBUTE\\_prescribed\\_cholecalciferol\\\\\n",
       "\\hline\n",
       "\t 1                                        & -1.585                                   & 27.87                                    & 12.2064                                  & 1                                        & AA3594\\_1\\_1\\_RA1\\_01\\_37666.mzXML  & AA3594\\_1\\_1\\_RA1                     & AA3594\\_1\\_1                           & AA3594                                   & 22                                       & ⋯                                        & 0                                        & 0                                        & 1                                        & 0                                        & 0                                        & 0                                        & 0                                        & 0                                        & 0                                        & 0                                       \\\\\n",
       "\t 1                                        & -1.585                                   & 27.87                                    & 12.2064                                  & 1                                        & LJ1904\\_1\\_1\\_RA1\\_01\\_37439.mzXML  & LJ1904\\_1\\_1\\_RA1                     & LJ1904\\_1\\_1                           & LJ1904                                   & 15                                       & ⋯                                        & 0                                        & 0                                        & 0                                        & 1                                        & 0                                        & 0                                        & 0                                        & 0                                        & 0                                        & 0                                       \\\\\n",
       "\t 1                                        & -1.585                                   & 27.87                                    & 12.2064                                  & 1                                        & US5662\\_2\\_1\\_RB1\\_01\\_37367.mzXML  & US5662\\_2\\_1\\_RB1                     & US5662\\_2\\_1                           & US5662                                   & 19                                       & ⋯                                        & 0                                        & 0                                        & 0                                        & 0                                        & 0                                        & 0                                        & 1                                        & 0                                        & 0                                        & 0                                       \\\\\n",
       "\t 1                                        & -1.585                                   & 27.87                                    & 12.2064                                  & 1                                        & GI1546\\_2\\_1\\_RA12\\_01\\_37557.mzXML & GI1546\\_2\\_1\\_RA12                    & GI1546\\_2\\_1                           & GI1546                                   & 13                                       & ⋯                                        & 0                                        & 0                                        & 0                                        & 0                                        & 0                                        & 0                                        & 0                                        & 0                                        & 0                                        & 0                                       \\\\\n",
       "\t 1                                        & -1.585                                   & 27.87                                    & 12.2064                                  & 1                                        & BF1637\\_2\\_1\\_RD12\\_01\\_37533.mzXML & BF1637\\_2\\_1\\_RD12                    & BF1637\\_2\\_1                           & BF1637                                   & 20                                       & ⋯                                        & 0                                        & 1                                        & 0                                        & 0                                        & 0                                        & 0                                        & 0                                        & 0                                        & 1                                        & 1                                       \\\\\n",
       "\\end{tabular}\n"
      ],
      "text/markdown": [
       "\n",
       "Sample_Location | X | Y | Z | Radius | filename | unique_sample_ID | unique_sample_ID.1 | ATTRIBUTE_sample_ID | ATTRIBUTE_Meds_number | ⋯ | ATTRIBUTE_prescribed_atenolol | ATTRIBUTE_prescribed_atorvastatin | ATTRIBUTE_prescribed_baclofen | ATTRIBUTE_prescribed_bisacodyl | ATTRIBUTE_prescribed_brimonidine | ATTRIBUTE_prescribed_budesonide | ATTRIBUTE_prescribed_calcitriol | ATTRIBUTE_prescribed_calcium.carbonate | ATTRIBUTE_prescribed_cephalexin | ATTRIBUTE_prescribed_cholecalciferol | \n",
       "|---|---|---|---|---|\n",
       "| 1                              | -1.585                         | 27.87                          | 12.2064                        | 1                              | AA3594_1_1_RA1_01_37666.mzXML  | AA3594_1_1_RA1                 | AA3594_1_1                     | AA3594                         | 22                             | ⋯                              | 0                              | 0                              | 1                              | 0                              | 0                              | 0                              | 0                              | 0                              | 0                              | 0                              | \n",
       "| 1                              | -1.585                         | 27.87                          | 12.2064                        | 1                              | LJ1904_1_1_RA1_01_37439.mzXML  | LJ1904_1_1_RA1                 | LJ1904_1_1                     | LJ1904                         | 15                             | ⋯                              | 0                              | 0                              | 0                              | 1                              | 0                              | 0                              | 0                              | 0                              | 0                              | 0                              | \n",
       "| 1                              | -1.585                         | 27.87                          | 12.2064                        | 1                              | US5662_2_1_RB1_01_37367.mzXML  | US5662_2_1_RB1                 | US5662_2_1                     | US5662                         | 19                             | ⋯                              | 0                              | 0                              | 0                              | 0                              | 0                              | 0                              | 1                              | 0                              | 0                              | 0                              | \n",
       "| 1                              | -1.585                         | 27.87                          | 12.2064                        | 1                              | GI1546_2_1_RA12_01_37557.mzXML | GI1546_2_1_RA12                | GI1546_2_1                     | GI1546                         | 13                             | ⋯                              | 0                              | 0                              | 0                              | 0                              | 0                              | 0                              | 0                              | 0                              | 0                              | 0                              | \n",
       "| 1                              | -1.585                         | 27.87                          | 12.2064                        | 1                              | BF1637_2_1_RD12_01_37533.mzXML | BF1637_2_1_RD12                | BF1637_2_1                     | BF1637                         | 20                             | ⋯                              | 0                              | 1                              | 0                              | 0                              | 0                              | 0                              | 0                              | 0                              | 1                              | 1                              | \n",
       "\n",
       "\n"
      ],
      "text/plain": [
       "  Sample_Location X      Y     Z       Radius filename                      \n",
       "1 1               -1.585 27.87 12.2064 1      AA3594_1_1_RA1_01_37666.mzXML \n",
       "2 1               -1.585 27.87 12.2064 1      LJ1904_1_1_RA1_01_37439.mzXML \n",
       "3 1               -1.585 27.87 12.2064 1      US5662_2_1_RB1_01_37367.mzXML \n",
       "4 1               -1.585 27.87 12.2064 1      GI1546_2_1_RA12_01_37557.mzXML\n",
       "5 1               -1.585 27.87 12.2064 1      BF1637_2_1_RD12_01_37533.mzXML\n",
       "  unique_sample_ID unique_sample_ID.1 ATTRIBUTE_sample_ID ATTRIBUTE_Meds_number\n",
       "1 AA3594_1_1_RA1   AA3594_1_1         AA3594              22                   \n",
       "2 LJ1904_1_1_RA1   LJ1904_1_1         LJ1904              15                   \n",
       "3 US5662_2_1_RB1   US5662_2_1         US5662              19                   \n",
       "4 GI1546_2_1_RA12  GI1546_2_1         GI1546              13                   \n",
       "5 BF1637_2_1_RD12  BF1637_2_1         BF1637              20                   \n",
       "  ⋯ ATTRIBUTE_prescribed_atenolol ATTRIBUTE_prescribed_atorvastatin\n",
       "1 ⋯ 0                             0                                \n",
       "2 ⋯ 0                             0                                \n",
       "3 ⋯ 0                             0                                \n",
       "4 ⋯ 0                             0                                \n",
       "5 ⋯ 0                             1                                \n",
       "  ATTRIBUTE_prescribed_baclofen ATTRIBUTE_prescribed_bisacodyl\n",
       "1 1                             0                             \n",
       "2 0                             1                             \n",
       "3 0                             0                             \n",
       "4 0                             0                             \n",
       "5 0                             0                             \n",
       "  ATTRIBUTE_prescribed_brimonidine ATTRIBUTE_prescribed_budesonide\n",
       "1 0                                0                              \n",
       "2 0                                0                              \n",
       "3 0                                0                              \n",
       "4 0                                0                              \n",
       "5 0                                0                              \n",
       "  ATTRIBUTE_prescribed_calcitriol ATTRIBUTE_prescribed_calcium.carbonate\n",
       "1 0                               0                                     \n",
       "2 0                               0                                     \n",
       "3 1                               0                                     \n",
       "4 0                               0                                     \n",
       "5 0                               0                                     \n",
       "  ATTRIBUTE_prescribed_cephalexin ATTRIBUTE_prescribed_cholecalciferol\n",
       "1 0                               0                                   \n",
       "2 0                               0                                   \n",
       "3 0                               0                                   \n",
       "4 0                               0                                   \n",
       "5 1                               1                                   "
      ]
     },
     "metadata": {},
     "output_type": "display_data"
    }
   ],
   "source": [
    "#head(ili_MS1_matrix)\n",
    "ili_MS1_matrix[1:5,1:25]"
   ]
  },
  {
   "cell_type": "code",
   "execution_count": 19,
   "metadata": {},
   "outputs": [],
   "source": [
    "ili_MS1_matrix_reorder <- cbind(ili_MS1_matrix[,c(which(colnames(ili_MS1_matrix)==c(\"filename\")))],\n",
    "                                ili_MS1_matrix[,c(which(colnames(ili_MS1_matrix)==c(\"X\")))], \n",
    "                                ili_MS1_matrix[,c(which(colnames(ili_MS1_matrix)==c(\"Y\")))],\n",
    "                                ili_MS1_matrix[,c(which(colnames(ili_MS1_matrix)==c(\"Z\")))],\n",
    "                                ili_MS1_matrix[,c(which(colnames(ili_MS1_matrix)==c(\"Radius\")))],\n",
    "                                ili_MS1_matrix[,c(which(colnames(ili_MS1_matrix)==c(\"ATTRIBUTE_sample_ID\")))],\n",
    "                                ili_MS1_matrix[,c(which(colnames(ili_MS1_matrix)==c(\"ATTRIBUTE_Timepoint\")))],\n",
    "                                ili_MS1_matrix[,c(which(colnames(ili_MS1_matrix)==c(\"Sample_Location\")))],\n",
    "                                ili_MS1_matrix[,-c(1:8)]\n",
    "                                )\n",
    "colnames(ili_MS1_matrix_reorder)[1:8] <- c(\"filename\",\"X\",\"Y\",\"Z\",\"Radii\",\"ATTRIBUTE_sample_ID\",\"ATTRIBUTE_Timepoint\",\"ATTRIBUTE_Body_Site\")"
   ]
  },
  {
   "cell_type": "code",
   "execution_count": 20,
   "metadata": {},
   "outputs": [
    {
     "data": {
      "text/html": [
       "<table>\n",
       "<thead><tr><th scope=col>filename</th><th scope=col>X</th><th scope=col>Y</th><th scope=col>Z</th><th scope=col>Radii</th><th scope=col>ATTRIBUTE_sample_ID</th><th scope=col>ATTRIBUTE_Timepoint</th><th scope=col>ATTRIBUTE_Body_Site</th><th scope=col>ATTRIBUTE_sample_ID.1</th><th scope=col>ATTRIBUTE_Meds_number</th><th scope=col>⋯</th><th scope=col>ATTRIBUTE_prescribed_atenolol</th><th scope=col>ATTRIBUTE_prescribed_atorvastatin</th><th scope=col>ATTRIBUTE_prescribed_baclofen</th><th scope=col>ATTRIBUTE_prescribed_bisacodyl</th><th scope=col>ATTRIBUTE_prescribed_brimonidine</th><th scope=col>ATTRIBUTE_prescribed_budesonide</th><th scope=col>ATTRIBUTE_prescribed_calcitriol</th><th scope=col>ATTRIBUTE_prescribed_calcium.carbonate</th><th scope=col>ATTRIBUTE_prescribed_cephalexin</th><th scope=col>ATTRIBUTE_prescribed_cholecalciferol</th></tr></thead>\n",
       "<tbody>\n",
       "\t<tr><td>AA3594_1_1_RA1_01_37666.mzXML </td><td>-1.585                        </td><td>27.87                         </td><td>12.2064                       </td><td>1                             </td><td>AA3594                        </td><td>1                             </td><td>1                             </td><td>AA3594                        </td><td>22                            </td><td>⋯                             </td><td>0                             </td><td>0                             </td><td>1                             </td><td>0                             </td><td>0                             </td><td>0                             </td><td>0                             </td><td>0                             </td><td>0                             </td><td>0                             </td></tr>\n",
       "\t<tr><td>LJ1904_1_1_RA1_01_37439.mzXML </td><td>-1.585                        </td><td>27.87                         </td><td>12.2064                       </td><td>1                             </td><td>LJ1904                        </td><td>1                             </td><td>1                             </td><td>LJ1904                        </td><td>15                            </td><td>⋯                             </td><td>0                             </td><td>0                             </td><td>0                             </td><td>1                             </td><td>0                             </td><td>0                             </td><td>0                             </td><td>0                             </td><td>0                             </td><td>0                             </td></tr>\n",
       "\t<tr><td>US5662_2_1_RB1_01_37367.mzXML </td><td>-1.585                        </td><td>27.87                         </td><td>12.2064                       </td><td>1                             </td><td>US5662                        </td><td>2                             </td><td>1                             </td><td>US5662                        </td><td>19                            </td><td>⋯                             </td><td>0                             </td><td>0                             </td><td>0                             </td><td>0                             </td><td>0                             </td><td>0                             </td><td>1                             </td><td>0                             </td><td>0                             </td><td>0                             </td></tr>\n",
       "\t<tr><td>GI1546_2_1_RA12_01_37557.mzXML</td><td>-1.585                        </td><td>27.87                         </td><td>12.2064                       </td><td>1                             </td><td>GI1546                        </td><td>2                             </td><td>1                             </td><td>GI1546                        </td><td>13                            </td><td>⋯                             </td><td>0                             </td><td>0                             </td><td>0                             </td><td>0                             </td><td>0                             </td><td>0                             </td><td>0                             </td><td>0                             </td><td>0                             </td><td>0                             </td></tr>\n",
       "\t<tr><td>BF1637_2_1_RD12_01_37533.mzXML</td><td>-1.585                        </td><td>27.87                         </td><td>12.2064                       </td><td>1                             </td><td>BF1637                        </td><td>2                             </td><td>1                             </td><td>BF1637                        </td><td>20                            </td><td>⋯                             </td><td>0                             </td><td>1                             </td><td>0                             </td><td>0                             </td><td>0                             </td><td>0                             </td><td>0                             </td><td>0                             </td><td>1                             </td><td>1                             </td></tr>\n",
       "</tbody>\n",
       "</table>\n"
      ],
      "text/latex": [
       "\\begin{tabular}{r|lllllllllllllllllllllllll}\n",
       " filename & X & Y & Z & Radii & ATTRIBUTE\\_sample\\_ID & ATTRIBUTE\\_Timepoint & ATTRIBUTE\\_Body\\_Site & ATTRIBUTE\\_sample\\_ID.1 & ATTRIBUTE\\_Meds\\_number & ⋯ & ATTRIBUTE\\_prescribed\\_atenolol & ATTRIBUTE\\_prescribed\\_atorvastatin & ATTRIBUTE\\_prescribed\\_baclofen & ATTRIBUTE\\_prescribed\\_bisacodyl & ATTRIBUTE\\_prescribed\\_brimonidine & ATTRIBUTE\\_prescribed\\_budesonide & ATTRIBUTE\\_prescribed\\_calcitriol & ATTRIBUTE\\_prescribed\\_calcium.carbonate & ATTRIBUTE\\_prescribed\\_cephalexin & ATTRIBUTE\\_prescribed\\_cholecalciferol\\\\\n",
       "\\hline\n",
       "\t AA3594\\_1\\_1\\_RA1\\_01\\_37666.mzXML  & -1.585                                   & 27.87                                    & 12.2064                                  & 1                                        & AA3594                                   & 1                                        & 1                                        & AA3594                                   & 22                                       & ⋯                                        & 0                                        & 0                                        & 1                                        & 0                                        & 0                                        & 0                                        & 0                                        & 0                                        & 0                                        & 0                                       \\\\\n",
       "\t LJ1904\\_1\\_1\\_RA1\\_01\\_37439.mzXML  & -1.585                                   & 27.87                                    & 12.2064                                  & 1                                        & LJ1904                                   & 1                                        & 1                                        & LJ1904                                   & 15                                       & ⋯                                        & 0                                        & 0                                        & 0                                        & 1                                        & 0                                        & 0                                        & 0                                        & 0                                        & 0                                        & 0                                       \\\\\n",
       "\t US5662\\_2\\_1\\_RB1\\_01\\_37367.mzXML  & -1.585                                   & 27.87                                    & 12.2064                                  & 1                                        & US5662                                   & 2                                        & 1                                        & US5662                                   & 19                                       & ⋯                                        & 0                                        & 0                                        & 0                                        & 0                                        & 0                                        & 0                                        & 1                                        & 0                                        & 0                                        & 0                                       \\\\\n",
       "\t GI1546\\_2\\_1\\_RA12\\_01\\_37557.mzXML & -1.585                                   & 27.87                                    & 12.2064                                  & 1                                        & GI1546                                   & 2                                        & 1                                        & GI1546                                   & 13                                       & ⋯                                        & 0                                        & 0                                        & 0                                        & 0                                        & 0                                        & 0                                        & 0                                        & 0                                        & 0                                        & 0                                       \\\\\n",
       "\t BF1637\\_2\\_1\\_RD12\\_01\\_37533.mzXML & -1.585                                   & 27.87                                    & 12.2064                                  & 1                                        & BF1637                                   & 2                                        & 1                                        & BF1637                                   & 20                                       & ⋯                                        & 0                                        & 1                                        & 0                                        & 0                                        & 0                                        & 0                                        & 0                                        & 0                                        & 1                                        & 1                                       \\\\\n",
       "\\end{tabular}\n"
      ],
      "text/markdown": [
       "\n",
       "filename | X | Y | Z | Radii | ATTRIBUTE_sample_ID | ATTRIBUTE_Timepoint | ATTRIBUTE_Body_Site | ATTRIBUTE_sample_ID.1 | ATTRIBUTE_Meds_number | ⋯ | ATTRIBUTE_prescribed_atenolol | ATTRIBUTE_prescribed_atorvastatin | ATTRIBUTE_prescribed_baclofen | ATTRIBUTE_prescribed_bisacodyl | ATTRIBUTE_prescribed_brimonidine | ATTRIBUTE_prescribed_budesonide | ATTRIBUTE_prescribed_calcitriol | ATTRIBUTE_prescribed_calcium.carbonate | ATTRIBUTE_prescribed_cephalexin | ATTRIBUTE_prescribed_cholecalciferol | \n",
       "|---|---|---|---|---|\n",
       "| AA3594_1_1_RA1_01_37666.mzXML  | -1.585                         | 27.87                          | 12.2064                        | 1                              | AA3594                         | 1                              | 1                              | AA3594                         | 22                             | ⋯                              | 0                              | 0                              | 1                              | 0                              | 0                              | 0                              | 0                              | 0                              | 0                              | 0                              | \n",
       "| LJ1904_1_1_RA1_01_37439.mzXML  | -1.585                         | 27.87                          | 12.2064                        | 1                              | LJ1904                         | 1                              | 1                              | LJ1904                         | 15                             | ⋯                              | 0                              | 0                              | 0                              | 1                              | 0                              | 0                              | 0                              | 0                              | 0                              | 0                              | \n",
       "| US5662_2_1_RB1_01_37367.mzXML  | -1.585                         | 27.87                          | 12.2064                        | 1                              | US5662                         | 2                              | 1                              | US5662                         | 19                             | ⋯                              | 0                              | 0                              | 0                              | 0                              | 0                              | 0                              | 1                              | 0                              | 0                              | 0                              | \n",
       "| GI1546_2_1_RA12_01_37557.mzXML | -1.585                         | 27.87                          | 12.2064                        | 1                              | GI1546                         | 2                              | 1                              | GI1546                         | 13                             | ⋯                              | 0                              | 0                              | 0                              | 0                              | 0                              | 0                              | 0                              | 0                              | 0                              | 0                              | \n",
       "| BF1637_2_1_RD12_01_37533.mzXML | -1.585                         | 27.87                          | 12.2064                        | 1                              | BF1637                         | 2                              | 1                              | BF1637                         | 20                             | ⋯                              | 0                              | 1                              | 0                              | 0                              | 0                              | 0                              | 0                              | 0                              | 1                              | 1                              | \n",
       "\n",
       "\n"
      ],
      "text/plain": [
       "  filename                       X      Y     Z       Radii ATTRIBUTE_sample_ID\n",
       "1 AA3594_1_1_RA1_01_37666.mzXML  -1.585 27.87 12.2064 1     AA3594             \n",
       "2 LJ1904_1_1_RA1_01_37439.mzXML  -1.585 27.87 12.2064 1     LJ1904             \n",
       "3 US5662_2_1_RB1_01_37367.mzXML  -1.585 27.87 12.2064 1     US5662             \n",
       "4 GI1546_2_1_RA12_01_37557.mzXML -1.585 27.87 12.2064 1     GI1546             \n",
       "5 BF1637_2_1_RD12_01_37533.mzXML -1.585 27.87 12.2064 1     BF1637             \n",
       "  ATTRIBUTE_Timepoint ATTRIBUTE_Body_Site ATTRIBUTE_sample_ID.1\n",
       "1 1                   1                   AA3594               \n",
       "2 1                   1                   LJ1904               \n",
       "3 2                   1                   US5662               \n",
       "4 2                   1                   GI1546               \n",
       "5 2                   1                   BF1637               \n",
       "  ATTRIBUTE_Meds_number ⋯ ATTRIBUTE_prescribed_atenolol\n",
       "1 22                    ⋯ 0                            \n",
       "2 15                    ⋯ 0                            \n",
       "3 19                    ⋯ 0                            \n",
       "4 13                    ⋯ 0                            \n",
       "5 20                    ⋯ 0                            \n",
       "  ATTRIBUTE_prescribed_atorvastatin ATTRIBUTE_prescribed_baclofen\n",
       "1 0                                 1                            \n",
       "2 0                                 0                            \n",
       "3 0                                 0                            \n",
       "4 0                                 0                            \n",
       "5 1                                 0                            \n",
       "  ATTRIBUTE_prescribed_bisacodyl ATTRIBUTE_prescribed_brimonidine\n",
       "1 0                              0                               \n",
       "2 1                              0                               \n",
       "3 0                              0                               \n",
       "4 0                              0                               \n",
       "5 0                              0                               \n",
       "  ATTRIBUTE_prescribed_budesonide ATTRIBUTE_prescribed_calcitriol\n",
       "1 0                               0                              \n",
       "2 0                               0                              \n",
       "3 0                               1                              \n",
       "4 0                               0                              \n",
       "5 0                               0                              \n",
       "  ATTRIBUTE_prescribed_calcium.carbonate ATTRIBUTE_prescribed_cephalexin\n",
       "1 0                                      0                              \n",
       "2 0                                      0                              \n",
       "3 0                                      0                              \n",
       "4 0                                      0                              \n",
       "5 0                                      1                              \n",
       "  ATTRIBUTE_prescribed_cholecalciferol\n",
       "1 0                                   \n",
       "2 0                                   \n",
       "3 0                                   \n",
       "4 0                                   \n",
       "5 1                                   "
      ]
     },
     "metadata": {},
     "output_type": "display_data"
    }
   ],
   "source": [
    "ili_MS1_matrix_reorder[1:5,1:25]"
   ]
  },
  {
   "cell_type": "code",
   "execution_count": 12,
   "metadata": {},
   "outputs": [
    {
     "data": {
      "text/html": [
       "<ol class=list-inline>\n",
       "\t<li>298</li>\n",
       "\t<li>20692</li>\n",
       "</ol>\n"
      ],
      "text/latex": [
       "\\begin{enumerate*}\n",
       "\\item 298\n",
       "\\item 20692\n",
       "\\end{enumerate*}\n"
      ],
      "text/markdown": [
       "1. 298\n",
       "2. 20692\n",
       "\n",
       "\n"
      ],
      "text/plain": [
       "[1]   298 20692"
      ]
     },
     "metadata": {},
     "output_type": "display_data"
    },
    {
     "data": {
      "text/html": [
       "<ol class=list-inline>\n",
       "\t<li>298</li>\n",
       "\t<li>20691</li>\n",
       "</ol>\n"
      ],
      "text/latex": [
       "\\begin{enumerate*}\n",
       "\\item 298\n",
       "\\item 20691\n",
       "\\end{enumerate*}\n"
      ],
      "text/markdown": [
       "1. 298\n",
       "2. 20691\n",
       "\n",
       "\n"
      ],
      "text/plain": [
       "[1]   298 20691"
      ]
     },
     "metadata": {},
     "output_type": "display_data"
    }
   ],
   "source": [
    "dim(ili_MS1_matrix)\n",
    "dim(ili_MS1_matrix_reorder)"
   ]
  },
  {
   "cell_type": "code",
   "execution_count": 21,
   "metadata": {},
   "outputs": [],
   "source": [
    "write.csv(ili_MS1_matrix_reorder,\"Analysis_Matrix/20180702_Immunosuppressant15Skin_ili_MS1.csv\", row.names=FALSE)"
   ]
  },
  {
   "cell_type": "code",
   "execution_count": 22,
   "metadata": {},
   "outputs": [],
   "source": [
    "AA3594_TP1 <- subset(ili_MS1_matrix_reorder, \n",
    "                 ili_MS1_matrix_reorder$ATTRIBUTE_sample_ID == \"AA3594\" & \n",
    "                     ili_MS1_matrix_reorder$ATTRIBUTE_Timepoint == \"1\")\n",
    "AA3594_TP2 <- subset(ili_MS1_matrix_reorder, \n",
    "                 ili_MS1_matrix_reorder$ATTRIBUTE_sample_ID == \"AA3594\" & \n",
    "                     ili_MS1_matrix_reorder$ATTRIBUTE_Timepoint == \"2\")\n",
    "JH7190_TP1 <- subset(ili_MS1_matrix_reorder, \n",
    "                 ili_MS1_matrix_reorder$ATTRIBUTE_sample_ID == \"JH7190\" & \n",
    "                     ili_MS1_matrix_reorder$ATTRIBUTE_Timepoint == \"1\")\n",
    "JH7190_TP2 <- subset(ili_MS1_matrix_reorder, \n",
    "                 ili_MS1_matrix_reorder$ATTRIBUTE_sample_ID == \"JH7190\" & \n",
    "                     ili_MS1_matrix_reorder$ATTRIBUTE_Timepoint == \"2\")\n",
    "US5662_TP1 <- subset(ili_MS1_matrix_reorder, \n",
    "                 ili_MS1_matrix_reorder$ATTRIBUTE_sample_ID == \"US5662\" & \n",
    "                     ili_MS1_matrix_reorder$ATTRIBUTE_Timepoint == \"1\")\n",
    "US5662_TP2 <- subset(ili_MS1_matrix_reorder, \n",
    "                 ili_MS1_matrix_reorder$ATTRIBUTE_sample_ID == \"US5662\" & \n",
    "                     ili_MS1_matrix_reorder$ATTRIBUTE_Timepoint == \"2\")\n",
    "GI1546_TP1 <- subset(ili_MS1_matrix_reorder, \n",
    "                 ili_MS1_matrix_reorder$ATTRIBUTE_sample_ID == \"GI1546\" & \n",
    "                     ili_MS1_matrix_reorder$ATTRIBUTE_Timepoint == \"1\")\n",
    "GI1546_TP2 <- subset(ili_MS1_matrix_reorder, \n",
    "                 ili_MS1_matrix_reorder$ATTRIBUTE_sample_ID == \"GI1546\" & \n",
    "                     ili_MS1_matrix_reorder$ATTRIBUTE_Timepoint == \"2\")\n",
    "WW5157_TP1 <- subset(ili_MS1_matrix_reorder, \n",
    "                 ili_MS1_matrix_reorder$ATTRIBUTE_sample_ID == \"WW5157\" & \n",
    "                     ili_MS1_matrix_reorder$ATTRIBUTE_Timepoint == \"1\")\n",
    "WW5157_TP2 <- subset(ili_MS1_matrix_reorder, \n",
    "                 ili_MS1_matrix_reorder$ATTRIBUTE_sample_ID == \"WW5157\" & \n",
    "                     ili_MS1_matrix_reorder$ATTRIBUTE_Timepoint == \"2\")\n",
    "MB7148_TP1 <- subset(ili_MS1_matrix_reorder, \n",
    "                 ili_MS1_matrix_reorder$ATTRIBUTE_sample_ID == \"MB7148\" & \n",
    "                     ili_MS1_matrix_reorder$ATTRIBUTE_Timepoint == \"1\")\n",
    "MB7148_TP2 <- subset(ili_MS1_matrix_reorder, \n",
    "                 ili_MS1_matrix_reorder$ATTRIBUTE_sample_ID == \"MB7148\" & \n",
    "                     ili_MS1_matrix_reorder$ATTRIBUTE_Timepoint == \"2\")\n",
    "TR0174_TP1 <- subset(ili_MS1_matrix_reorder, \n",
    "                 ili_MS1_matrix_reorder$ATTRIBUTE_sample_ID == \"TR0174\" & \n",
    "                     ili_MS1_matrix_reorder$ATTRIBUTE_Timepoint == \"1\")\n",
    "TR0174_TP2 <- subset(ili_MS1_matrix_reorder, \n",
    "                 ili_MS1_matrix_reorder$ATTRIBUTE_sample_ID == \"TR0174\" & \n",
    "                     ili_MS1_matrix_reorder$ATTRIBUTE_Timepoint == \"2\")\n",
    "LJ1904_TP1 <- subset(ili_MS1_matrix_reorder, \n",
    "                 ili_MS1_matrix_reorder$ATTRIBUTE_sample_ID == \"LJ1904\" & \n",
    "                     ili_MS1_matrix_reorder$ATTRIBUTE_Timepoint == \"1\")\n",
    "LJ1904_TP2 <- subset(ili_MS1_matrix_reorder, \n",
    "                 ili_MS1_matrix_reorder$ATTRIBUTE_sample_ID == \"LJ1904\" & \n",
    "                     ili_MS1_matrix_reorder$ATTRIBUTE_Timepoint == \"2\")\n",
    "GM5968_TP1 <- subset(ili_MS1_matrix_reorder, \n",
    "                 ili_MS1_matrix_reorder$ATTRIBUTE_sample_ID == \"GM5968\" & \n",
    "                     ili_MS1_matrix_reorder$ATTRIBUTE_Timepoint == \"1\")\n",
    "GM5968_TP2 <- subset(ili_MS1_matrix_reorder, \n",
    "                 ili_MS1_matrix_reorder$ATTRIBUTE_sample_ID == \"GM5968\" & \n",
    "                     ili_MS1_matrix_reorder$ATTRIBUTE_Timepoint == \"2\")\n",
    "CH3954_TP1 <- subset(ili_MS1_matrix_reorder, \n",
    "                 ili_MS1_matrix_reorder$ATTRIBUTE_sample_ID == \"CH3954\" & \n",
    "                     ili_MS1_matrix_reorder$ATTRIBUTE_Timepoint == \"1\")\n",
    "CH3954_TP2 <- subset(ili_MS1_matrix_reorder, \n",
    "                 ili_MS1_matrix_reorder$ATTRIBUTE_sample_ID == \"CH3954\" & \n",
    "                     ili_MS1_matrix_reorder$ATTRIBUTE_Timepoint == \"2\")\n",
    "MM9865_TP1 <- subset(ili_MS1_matrix_reorder, \n",
    "                 ili_MS1_matrix_reorder$ATTRIBUTE_sample_ID == \"MM9865\" & \n",
    "                     ili_MS1_matrix_reorder$ATTRIBUTE_Timepoint == \"1\")\n",
    "MM9865_TP2 <- subset(ili_MS1_matrix_reorder, \n",
    "                 ili_MS1_matrix_reorder$ATTRIBUTE_sample_ID == \"MM9865\" & \n",
    "                     ili_MS1_matrix_reorder$ATTRIBUTE_Timepoint == \"2\")\n",
    "MA2568_TP1 <- subset(ili_MS1_matrix_reorder, \n",
    "                 ili_MS1_matrix_reorder$ATTRIBUTE_sample_ID == \"MA2568\" & \n",
    "                     ili_MS1_matrix_reorder$ATTRIBUTE_Timepoint == \"1\")\n",
    "MA2568_TP2 <- subset(ili_MS1_matrix_reorder, \n",
    "                 ili_MS1_matrix_reorder$ATTRIBUTE_sample_ID == \"MA2568\" & \n",
    "                     ili_MS1_matrix_reorder$ATTRIBUTE_Timepoint == \"2\")\n",
    "BF1637_TP1 <- subset(ili_MS1_matrix_reorder, \n",
    "                 ili_MS1_matrix_reorder$ATTRIBUTE_sample_ID == \"BF1637\" & \n",
    "                     ili_MS1_matrix_reorder$ATTRIBUTE_Timepoint == \"1\")\n",
    "BF1637_TP2 <- subset(ili_MS1_matrix_reorder, \n",
    "                 ili_MS1_matrix_reorder$ATTRIBUTE_sample_ID == \"BF1637\" & \n",
    "                     ili_MS1_matrix_reorder$ATTRIBUTE_Timepoint == \"2\")\n",
    "MA3256_TP1 <- subset(ili_MS1_matrix_reorder, \n",
    "                 ili_MS1_matrix_reorder$ATTRIBUTE_sample_ID == \"MA3256\" & \n",
    "                     ili_MS1_matrix_reorder$ATTRIBUTE_Timepoint == \"1\")\n",
    "MA3256_TP2 <- subset(ili_MS1_matrix_reorder, \n",
    "                 ili_MS1_matrix_reorder$ATTRIBUTE_sample_ID == \"MA3256\" & \n",
    "                     ili_MS1_matrix_reorder$ATTRIBUTE_Timepoint == \"2\")\n",
    "SG5350_TP1 <- subset(ili_MS1_matrix_reorder, \n",
    "                 ili_MS1_matrix_reorder$ATTRIBUTE_sample_ID == \"SG5350\" & \n",
    "                     ili_MS1_matrix_reorder$ATTRIBUTE_Timepoint == \"1\")\n",
    "SG5350_TP2 <- subset(ili_MS1_matrix_reorder, \n",
    "                 ili_MS1_matrix_reorder$ATTRIBUTE_sample_ID == \"SG5350\" | \n",
    "                     ili_MS1_matrix_reorder$ATTRIBUTE_Timepoint == \"2\")"
   ]
  },
  {
   "cell_type": "code",
   "execution_count": 23,
   "metadata": {},
   "outputs": [],
   "source": [
    "write.csv(AA3594_TP1,\"ili/20180702_Immunosuppressant15Skin_ili_MS1_AA3594_TP1.csv\", row.names=FALSE)\n",
    "write.csv(AA3594_TP2,\"ili/20180702_Immunosuppressant15Skin_ili_MS1_AA3594_TP2.csv\", row.names=FALSE)\n",
    "\n",
    "write.csv(JH7190_TP1,\"ili/20180702_Immunosuppressant15Skin_ili_MS1_JH7190_TP1.csv\", row.names=FALSE)\n",
    "write.csv(JH7190_TP2,\"ili/20180702_Immunosuppressant15Skin_ili_MS1_JH7190_TP2.csv\", row.names=FALSE)\n",
    "\n",
    "write.csv(US5662_TP1,\"ili/20180702_Immunosuppressant15Skin_ili_MS1_US5662_TP1.csv\", row.names=FALSE)\n",
    "write.csv(US5662_TP2,\"ili/20180702_Immunosuppressant15Skin_ili_MS1_US5662_TP2.csv\", row.names=FALSE)\n",
    "\n",
    "write.csv(GI1546_TP1,\"ili/20180702_Immunosuppressant15Skin_ili_MS1_GI1546_TP1.csv\", row.names=FALSE)\n",
    "write.csv(GI1546_TP2,\"ili/20180702_Immunosuppressant15Skin_ili_MS1_GI1546_TP2.csv\", row.names=FALSE)\n",
    "\n",
    "write.csv(WW5157_TP1,\"ili/20180702_Immunosuppressant15Skin_ili_MS1_WW5157_TP1.csv\", row.names=FALSE)\n",
    "write.csv(WW5157_TP2,\"ili/20180702_Immunosuppressant15Skin_ili_MS1_WW5157_TP2.csv\", row.names=FALSE)\n",
    "\n",
    "write.csv(MB7148_TP1,\"ili/20180702_Immunosuppressant15Skin_ili_MS1_MB7148_TP1.csv\", row.names=FALSE)\n",
    "write.csv(MB7148_TP2,\"ili/20180702_Immunosuppressant15Skin_ili_MS1_MB7148_TP2.csv\", row.names=FALSE)\n",
    "\n",
    "write.csv(TR0174_TP1,\"ili/20180702_Immunosuppressant15Skin_ili_MS1_TR0174_TP1.csv\", row.names=FALSE)\n",
    "write.csv(TR0174_TP2,\"ili/20180702_Immunosuppressant15Skin_ili_MS1_TR0174_TP2.csv\", row.names=FALSE)\n",
    "\n",
    "write.csv(LJ1904_TP1,\"ili/20180702_Immunosuppressant15Skin_ili_MS1_LJ1904_TP1.csv\", row.names=FALSE)\n",
    "write.csv(LJ1904_TP2,\"ili/20180702_Immunosuppressant15Skin_ili_MS1_LJ1904_TP2.csv\", row.names=FALSE)\n",
    "\n",
    "write.csv(GM5968_TP1,\"ili/20180702_Immunosuppressant15Skin_ili_MS1_GM5968_TP1.csv\", row.names=FALSE)\n",
    "write.csv(GM5968_TP2,\"ili/20180702_Immunosuppressant15Skin_ili_MS1_GM5968_TP2.csv\", row.names=FALSE)\n",
    "\n",
    "write.csv(CH3954_TP1,\"ili/20180702_Immunosuppressant15Skin_ili_MS1_CH3954_TP1.csv\", row.names=FALSE)\n",
    "write.csv(CH3954_TP2,\"ili/20180702_Immunosuppressant15Skin_ili_MS1_CH3954_TP2.csv\", row.names=FALSE)\n",
    "\n",
    "write.csv(MM9865_TP1,\"ili/20180702_Immunosuppressant15Skin_ili_MS1_MM9865_TP1.csv\", row.names=FALSE)\n",
    "write.csv(MM9865_TP2,\"ili/20180702_Immunosuppressant15Skin_ili_MS1_MM9865_TP2.csv\", row.names=FALSE)\n",
    "\n",
    "write.csv(MA2568_TP1,\"ili/20180702_Immunosuppressant15Skin_ili_MS1_MA2568_TP1.csv\", row.names=FALSE)\n",
    "write.csv(MA2568_TP2,\"ili/20180702_Immunosuppressant15Skin_ili_MS1_MA2568_TP2.csv\", row.names=FALSE)\n",
    "\n",
    "write.csv(BF1637_TP1,\"ili/20180702_Immunosuppressant15Skin_ili_MS1_BF1637_TP1.csv\", row.names=FALSE)\n",
    "write.csv(BF1637_TP2,\"ili/20180702_Immunosuppressant15Skin_ili_MS1_BF1637_TP2.csv\", row.names=FALSE)\n",
    "\n",
    "write.csv(MA3256_TP1,\"ili/20180702_Immunosuppressant15Skin_ili_MS1_MA3256_TP1.csv\", row.names=FALSE)\n",
    "write.csv(MA3256_TP2,\"ili/20180702_Immunosuppressant15Skin_ili_MS1_MA3256_TP2.csv\", row.names=FALSE)\n",
    "\n",
    "write.csv(SG5350_TP1,\"ili/20180702_Immunosuppressant15Skin_ili_MS1_SG5350_TP1.csv\", row.names=FALSE)\n",
    "write.csv(SG5350_TP2,\"ili/20180702_Immunosuppressant15Skin_ili_MS1_SG5350_TP2.csv\", row.names=FALSE)"
   ]
  },
  {
   "cell_type": "code",
   "execution_count": null,
   "metadata": {},
   "outputs": [],
   "source": []
  }
 ],
 "metadata": {
  "kernelspec": {
   "display_name": "R",
   "language": "R",
   "name": "ir"
  },
  "language_info": {
   "codemirror_mode": "r",
   "file_extension": ".r",
   "mimetype": "text/x-r-source",
   "name": "R",
   "pygments_lexer": "r",
   "version": "3.5.0"
  }
 },
 "nbformat": 4,
 "nbformat_minor": 2
}
